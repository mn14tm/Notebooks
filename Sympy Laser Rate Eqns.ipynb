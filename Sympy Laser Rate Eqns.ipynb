{
 "cells": [
  {
   "cell_type": "code",
   "execution_count": 2,
   "metadata": {
    "collapsed": true
   },
   "outputs": [],
   "source": [
    "from sympy import *\n",
    "init_printing()"
   ]
  },
  {
   "cell_type": "code",
   "execution_count": 3,
   "metadata": {
    "collapsed": false
   },
   "outputs": [],
   "source": [
    "N, N_1, N_2, N_3, W_p, t_3, t_32, t_21 = symbols('N, N_1, N_2, N_3, W_p, t_3, t_32, t_21')"
   ]
  },
  {
   "cell_type": "code",
   "execution_count": 4,
   "metadata": {
    "collapsed": false
   },
   "outputs": [],
   "source": [
    "beta, eta, t_rad = symbols('beta, eta, t_rad')"
   ]
  },
  {
   "cell_type": "code",
   "execution_count": 5,
   "metadata": {
    "collapsed": false
   },
   "outputs": [],
   "source": [
    "exp1 = Eq(W_p*(N_1-N_3) - N_3/t_3, 0)\n",
    "exp2 = Eq(N_3 / t_32 - N_2/t_21, 0)"
   ]
  },
  {
   "cell_type": "code",
   "execution_count": 6,
   "metadata": {
    "collapsed": false
   },
   "outputs": [
    {
     "data": {
      "image/png": "[encoded data removed]",
      "text/latex": [
       "$$\\frac{N_{1} W_{p} t_{21} t_{3}}{t_{32} \\left(W_{p} t_{3} + 1\\right)}$$"
      ],
      "text/plain": [
       " N₁⋅W_p⋅t₂₁⋅t₃  \n",
       "────────────────\n",
       "t₃₂⋅(W_p⋅t₃ + 1)"
      ]
     },
     "execution_count": 6,
     "metadata": {},
     "output_type": "execute_result"
    }
   ],
   "source": [
    "N2ss = solve(exp2, N_2)[0]\n",
    "N2ss = N2ss.subs(N_3, solve(exp1, N_3)[0]); N2ss"
   ]
  },
  {
   "cell_type": "code",
   "execution_count": 15,
   "metadata": {
    "collapsed": false,
    "scrolled": true
   },
   "outputs": [
    {
     "data": {
      "image/png": "[encoded data removed]",
      "text/latex": [
       "$$\\frac{1}{N} \\left(\\frac{N_{1} W_{p} t_{21} t_{3}}{t_{32} \\left(W_{p} t_{3} + 1\\right)} - N_{1}\\right)$$"
      ],
      "text/plain": [
       " N₁⋅W_p⋅t₂₁⋅t₃       \n",
       "──────────────── - N₁\n",
       "t₃₂⋅(W_p⋅t₃ + 1)     \n",
       "─────────────────────\n",
       "          N          "
      ]
     },
     "execution_count": 15,
     "metadata": {},
     "output_type": "execute_result"
    }
   ],
   "source": [
    "RHS = (N2ss - N_1)/N; RHS"
   ]
  },
  {
   "cell_type": "code",
   "execution_count": 29,
   "metadata": {
    "collapsed": false
   },
   "outputs": [
    {
     "data": {
      "image/png": "[encoded data removed]",
      "text/latex": [
       "$$\\frac{\\frac{N_{1} W_{p} \\eta t_{rad}}{W_{p} t_{3} + 1} - N_{1}}{N_{1} + N_{2} + N_{3}}$$"
      ],
      "text/plain": [
       "N₁⋅W_p⋅η⋅t_rad     \n",
       "────────────── - N₁\n",
       "  W_p⋅t₃ + 1       \n",
       "───────────────────\n",
       "    N₁ + N₂ + N₃   "
      ]
     },
     "execution_count": 29,
     "metadata": {},
     "output_type": "execute_result"
    }
   ],
   "source": [
    "a = RHS.subs(((t_3*t_21)/t_32),(t_rad*eta))\n",
    "a2 = a.subs(N, (N_1+N_2+N_3))\n",
    "a2"
   ]
  },
  {
   "cell_type": "code",
   "execution_count": 32,
   "metadata": {
    "collapsed": false
   },
   "outputs": [
    {
     "data": {
      "image/png": "[encoded data removed]",
      "text/latex": [
       "$$\\frac{\\frac{N_{1} W_{p} \\eta t_{rad}}{W_{p} t_{3} + 1} - N_{1}}{N_{1} + N_{3} \\beta + N_{3}}$$"
      ],
      "text/plain": [
       "N₁⋅W_p⋅η⋅t_rad     \n",
       "────────────── - N₁\n",
       "  W_p⋅t₃ + 1       \n",
       "───────────────────\n",
       "   N₁ + N₃⋅β + N₃  "
      ]
     },
     "execution_count": 32,
     "metadata": {},
     "output_type": "execute_result"
    }
   ],
   "source": [
    "a3 = a2.subs(N_2, (beta*N_3))\n",
    "a3"
   ]
  },
  {
   "cell_type": "code",
   "execution_count": 35,
   "metadata": {
    "collapsed": false
   },
   "outputs": [
    {
     "data": {
      "image/png": "[encoded data removed]",
      "text/latex": [
       "$$\\frac{W_{p} \\eta t_{rad} - W_{p} t_{3} - 1}{W_{p} \\beta t_{3} + 2 W_{p} t_{3} + 1}$$"
      ],
      "text/plain": [
       "W_p⋅η⋅t_rad - W_p⋅t₃ - 1\n",
       "────────────────────────\n",
       "W_p⋅β⋅t₃ + 2⋅W_p⋅t₃ + 1 "
      ]
     },
     "execution_count": 35,
     "metadata": {},
     "output_type": "execute_result"
    }
   ],
   "source": [
    "a4 = simplify(a3.subs(N_3, solve(exp1, N_3)[0]))\n",
    "a4"
   ]
  },
  {
   "cell_type": "code",
   "execution_count": null,
   "metadata": {
    "collapsed": true
   },
   "outputs": [],
   "source": [
    "a4.subs()"
   ]
  }
 ],
 "metadata": {
  "kernelspec": {
   "display_name": "Python 3",
   "language": "python",
   "name": "python3"
  },
  "language_info": {
   "codemirror_mode": {
    "name": "ipython",
    "version": 3
   },
   "file_extension": ".py",
   "mimetype": "text/x-python",
   "name": "python",
   "nbconvert_exporter": "python",
   "pygments_lexer": "ipython3",
   "version": "3.5.1"
  }
 },
 "nbformat": 4,
 "nbformat_minor": 0
}
