{
 "cells": [
  {
   "cell_type": "code",
   "execution_count": 4,
   "metadata": {},
   "outputs": [],
   "source": [
    "import numpy as np\n",
    "import pandas as pd\n",
    "import matplotlib.pyplot as plt\n",
    "%matplotlib notebook"
   ]
  },
  {
   "cell_type": "markdown",
   "metadata": {},
   "source": [
    "TZN Target Glass fabrication - calculate batch weight required of each compound.\n",
    "Note: sometimes Na2O is used in place of Na2CO3"
   ]
  },
  {
   "cell_type": "code",
   "execution_count": 14,
   "metadata": {},
   "outputs": [
    {
     "data": {
      "text/html": [
       "<div>\n",
       "<style scoped>\n",
       "    .dataframe tbody tr th:only-of-type {\n",
       "        vertical-align: middle;\n",
       "    }\n",
       "\n",
       "    .dataframe tbody tr th {\n",
       "        vertical-align: top;\n",
       "    }\n",
       "\n",
       "    .dataframe thead th {\n",
       "        text-align: right;\n",
       "    }\n",
       "</style>\n",
       "<table border=\"1\" class=\"dataframe\">\n",
       "  <thead>\n",
       "    <tr style=\"text-align: right;\">\n",
       "      <th></th>\n",
       "      <th>mol %</th>\n",
       "      <th>Formulae weight</th>\n",
       "      <th>Molecular weight</th>\n",
       "      <th>Mass [g]</th>\n",
       "    </tr>\n",
       "  </thead>\n",
       "  <tbody>\n",
       "    <tr>\n",
       "      <th>Er2O3</th>\n",
       "      <td>0.075</td>\n",
       "      <td>382.516</td>\n",
       "      <td>0.287</td>\n",
       "      <td>0.068</td>\n",
       "    </tr>\n",
       "    <tr>\n",
       "      <th>TeO2</th>\n",
       "      <td>79.925</td>\n",
       "      <td>159.599</td>\n",
       "      <td>127.559</td>\n",
       "      <td>30.457</td>\n",
       "    </tr>\n",
       "    <tr>\n",
       "      <th>ZnO</th>\n",
       "      <td>10.000</td>\n",
       "      <td>81.408</td>\n",
       "      <td>8.141</td>\n",
       "      <td>1.944</td>\n",
       "    </tr>\n",
       "    <tr>\n",
       "      <th>Na2CO3</th>\n",
       "      <td>10.000</td>\n",
       "      <td>105.988</td>\n",
       "      <td>10.599</td>\n",
       "      <td>2.531</td>\n",
       "    </tr>\n",
       "    <tr>\n",
       "      <th>Total</th>\n",
       "      <td>100.000</td>\n",
       "      <td>729.512</td>\n",
       "      <td>146.586</td>\n",
       "      <td>35.000</td>\n",
       "    </tr>\n",
       "  </tbody>\n",
       "</table>\n",
       "</div>"
      ],
      "text/plain": [
       "          mol %  Formulae weight  Molecular weight  Mass [g]\n",
       "Er2O3     0.075          382.516             0.287     0.068\n",
       "TeO2     79.925          159.599           127.559    30.457\n",
       "ZnO      10.000           81.408             8.141     1.944\n",
       "Na2CO3   10.000          105.988            10.599     2.531\n",
       "Total   100.000          729.512           146.586    35.000"
      ]
     },
     "execution_count": 14,
     "metadata": {},
     "output_type": "execute_result"
    }
   ],
   "source": [
    "#### USER INPUT ####\n",
    "g = 35         # Batch weight [g]\n",
    "er_mol = 0.075  # Erbium oxide doping concentration [mol %]\n",
    "\n",
    "#### CALCULATIONS ####\n",
    "from periodictable import O, Na, Zn, Te, Er, C\n",
    "\n",
    "# Molar composition of glass\n",
    "mol_percent = {'Er2O3'    :er_mol,\n",
    "               'TeO2'     :80.0 - er_mol, \n",
    "               'ZnO'      :10.0,\n",
    "               'Na2CO3'   :10.0,\n",
    "              }\n",
    "\n",
    "df = pd.DataFrame(data=mol_percent, index=['mol %']).T\n",
    "df['Formulae weight'] = [Er.mass*2 + O.mass*3, \n",
    "                         Te.mass + O.mass*2, \n",
    "                         Zn.mass + O.mass, \n",
    "                         Na.mass*2 + C.mass + O.mass*3]\n",
    "df['Molecular weight'] = df['mol %'] / 100 * df['Formulae weight']\n",
    "sums = df.sum().rename('Total')\n",
    "df = df.append(sums)\n",
    "M = df['Molecular weight']['Total']\n",
    "df['Mass [g]'] = g * df['Molecular weight'] / M\n",
    "df.round(3)"
   ]
  },
  {
   "cell_type": "code",
   "execution_count": 15,
   "metadata": {},
   "outputs": [
    {
     "data": {
      "text/html": [
       "<div>\n",
       "<style scoped>\n",
       "    .dataframe tbody tr th:only-of-type {\n",
       "        vertical-align: middle;\n",
       "    }\n",
       "\n",
       "    .dataframe tbody tr th {\n",
       "        vertical-align: top;\n",
       "    }\n",
       "\n",
       "    .dataframe thead th {\n",
       "        text-align: right;\n",
       "    }\n",
       "</style>\n",
       "<table border=\"1\" class=\"dataframe\">\n",
       "  <thead>\n",
       "    <tr style=\"text-align: right;\">\n",
       "      <th></th>\n",
       "      <th>mol %</th>\n",
       "    </tr>\n",
       "  </thead>\n",
       "  <tbody>\n",
       "    <tr>\n",
       "      <th>Er</th>\n",
       "      <td>0.030</td>\n",
       "    </tr>\n",
       "    <tr>\n",
       "      <th>Te</th>\n",
       "      <td>26.642</td>\n",
       "    </tr>\n",
       "    <tr>\n",
       "      <th>Zn</th>\n",
       "      <td>5.000</td>\n",
       "    </tr>\n",
       "    <tr>\n",
       "      <th>Na</th>\n",
       "      <td>6.667</td>\n",
       "    </tr>\n",
       "    <tr>\n",
       "      <th>O</th>\n",
       "      <td>61.662</td>\n",
       "    </tr>\n",
       "    <tr>\n",
       "      <th>Total</th>\n",
       "      <td>100.000</td>\n",
       "    </tr>\n",
       "  </tbody>\n",
       "</table>\n",
       "</div>"
      ],
      "text/plain": [
       "         mol %\n",
       "Er       0.030\n",
       "Te      26.642\n",
       "Zn       5.000\n",
       "Na       6.667\n",
       "O       61.662\n",
       "Total  100.000"
      ]
     },
     "execution_count": 15,
     "metadata": {},
     "output_type": "execute_result"
    }
   ],
   "source": [
    "# Calculate corresponding elemental composition\n",
    "df = pd.DataFrame(data=[], index=['Er', 'Te', 'Zn', 'Na', 'O'])\n",
    "df['at %'] = [mol_percent['Er2O3'] * 2/5,\n",
    "               mol_percent['TeO2'] * 1/3,\n",
    "               mol_percent['ZnO'] * 1/2,\n",
    "               mol_percent['Na2CO3'] * 2/3,  # Assuming CO2 evaporates off\n",
    "               mol_percent['Er2O3']*3/5 + mol_percent['TeO2']*2/3 + mol_percent['ZnO']*1/2 + mol_percent['Na2CO3']*1/3\n",
    "              ]\n",
    "sums = df.sum().rename('Total')\n",
    "df = df.append(sums)\n",
    "df.round(3)"
   ]
  },
  {
   "cell_type": "markdown",
   "metadata": {},
   "source": [
    "# Atomic Number Density\n",
    "\n",
    "REF: http://holbert.faculty.asu.edu/eee460/NumberDensity.pdf\n",
    "\n",
    "The number of atoms or molecules, N, in a mass of a pure material, m [g], having atomic or molecular\n",
    "weight, M [g/mol], is easily computed from the following equation using Avogadro's number, N$_A$ = 6.022E+23\n",
    "[at./mol] : \n",
    "\n",
    "$$\n",
    "N = \\frac{m N_A}{M}.\n",
    "$$\n",
    "\n",
    "The atomic number density, n [at./cm3], which is the concentration of atoms or molecules per\n",
    "unit volume, V [cm3], is an easier quantity to find when the material density, ρ [g/cm3], is given using the relation:\n",
    "\n",
    "$$\n",
    "n = \\frac{N}{V} = \\frac{\\rho N_A}{M}.\n",
    "$$\n",
    "\n",
    "The molecular weight, M [u $\\equiv$ g/mol] is calculated by:\n",
    "\n",
    "$$\n",
    "M = \\sum_{elements} u \\cdot \\frac{at.\\%}{100}\n",
    "$$\n",
    "\n",
    "where the atomic percent [at.%] is the percent of atoms/molecules in a material and can be measured via EDX analysis. "
   ]
  },
  {
   "cell_type": "code",
   "execution_count": null,
   "metadata": {},
   "outputs": [],
   "source": []
  },
  {
   "cell_type": "code",
   "execution_count": 7,
   "metadata": {},
   "outputs": [
    {
     "ename": "NameError",
     "evalue": "name 'n' is not defined",
     "output_type": "error",
     "traceback": [
      "\u001b[0;31m---------------------------------------------------------------------------\u001b[0m",
      "\u001b[0;31mNameError\u001b[0m                                 Traceback (most recent call last)",
      "\u001b[0;32m<ipython-input-7-90d48f017624>\u001b[0m in \u001b[0;36m<module>\u001b[0;34m()\u001b[0m\n\u001b[1;32m      1\u001b[0m \u001b[0;31m#### USER INPUT ####\u001b[0m\u001b[0;34m\u001b[0m\u001b[0;34m\u001b[0m\u001b[0m\n\u001b[1;32m      2\u001b[0m \u001b[0mrho\u001b[0m \u001b[0;34m=\u001b[0m \u001b[0;36m5.25\u001b[0m     \u001b[0;31m# Material Density [g/cm3]\u001b[0m\u001b[0;34m\u001b[0m\u001b[0m\n\u001b[0;32m----> 3\u001b[0;31m \u001b[0mn\u001b[0m              \u001b[0;31m# Atomic number density - calculate from EDX or theoretically\u001b[0m\u001b[0;34m\u001b[0m\u001b[0m\n\u001b[0m\u001b[1;32m      4\u001b[0m \u001b[0;34m\u001b[0m\u001b[0m\n\u001b[1;32m      5\u001b[0m \u001b[0;31m#### CALCULATIONS ####\u001b[0m\u001b[0;34m\u001b[0m\u001b[0;34m\u001b[0m\u001b[0m\n",
      "\u001b[0;31mNameError\u001b[0m: name 'n' is not defined"
     ]
    }
   ],
   "source": [
    "#### USER INPUT ####\n",
    "rho = 5.25     # Material Density [g/cm3]\n",
    "n              # Atomic number density [at./cm3] - calculate from EDX or theoretically\n",
    "\n",
    "#### CALCULATIONS ####\n",
    "from scipy.constants import N_A\n",
    "n = rho * N_A / M\n",
    "print('Atomic number density: {:.3g} at./cm3'.format(n))\n",
    "\n",
    "# Element number density -  multiplying the Atomic density with erbium concentration \n",
    "print('Erbium number density: {:.3g} at./cm3'.format(n*at_percent['erbium']/100))\n",
    "\n",
    "n_at = n*at_percent['erbium']/100\n",
    "r = pow(3/(4*np.pi*n_at),1/3)  # Wigner-Seitz radius\n",
    "print('Average element spacing <r> = {:.3g} nm'.format(r*1E9))"
   ]
  },
  {
   "cell_type": "code",
   "execution_count": null,
   "metadata": {},
   "outputs": [],
   "source": []
  }
 ],
 "metadata": {
  "kernelspec": {
   "display_name": "Python 3",
   "language": "python",
   "name": "python3"
  },
  "language_info": {
   "codemirror_mode": {
    "name": "ipython",
    "version": 3
   },
   "file_extension": ".py",
   "mimetype": "text/x-python",
   "name": "python",
   "nbconvert_exporter": "python",
   "pygments_lexer": "ipython3",
   "version": "3.6.6"
  }
 },
 "nbformat": 4,
 "nbformat_minor": 2
}
