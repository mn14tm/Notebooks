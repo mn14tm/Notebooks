{
 "cells": [
  {
   "cell_type": "code",
   "execution_count": null,
   "metadata": {
    "collapsed": true
   },
   "outputs": [],
   "source": [
    "import matplotlib.pyplot as plt\n",
    "%matplotlib inline\n",
    "\n",
    "import numpy as np\n",
    "from numpy import exp"
   ]
  },
  {
   "cell_type": "code",
   "execution_count": null,
   "metadata": {
    "collapsed": false
   },
   "outputs": [],
   "source": [
    "tau = 10          # Lifetime in ms\n",
    "N = 10000         # Number of events (atoms)\n",
    "\n",
    "data = np.random.exponential(tau, N)\n",
    "# Add noise to signal. Std of 4\n",
    "# data = data + np.random.normal(0, 100, N)"
   ]
  },
  {
   "cell_type": "code",
   "execution_count": null,
   "metadata": {
    "collapsed": false
   },
   "outputs": [],
   "source": [
    "M = 50            # Total number of detection channels\n",
    "T = 0.25*tau      # Channel time length\n",
    "\n",
    "# detection time\n",
    "detecT = M * T\n",
    "\n",
    "print('Detection time = %.2f lifetimes' % ((M*T)/tau))"
   ]
  },
  {
   "cell_type": "code",
   "execution_count": null,
   "metadata": {
    "collapsed": false
   },
   "outputs": [],
   "source": [
    "bins = np.linspace(T,T*M, M)\n",
    "# evaluate the histogram\n",
    "values, base = np.histogram(data, bins=bins)\n",
    "#evaluate the cumulative\n",
    "cumulative = np.cumsum(values)\n",
    "# plot the cumulative function\n",
    "plt.plot(base[:-1], cumulative, '.-', c='blue')\n",
    "# plot the survival function\n",
    "plt.plot(base[:-1], N-cumulative, '.-', c='green')"
   ]
  },
  {
   "cell_type": "code",
   "execution_count": null,
   "metadata": {
    "collapsed": false
   },
   "outputs": [],
   "source": [
    "CRLB = 1/((T/tau)**2 * ((exp(T/tau)/(exp(T/tau)-1)**2) - (M**2*exp(M*T/tau)/(exp(M*T/tau)-1)**2)))\n",
    "CRLB * tau**2 / N"
   ]
  },
  {
   "cell_type": "code",
   "execution_count": null,
   "metadata": {
    "collapsed": false
   },
   "outputs": [],
   "source": [
    "# Set up your observed y values, sd (10)\n",
    "yObs = decay = N-cumulative+np.random.normal(0, 100, len(bins)-1)\n",
    "\n",
    "# Define the likelihood function where params is a list of initial parameter estimates\n",
    "def model_func(params):\n",
    "    # Resave the initial parameter guesses\n",
    "    b0 = params[0]\n",
    "    b1 = params[1]\n",
    "    sd = params[2]\n",
    "      \n",
    "    # Calculate the predicted values from the initial parameter guesses\n",
    "    \n",
    "    yPred = b0 + b1*x\n",
    "    \n",
    "    # Calculate the negative log-likelihood as the negative sum of the log of a normal\n",
    "    # PDF where the observed values are normally distributed around the mean (yPred)\n",
    "    # with a standard deviation of sd\n",
    "    logLik = -np.sum( stats.norm.logpdf(yObs, loc=yPred, scale=sd) )\n",
    "    \n",
    "    # Tell the function to return the NLL (this is what will be minimized)\n",
    "    return a*np.exp(-t/b)+c\n",
    "\n",
    "# Make a list of initial parameter guesses (b0, b1, sd)    \n",
    "initParams = [max(decay)-min(decay), 10, min(decay)]\n",
    "\n",
    "# Run the minimizer\n",
    "results = minimize(model_func, initParams, method='nelder-mead')\n",
    "\n",
    "# Print the results. They should be really close to your actual values\n",
    "print(results.x)"
   ]
  },
  {
   "cell_type": "code",
   "execution_count": null,
   "metadata": {
    "collapsed": false
   },
   "outputs": [],
   "source": [
    "# http://stackoverflow.com/questions/7718034/maximum-likelihood-estimate-pseudocode\n",
    "\n",
    "# import the packages\n",
    "import numpy as np\n",
    "from scipy.optimize import minimize\n",
    "import scipy.stats as stats\n",
    "import time\n",
    "\n",
    "# Set up your x values\n",
    "x = np.linspace(0, 100, num=100)\n",
    "\n",
    "# Set up your observed y values with a known slope (2.4), intercept (5), and sd (4)\n",
    "yObs = 5 + 2.4*x + np.random.normal(0, 4, 100)\n",
    "\n",
    "# Define the likelihood function where params is a list of initial parameter estimates\n",
    "def regressLL(params):\n",
    "    # Resave the initial parameter guesses\n",
    "    b0 = params[0]\n",
    "    b1 = params[1]\n",
    "    sd = params[2]\n",
    "\n",
    "    # Calculate the predicted values from the initial parameter guesses\n",
    "    yPred = b0 + b1*x\n",
    "\n",
    "    # Calculate the negative log-likelihood as the negative sum of the log of a normal\n",
    "    # PDF where the observed values are normally distributed around the mean (yPred)\n",
    "    # with a standard deviation of sd\n",
    "    logLik = -np.sum( stats.norm.logpdf(yObs, loc=yPred, scale=sd) )\n",
    "\n",
    "    # Tell the function to return the NLL (this is what will be minimized)\n",
    "    return(logLik)\n",
    "\n",
    "# Make a list of initial parameter guesses (b0, b1, sd)    \n",
    "initParams = [1, 1, 1]\n",
    "\n",
    "# Run the minimizer\n",
    "results = minimize(regressLL, initParams, method='nelder-mead')\n",
    "\n",
    "# Print the results. They should be really close to your actual values\n",
    "print(results.x)"
   ]
  },
  {
   "cell_type": "code",
   "execution_count": 4,
   "metadata": {
    "collapsed": false
   },
   "outputs": [],
   "source": []
  },
  {
   "cell_type": "markdown",
   "metadata": {
    "collapsed": true
   },
   "source": [
    "# With Data"
   ]
  },
  {
   "cell_type": "code",
   "execution_count": 1,
   "metadata": {
    "collapsed": false
   },
   "outputs": [],
   "source": [
    "%load_ext autoreload\n",
    "%autoreload 2\n",
    "# Import Lifetime package\n",
    "import sys\n",
    "sys.path.append('/Users/Thomas/Desktop/github/lifetime')\n",
    "\n",
    "import lifetime.glucosense as gluco"
   ]
  },
  {
   "cell_type": "code",
   "execution_count": 2,
   "metadata": {
    "collapsed": true
   },
   "outputs": [],
   "source": [
    "file = gluco.getFiles()[0]"
   ]
  },
  {
   "cell_type": "code",
   "execution_count": null,
   "metadata": {
    "collapsed": true
   },
   "outputs": [],
   "source": []
  }
 ],
 "metadata": {
  "kernelspec": {
   "display_name": "Python 3",
   "language": "python",
   "name": "python3"
  },
  "language_info": {
   "codemirror_mode": {
    "name": "ipython",
    "version": 3
   },
   "file_extension": ".py",
   "mimetype": "text/x-python",
   "name": "python",
   "nbconvert_exporter": "python",
   "pygments_lexer": "ipython3",
   "version": "3.5.1"
  }
 },
 "nbformat": 4,
 "nbformat_minor": 0
}
