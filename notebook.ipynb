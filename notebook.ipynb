{
 "cells": [
  {
   "cell_type": "code",
   "execution_count": 1,
   "metadata": {},
   "outputs": [],
   "source": [
    "import numpy as np\n",
    "import matplotlib.pyplot as plt\n",
    "%matplotlib notebook"
   ]
  },
  {
   "cell_type": "markdown",
   "metadata": {},
   "source": [
    "# Material Optical Properties\n",
    "## Cauchy Equation\n",
    "Equation describing the refractive index $n$ at wavelength $\\lambda$: \n",
    "\n",
    "$$\n",
    "n(\\lambda) = B + \\frac{C}{\\lambda^2} + \\frac{D}{\\lambda^2}\n",
    "$$\n",
    "\n",
    "Coefficient values references:\n",
    "\n",
    "* photolithography resist\n",
    "    * SU-8-2010 (negative resist): https://github.com/NanoLabStaff/nanolab/wiki/SU-8-2100\n",
    "    * S1813/S1818 (positive resist): https://github.com/NanoLabStaff/nanolab/wiki/S1813\n",
    "    * MichroCherm PMMA: http://microchem.com/pdf/PMMA_Data_Sheet.pdf"
   ]
  },
  {
   "cell_type": "code",
   "execution_count": 9,
   "metadata": {},
   "outputs": [],
   "source": [
    "def cauchy(lam, B, C, D=0):\n",
    "    \"\"\"\n",
    "    Cauchy's Equation\n",
    "    lam: wavelength [um]\n",
    "    B, C, D: coefficients for lam as the vacuum wavelength in um\n",
    "    \"\"\"\n",
    "    return B + C/(pow(lam, 2))+ D/(pow(lam, 4))"
   ]
  },
  {
   "cell_type": "code",
   "execution_count": 28,
   "metadata": {},
   "outputs": [
    {
     "data": {
      "text/plain": [
       "1.5693812750367742"
      ]
     },
     "execution_count": 28,
     "metadata": {},
     "output_type": "execute_result"
    }
   ],
   "source": [
    "# Negative resist: SU-8-2100\n",
    "B = 1.566\n",
    "C = 0.00796\n",
    "D = 0.00014\n",
    "\n",
    "lam = 1540e-3\n",
    "cauchy(lam, B, C, D)"
   ]
  },
  {
   "cell_type": "code",
   "execution_count": 27,
   "metadata": {},
   "outputs": [
    {
     "data": {
      "text/plain": [
       "1.6014572343044233"
      ]
     },
     "execution_count": 27,
     "metadata": {},
     "output_type": "execute_result"
    }
   ],
   "source": [
    "# Positive resist: S1813\n",
    "B = 1.5935\n",
    "C = 0.018854\n",
    "D = 0.000041211\n",
    "\n",
    "lam = 1540e-3\n",
    "cauchy(lam, B, C, D)"
   ]
  },
  {
   "cell_type": "code",
   "execution_count": 26,
   "metadata": {},
   "outputs": [
    {
     "data": {
      "text/plain": [
       "1.4892500335319496"
      ]
     },
     "execution_count": 26,
     "metadata": {},
     "output_type": "execute_result"
    }
   ],
   "source": [
    "# 950 PMMA\n",
    "B = 1.488\n",
    "C = 2.898e-3\n",
    "D = 1.579e-4\n",
    "\n",
    "lam = 1540e-3\n",
    "cauchy(lam, B, C, D)"
   ]
  },
  {
   "cell_type": "markdown",
   "metadata": {},
   "source": [
    "## Lenses"
   ]
  },
  {
   "cell_type": "code",
   "execution_count": 29,
   "metadata": {},
   "outputs": [
    {
     "data": {
      "text/plain": [
       "367.1991413286771"
      ]
     },
     "execution_count": 29,
     "metadata": {},
     "output_type": "execute_result"
    }
   ],
   "source": [
    "# Choosing the f of a lens to focus collimated light to a spot\n",
    "# https://www.thorlabs.com/newgrouppage9.cfm?objectgroup_id=3812 - Fiber coupling tab\n",
    "\n",
    "D = 3.6E-3  # Diameter of collimated lens [mm]\n",
    "w = 0.2E-3  # Diameter of spot/ mode field diameter of fiber\n",
    "lam = 1540E-9  # Wavelength [m]\n",
    "\n",
    "f = np.pi * D * w / (4*lam)\n",
    "f*1E3\n",
    "\n",
    "# member, for optimum coupling the spot size of the focused beam must be less than the MFD of the single mode fiber. \n",
    "# As a result, if an aspheric lens is not available that provides an exact match, \n",
    "# then choose the aspheric lens with a focal length that is shorter than the calculation above yields. "
   ]
  },
  {
   "cell_type": "code",
   "execution_count": 38,
   "metadata": {},
   "outputs": [
    {
     "name": "stdout",
     "output_type": "stream",
     "text": [
      "Spot diameter: 10.02 um\n"
     ]
    }
   ],
   "source": [
    "# Calculate diameter of the diffraction-limited spot size\n",
    "D = 3.6E-3  # Diameter of collimated lens [mm]\n",
    "lam = 1540E-9  # Wavelength [m]\n",
    "f = 18.4E-3  # Focal length of the lens [m]\n",
    "\n",
    "w = 4 *lam*f / (np.pi*D)  # Diameter of the spot [m]\n",
    "print('Spot diameter: {:.2f} um'.format(w*1E6))"
   ]
  },
  {
   "cell_type": "code",
   "execution_count": null,
   "metadata": {},
   "outputs": [],
   "source": []
  }
 ],
 "metadata": {
  "kernelspec": {
   "display_name": "Python 3",
   "language": "python",
   "name": "python3"
  },
  "language_info": {
   "codemirror_mode": {
    "name": "ipython",
    "version": 3
   },
   "file_extension": ".py",
   "mimetype": "text/x-python",
   "name": "python",
   "nbconvert_exporter": "python",
   "pygments_lexer": "ipython3",
   "version": "3.7.3"
  }
 },
 "nbformat": 4,
 "nbformat_minor": 2
}
