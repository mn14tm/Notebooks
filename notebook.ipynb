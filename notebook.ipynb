{
 "cells": [
  {
   "cell_type": "code",
   "execution_count": 29,
   "metadata": {},
   "outputs": [
    {
     "data": {
      "text/plain": [
       "367.1991413286771"
      ]
     },
     "execution_count": 29,
     "metadata": {},
     "output_type": "execute_result"
    }
   ],
   "source": [
    "# Choosing the f of a lens to focus collimated light to a spot\n",
    "# https://www.thorlabs.com/newgrouppage9.cfm?objectgroup_id=3812 - Fiber coupling tab\n",
    "\n",
    "D = 3.6E-3  # Diameter of collimated lens [mm]\n",
    "w = 0.2E-3  # Diameter of spot/ mode field diameter of fiber\n",
    "lam = 1540E-9  # Wavelength [m]\n",
    "\n",
    "f = np.pi * D * w / (4*lam)\n",
    "f*1E3\n",
    "\n",
    "# member, for optimum coupling the spot size of the focused beam must be less than the MFD of the single mode fiber. \n",
    "# As a result, if an aspheric lens is not available that provides an exact match, \n",
    "# then choose the aspheric lens with a focal length that is shorter than the calculation above yields. "
   ]
  },
  {
   "cell_type": "code",
   "execution_count": 38,
   "metadata": {},
   "outputs": [
    {
     "name": "stdout",
     "output_type": "stream",
     "text": [
      "Spot diameter: 10.02 um\n"
     ]
    }
   ],
   "source": [
    "# Calculate diameter of the diffraction-limited spot size\n",
    "D = 3.6E-3  # Diameter of collimated lens [mm]\n",
    "lam = 1540E-9  # Wavelength [m]\n",
    "f = 18.4E-3  # Focal length of the lens [m]\n",
    "\n",
    "w = 4 *lam*f / (np.pi*D)  # Diameter of the spot [m]\n",
    "print('Spot diameter: {:.2f} um'.format(w*1E6))"
   ]
  },
  {
   "cell_type": "code",
   "execution_count": null,
   "metadata": {},
   "outputs": [],
   "source": []
  }
 ],
 "metadata": {
  "kernelspec": {
   "display_name": "Python 3",
   "language": "python",
   "name": "python3"
  },
  "language_info": {
   "codemirror_mode": {
    "name": "ipython",
    "version": 3
   },
   "file_extension": ".py",
   "mimetype": "text/x-python",
   "name": "python",
   "nbconvert_exporter": "python",
   "pygments_lexer": "ipython3",
   "version": "3.6.6"
  }
 },
 "nbformat": 4,
 "nbformat_minor": 2
}
