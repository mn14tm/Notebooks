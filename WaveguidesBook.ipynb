{
 "cells": [
  {
   "cell_type": "code",
   "execution_count": 1,
   "metadata": {
    "collapsed": true
   },
   "outputs": [],
   "source": [
    "import numpy as np\n",
    "import matplotlib.pyplot as plt\n",
    "%matplotlib inline\n",
    "\n",
    "# from numpy import pi, cos, sin"
   ]
  },
  {
   "cell_type": "code",
   "execution_count": 5,
   "metadata": {
    "collapsed": true
   },
   "outputs": [],
   "source": [
    "lam = 1550     # Vacuum wavelength (nm)\n",
    "a = 1000       # core thickness (nm)\n",
    "\n",
    "# Material Refractive Index\n",
    "silica_n = 1.45\n",
    "\n",
    "# Core and Cladding Refractive Index\n",
    "n0 = silica_n  # top layer\n",
    "n1 = 1.6       # core\n",
    "ns = silica_n  # bottom cladding"
   ]
  },
  {
   "cell_type": "code",
   "execution_count": 3,
   "metadata": {
    "collapsed": false
   },
   "outputs": [],
   "source": [
    "# Max theta incident on waveguide for TIRF to allow waveguiding/ light acceptance angle in degrees:\n",
    "theta_max = np.degrees(np.arcsin(np.sqrt(n1**2 - n0**2))) # (1.1)\n",
    "NA = np.radians(theta_max)  # Numerical Aperture (1.4)\n",
    "\n",
    "# Propagation angle inside core\n",
    "phi_max = np.degrees(np.sin(NA) / n1)  # (Snell's Law)"
   ]
  },
  {
   "cell_type": "code",
   "execution_count": 7,
   "metadata": {
    "collapsed": false
   },
   "outputs": [],
   "source": [
    "k = 2*np.pi / lam    # Free space wavenumber\n",
    "# k1 = k * n1        # Core Wavenumber\n",
    "# lam1 = lam / n1    # Core Wavenumber\n",
    "\n",
    "# Propagation constants\n",
    "beta = k*n1*np.cos(np.radians(phi_max))  # Along z. Note k*n1 is core wavenumber(1.5)\n",
    "kappa = k*n1*np.sin(np.radians(phi_max)) # Along lateral (1.6)\n",
    "\n",
    "# Wavenumbers along x (2.8)\n",
    "kappa = np.sqrt(k**2 * n1**2 - beta**2)\n",
    "sigma = np.sqrt(beta**2 - k**2 * n0**2)\n",
    "epsilon = np.sqrt(beta**2 - k**2 * ns**2)"
   ]
  },
  {
   "cell_type": "code",
   "execution_count": null,
   "metadata": {
    "collapsed": false
   },
   "outputs": [],
   "source": [
    "# Calculate E_y (2.7)\n",
    "x = np.linspace(-4*a,4*a,1000)\n",
    "E1 = 1\n",
    "Ey = np.zeros(x.size)\n",
    "for i, posn in enumerate(x):\n",
    "    if posn <= -a:\n",
    "        Ey[i] = E1*np.cos(kappa*a)*np.exp(epsilon*(posn+a))\n",
    "    elif posn >= a:\n",
    "        Ey[i] = E1*np.cos(kappa*a)*np.exp(-sigma*(posn-a))\n",
    "    elif (posn <=a) & (posn>=-a):\n",
    "        Ey[i] = E1*np.cos(kappa*posn)\n",
    "        \n",
    "plt.plot(x,Ey)\n",
    "plt.axvspan(-a, a, alpha=0.3, color='red')  # Colour Waveguide Core"
   ]
  },
  {
   "cell_type": "code",
   "execution_count": null,
   "metadata": {
    "collapsed": false
   },
   "outputs": [],
   "source": [
    "u = kappa*a\n",
    "w = epsilon*a\n",
    "w1 = sigma*a"
   ]
  },
  {
   "cell_type": "code",
   "execution_count": null,
   "metadata": {
    "collapsed": false
   },
   "outputs": [],
   "source": [
    "m=0\n",
    "u = (m*np.pi/2)+0.5*np.arctan(w/u)+0.5*np.arctan(w1/u)\n",
    "psi = (m*np.pi/2)+0.5*np.arctan(w/u)-0.5*np.arctan(w1/u)"
   ]
  },
  {
   "cell_type": "code",
   "execution_count": null,
   "metadata": {
    "collapsed": true
   },
   "outputs": [],
   "source": [
    "ne = np.linspace(ns,n1,1000)"
   ]
  },
  {
   "cell_type": "code",
   "execution_count": null,
   "metadata": {
    "collapsed": false
   },
   "outputs": [],
   "source": [
    "b = (ne**2-ns**2)/(n1**2-ns**2)    #normalised propagation constant"
   ]
  },
  {
   "cell_type": "code",
   "execution_count": null,
   "metadata": {
    "collapsed": false
   },
   "outputs": [],
   "source": [
    "u = np.linspace(0,10,1000)\n",
    "w = u*np.tan (u-m*(np.pi/2))"
   ]
  },
  {
   "cell_type": "code",
   "execution_count": null,
   "metadata": {
    "collapsed": false
   },
   "outputs": [],
   "source": [
    "plt.plot(u, w, 'o-')\n",
    "plt.ylim(0,10)\n",
    "plt.figure()\n",
    "plt.plot(u,2*w)\n"
   ]
  },
  {
   "cell_type": "code",
   "execution_count": null,
   "metadata": {
    "collapsed": false
   },
   "outputs": [],
   "source": [
    "# Solve for epsilon_m\n",
    "def func(x):\n",
    "    return np.cos(x)**2 + 6 - x\n",
    "\n",
    "optimize.brentq(func, 6, 7)"
   ]
  }
 ],
 "metadata": {
  "kernelspec": {
   "display_name": "Python 3",
   "language": "python",
   "name": "python3"
  },
  "language_info": {
   "codemirror_mode": {
    "name": "ipython",
    "version": 3
   },
   "file_extension": ".py",
   "mimetype": "text/x-python",
   "name": "python",
   "nbconvert_exporter": "python",
   "pygments_lexer": "ipython3",
   "version": "3.4.3"
  }
 },
 "nbformat": 4,
 "nbformat_minor": 0
}
