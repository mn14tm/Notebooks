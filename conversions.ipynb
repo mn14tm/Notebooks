{
 "cells": [
  {
   "cell_type": "markdown",
   "metadata": {},
   "source": [
    "# Conversions"
   ]
  },
  {
   "cell_type": "code",
   "execution_count": 3,
   "metadata": {},
   "outputs": [],
   "source": [
    "from math import *"
   ]
  },
  {
   "cell_type": "markdown",
   "metadata": {},
   "source": [
    "## Photonics"
   ]
  },
  {
   "cell_type": "code",
   "execution_count": 1,
   "metadata": {},
   "outputs": [
    {
     "name": "stdout",
     "output_type": "stream",
     "text": [
      "Wavenumber = 6666.67 cm^-1\n"
     ]
    }
   ],
   "source": [
    "# Wavelength -> Wavenumber\n",
    "lam = 1.5 # um\n",
    "wave_nm = 1/(lam*1E-4)\n",
    "print('Wavenumber = %.2f cm^-1' % wave_nm)"
   ]
  },
  {
   "cell_type": "code",
   "execution_count": 18,
   "metadata": {},
   "outputs": [
    {
     "name": "stdout",
     "output_type": "stream",
     "text": [
      "Wavelength  = 1.67 um\n"
     ]
    }
   ],
   "source": [
    "# Wavenumber -> Wavelength\n",
    "wave_nm = 6000 # cm^-1\n",
    "lam = 1E4/ wave_nm\n",
    "print('Wavelength  = %.2f um' % lam)"
   ]
  },
  {
   "cell_type": "code",
   "execution_count": 2,
   "metadata": {},
   "outputs": [
    {
     "name": "stdout",
     "output_type": "stream",
     "text": [
      "Energy per photon = 1.324283E-19 J = 8.276770E-01 eV\n"
     ]
    }
   ],
   "source": [
    "# Photon energy [eV]\n",
    "h = 6.626E-34\n",
    "c = 299792458 # m/s\n",
    "\n",
    "lam = 1.5E-6 # m\n",
    "\n",
    "E = h*c/lam\n",
    "print('Energy per photon = %E J = %E eV' % (E, E/1.6E-19))"
   ]
  },
  {
   "cell_type": "markdown",
   "metadata": {},
   "source": [
    "# Concentration Dilution"
   ]
  },
  {
   "cell_type": "code",
   "execution_count": 3,
   "metadata": {},
   "outputs": [
    {
     "name": "stdout",
     "output_type": "stream",
     "text": [
      "100.0\n"
     ]
    }
   ],
   "source": [
    "c_i = 1 # M\n",
    "v_f = 0.2 # Final volume desired (L)\n",
    "c_f = 5 # mM final conc.\n",
    "\n",
    "v_i = v_f*c_f*10E-3 / c_i\n",
    "\n",
    "print(v_i*10E3)"
   ]
  },
  {
   "cell_type": "markdown",
   "metadata": {},
   "source": [
    "# Skin Optics Summary - OMLC"
   ]
  },
  {
   "cell_type": "code",
   "execution_count": 6,
   "metadata": {},
   "outputs": [
    {
     "name": "stdout",
     "output_type": "stream",
     "text": [
      "0.2240000689157263\n"
     ]
    }
   ],
   "source": [
    "nm = 1540       # Wavelength\n",
    "mua_skinbaseline = 0.224 + 85.3*exp(-(nm-154)/66.2)\n",
    "\n",
    "print(mua_skinbaseline)"
   ]
  },
  {
   "cell_type": "code",
   "execution_count": 10,
   "metadata": {},
   "outputs": [
    {
     "name": "stdout",
     "output_type": "stream",
     "text": [
      "1.325546\n"
     ]
    }
   ],
   "source": [
    "C_g = 20\n",
    "n = 1.325 + 2.73*pow(10,-5)*C_g\n",
    "print(n)"
   ]
  },
  {
   "cell_type": "code",
   "execution_count": null,
   "metadata": {},
   "outputs": [],
   "source": []
  }
 ],
 "metadata": {
  "kernelspec": {
   "display_name": "Python 3",
   "language": "python",
   "name": "python3"
  },
  "language_info": {
   "codemirror_mode": {
    "name": "ipython",
    "version": 3
   },
   "file_extension": ".py",
   "mimetype": "text/x-python",
   "name": "python",
   "nbconvert_exporter": "python",
   "pygments_lexer": "ipython3",
   "version": "3.6.4"
  }
 },
 "nbformat": 4,
 "nbformat_minor": 1
}
