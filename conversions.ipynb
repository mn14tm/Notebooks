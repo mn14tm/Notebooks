{
 "worksheets": [
  {
   "cells": [
    {
     "cell_type": "markdown",
     "metadata": {},
     "source": [
      "# Conversions"
     ]
    },
    {
     "cell_type": "code",
     "execution_count": null,
     "metadata": {},
     "outputs": [],
     "input": [
      "from math import *"
     ],
     "language": "python",
     "prompt_number": 3
    },
    {
     "cell_type": "markdown",
     "metadata": {},
     "source": [
      "## Wavelength and Wavenumber"
     ]
    },
    {
     "cell_type": "code",
     "execution_count": null,
     "metadata": {},
     "outputs": [
      {
       "output_type": "stream",
       "stream": "stdout",
       "text": [
        "Wavenumber = 6666.67 cm^-1\n"
       ]
      }
     ],
     "input": [
      "# Wavelength -> Wavenumber\n",
      "lam = 1.5 # um\n",
      "wave_nm = 1/(lam*1E-4)\n",
      "\n",
      "print('Wavenumber = %.2f cm^-1' % wave_nm)"
     ],
     "language": "python",
     "prompt_number": 16
    },
    {
     "cell_type": "code",
     "execution_count": null,
     "metadata": {},
     "outputs": [
      {
       "output_type": "stream",
       "stream": "stdout",
       "text": [
        "Wavelength  = 1.67 um\n"
       ]
      }
     ],
     "input": [
      "# Wavenumber -> Wavelength\n",
      "wave_nm = 6000 # cm^-1\n",
      "lam = 1E4/ wave_nm\n",
      "print('Wavelength  = %.2f um' % lam)"
     ],
     "language": "python",
     "prompt_number": 18
    },
    {
     "cell_type": "markdown",
     "metadata": {},
     "source": [
      "## Energy of a Photon"
     ]
    },
    {
     "cell_type": "code",
     "execution_count": null,
     "metadata": {},
     "outputs": [
      {
       "output_type": "stream",
       "stream": "stdout",
       "text": [
        "Energy per photon = 1.324283E-19 J = 8.276770E-01 eV\n"
       ]
      }
     ],
     "input": [
      "h = 6.626E-34\n",
      "c = 299792458 # m/s\n",
      "\n",
      "lam = 1.5E-6 # m\n",
      "\n",
      "E = h*c/lam\n",
      "print('Energy per photon = %E J = %E eV' % (E, E/1.6E-19))"
     ],
     "language": "python",
     "prompt_number": 23
    },
    {
     "cell_type": "heading",
     "metadata": {},
     "level": 2,
     "source": [
      "Skin Optics Summary - OMLC"
     ]
    },
    {
     "cell_type": "code",
     "execution_count": null,
     "metadata": {},
     "outputs": [
      {
       "output_type": "stream",
       "stream": "stdout",
       "text": [
        "0.2240000689157263\n"
       ]
      }
     ],
     "input": [
      "nm = 1540       # Wavelength\n",
      "mua_skinbaseline = 0.224 + 85.3*exp(-(nm-154)/66.2)\n",
      "\n",
      "print(mua_skinbaseline)"
     ],
     "language": "python",
     "prompt_number": 6
    },
    {
     "cell_type": "code",
     "execution_count": null,
     "metadata": {},
     "outputs": [
      {
       "output_type": "stream",
       "stream": "stdout",
       "text": [
        "1.325546\n"
       ]
      }
     ],
     "input": [
      "C_g = 20\n",
      "n = 1.325 + 2.73*pow(10,-5)*C_g\n",
      "print(n)"
     ],
     "language": "python",
     "prompt_number": 10
    },
    {
     "cell_type": "heading",
     "metadata": {},
     "level": 1,
     "source": [
      "Dilution"
     ]
    },
    {
     "cell_type": "code",
     "execution_count": null,
     "metadata": {},
     "outputs": [
      {
       "output_type": "stream",
       "stream": "stdout",
       "text": [
        "100.0\n"
       ]
      }
     ],
     "input": [
      "c_i = 1 # M\n",
      "v_f = 0.2 # Final volume desired (L)\n",
      "c_f = 5 # mM final conc.\n",
      "\n",
      "v_i = v_f*c_f*10E-3 / c_i\n",
      "\n",
      "print(v_i*10E3)"
     ],
     "language": "python",
     "prompt_number": 3
    },
    {
     "cell_type": "code",
     "execution_count": null,
     "metadata": {},
     "outputs": [],
     "input": [
      ""
     ],
     "language": "python"
    }
   ]
  }
 ],
 "cells": [],
 "metadata": {},
 "nbformat": 3,
 "nbformat_minor": 0
}