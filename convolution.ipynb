{
 "cells": [
  {
   "cell_type": "code",
   "execution_count": 4,
   "metadata": {},
   "outputs": [],
   "source": [
    "import numpy as np\n",
    "from scipy.optimize import curve_fit\n",
    "import matplotlib.pyplot as plt\n",
    "%pylab --no-import-all inline"
   ]
  },
  {
   "cell_type": "heading",
   "metadata": {},
   "level": 2,
   "source": [
    "Convolution of pump with decay (theoretical)"
   ]
  },
  {
   "cell_type": "code",
   "execution_count": 3,
   "metadata": {},
   "outputs": [],
   "source": [
    "res = 1 # Resolution\n",
    "\n",
    "# Square pulse\n",
    "pulse = 20       # Pulse Width (ms)\n",
    "period = 100     # Period (ms)\n",
    "\n",
    "t = np.linspace(0,period,period*res)\n",
    "\n",
    "yp = np.zeros(period*res)\n",
    "yp[0:pulse*res] = 1\n",
    "\n",
    "# Exponential decay\n",
    "tau = 14        # Time decay (ms)\n",
    "ye = np.exp(-t/tau)\n",
    "\n",
    "# Convolve\n",
    "y = np.convolve(yp,ye)\n",
    "#y = y / max(y)     # Normalize\n",
    "\n",
    "f, axarr = plt.subplots(3, sharex=True)\n",
    "axarr[0].plot(t,yp)\n",
    "axarr[0].set_title('Pulse time: ' + str(pulse) + 'ms')\n",
    "axarr[0].set_ylim([0,1.1])\n",
    "axarr[1].plot(t,ye)\n",
    "axarr[2].plot(y[0:period])\n",
    "\n",
    "print('Value at end of signal: {0:.2f}%'.format(y[period]/y[pulse]*100))"
   ]
  },
  {
   "cell_type": "heading",
   "metadata": {},
   "level": 2,
   "source": [
    "Effect of Noise"
   ]
  },
  {
   "cell_type": "code",
   "execution_count": 4,
   "metadata": {},
   "outputs": [],
   "source": [
    "# Add noise to exponential decay\n",
    "N = 100      # Number of repititions\n",
    "sizN = 0.5  # Size of noise\n",
    "\n",
    "yn = np.zeros(len(y))\n",
    "for i in range(0, N):\n",
    "    noise = np.random.normal(0, sizN , len(y))\n",
    "    yi = y + noise\n",
    "    yn+=yi\n",
    " \n",
    "\n",
    "# Intensity can not be negative \n",
    "array_np = np.asarray(yn)\n",
    "low_values_indices = array_np < 0  # Where values are low\n",
    "array_np[low_values_indices] = 0  # All low values set to 0\n",
    "\n",
    "\n",
    "def model_func(t, a, tau, c):\n",
    "    return a*np.exp(-t / tau) + c\n",
    "\n",
    "# Non-linear fit\n",
    "guess = [1, 10, 0]      # Initial guess for fit\n",
    "popt, pcov = curve_fit(model_func, t[pulse:period], yn[pulse:period], p0=guess)\n",
    "a, tauP, c = popt\n",
    "perr = np.sqrt(np.diag(pcov))\n",
    "\n",
    "# fig = plt.figure()\n",
    "plt.plot(t[pulse:period], yn[pulse:period], 'o',\n",
    "         t[pulse:period], N*y[pulse:period], '-',\n",
    "         t[pulse:period], model_func(t[pulse:period], a, tauP, c), '--')\n",
    "plt.title('Lifetime is {0:.3f} +- {1:.3f} ms (1s.d.)'.format(tauP, perr[1]))\n",
    "\n",
    "# info at: http://stackoverflow.com/questions/3938042/fitting-exponential-decay-with-no-initial-guessing"
   ]
  },
  {
   "cell_type": "code",
   "execution_count": null,
   "metadata": {},
   "outputs": [],
   "source": [
    ""
   ]
  }
 ],
 "metadata": {
  "kernelspec": {
   "display_name": "Python 3",
   "language": "python",
   "name": "python3"
  },
  "language_info": {
   "codemirror_mode": {
    "name": "ipython",
    "version": 3.0
   },
   "file_extension": ".py",
   "mimetype": "text/x-python",
   "name": "python",
   "nbconvert_exporter": "python",
   "pygments_lexer": "ipython3",
   "version": "3.4.3"
  }
 },
 "nbformat": 4,
 "nbformat_minor": 0
}