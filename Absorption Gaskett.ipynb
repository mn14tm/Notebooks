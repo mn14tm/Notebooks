{
 "cells": [
  {
   "cell_type": "code",
   "execution_count": 1,
   "metadata": {
    "collapsed": true
   },
   "outputs": [],
   "source": [
    "import numpy as np\n",
    "from numpy import exp"
   ]
  },
  {
   "cell_type": "code",
   "execution_count": 3,
   "metadata": {
    "collapsed": false
   },
   "outputs": [],
   "source": [
    "# Absorption coefficients @1535nm (cm^-1)\n",
    "mu_h2o = 45.1952105223598\n",
    "mu_d2o = 0.072837"
   ]
  },
  {
   "cell_type": "code",
   "execution_count": 26,
   "metadata": {
    "collapsed": true
   },
   "outputs": [],
   "source": [
    "# Mirror reflectivity (%)\n",
    "r_mirror = 98\n",
    "\n",
    "# Gasket thickness (cm)\n",
    "l = 0.05\n",
    "\n",
    "# Path length is double this\n",
    "l *= 2"
   ]
  },
  {
   "cell_type": "code",
   "execution_count": 35,
   "metadata": {
    "collapsed": true
   },
   "outputs": [],
   "source": [
    "# Transmission through l path length with mirror r\n",
    "def trans(mu, l, r):\n",
    "    return exp(-mu*l)*r/100"
   ]
  },
  {
   "cell_type": "code",
   "execution_count": 41,
   "metadata": {
    "collapsed": false
   },
   "outputs": [
    {
     "name": "stdout",
     "output_type": "stream",
     "text": [
      "Transmission h2o: 1.07%\n",
      "Transmission d2o: 97.29%\n",
      "\n"
     ]
    }
   ],
   "source": [
    "# Transmission (%)\n",
    "t_h2o = trans(mu_h2o, l, r_mirror)\n",
    "t_d2o = trans(mu_d2o, l, r_mirror)\n",
    "\n",
    "print('Transmission h2o: {:.2%}'.format(t_h2o))\n",
    "print('Transmission d2o: {:.2%}\\n'.format(t_d20))"
   ]
  },
  {
   "cell_type": "code",
   "execution_count": null,
   "metadata": {
    "collapsed": true
   },
   "outputs": [],
   "source": []
  }
 ],
 "metadata": {
  "anaconda-cloud": {},
  "kernelspec": {
   "display_name": "Python [conda root]",
   "language": "python",
   "name": "conda-root-py"
  },
  "language_info": {
   "codemirror_mode": {
    "name": "ipython",
    "version": 3
   },
   "file_extension": ".py",
   "mimetype": "text/x-python",
   "name": "python",
   "nbconvert_exporter": "python",
   "pygments_lexer": "ipython3",
   "version": "3.5.2"
  }
 },
 "nbformat": 4,
 "nbformat_minor": 2
}
