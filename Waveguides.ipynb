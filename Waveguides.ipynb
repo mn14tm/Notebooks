{
 "cells": [
  {
   "cell_type": "code",
   "execution_count": 1,
   "metadata": {
    "collapsed": true
   },
   "outputs": [],
   "source": [
    "import numpy as np\n",
    "import matplotlib.pyplot as plt\n",
    "%matplotlib inline"
   ]
  },
  {
   "cell_type": "markdown",
   "metadata": {},
   "source": [
    "# Chapter 1\n",
    "## 1.1 Waveguide Structure\n"
   ]
  },
  {
   "cell_type": "code",
   "execution_count": 35,
   "metadata": {
    "collapsed": false
   },
   "outputs": [
    {
     "data": {
      "text/plain": [
       "12.090919733912804"
      ]
     },
     "execution_count": 35,
     "metadata": {},
     "output_type": "execute_result"
    }
   ],
   "source": [
    "n1 = 1.47  # Core (higher than cladding)\n",
    "n0 = 1.455  # Cladding\n",
    "\n",
    "# Max theta incident on waveguide for TIRF/ light acceptance angle (AKA numerical aperture):\n",
    "thetaMax = np.degrees(np.arcsin(np.sqrt(n1**2 - n0**2)))\n",
    "thetaMax "
   ]
  },
  {
   "cell_type": "code",
   "execution_count": 20,
   "metadata": {
    "collapsed": false
   },
   "outputs": [
    {
     "data": {
      "text/plain": [
       "0.2094636006565328"
      ]
     },
     "execution_count": 20,
     "metadata": {},
     "output_type": "execute_result"
    }
   ],
   "source": [
    "delta = (n1**2 - n0**2) / (2*n1**2)  # Relative refractive-index difference\n",
    "NA = n1*(2*delta)**0.5  # or thetaMax in radians\n",
    "NA"
   ]
  },
  {
   "cell_type": "markdown",
   "metadata": {},
   "source": [
    "## 1.2 Formation of Guided Modes\n",
    "Even at angles smaller than the critical angle, arbitrary angles are not able to propagate in a waveguide. Each mode is associated with light rays at a discrete angle of propagation as given by EM wave analysis."
   ]
  },
  {
   "cell_type": "code",
   "execution_count": 36,
   "metadata": {
    "collapsed": false
   },
   "outputs": [
    {
     "data": {
      "text/plain": [
       "1.0476190476190477"
      ]
     },
     "execution_count": 36,
     "metadata": {},
     "output_type": "execute_result"
    }
   ],
   "source": [
    "# Inside the core for a plane wave propagating along z with angle phi:\n",
    "lambda_0 = 1.54      # Free space wavelength (um) \n",
    "lam = lambda_0 / n1  # Wavelength inside the core\n",
    "lam"
   ]
  },
  {
   "cell_type": "code",
   "execution_count": 40,
   "metadata": {
    "collapsed": true
   },
   "outputs": [],
   "source": [
    "k = 2*np.pi / lam  # Wavenumber in core\n",
    "\n",
    "phi = np.radians(30)          # Propagation angle inside core (can work out from theta with snells law)\n",
    "beta = k * n1 * np.cos(phi)   # Propagation constant in z\n",
    "kappa = k * n1 * np.sin(phi)  # Propagation constant in x (laterial direction)"
   ]
  },
  {
   "cell_type": "code",
   "execution_count": 39,
   "metadata": {
    "collapsed": false
   },
   "outputs": [
    {
     "data": {
      "text/plain": [
       "7.6352708691695872"
      ]
     },
     "execution_count": 39,
     "metadata": {},
     "output_type": "execute_result"
    }
   ],
   "source": [
    "beta"
   ]
  },
  {
   "cell_type": "markdown",
   "metadata": {},
   "source": [
    "# Chapter 2"
   ]
  },
  {
   "cell_type": "code",
   "execution_count": 44,
   "metadata": {
    "collapsed": false
   },
   "outputs": [
    {
     "name": "stdout",
     "output_type": "stream",
     "text": [
      "The slowest run took 6.39 times longer than the fastest. This could mean that an intermediate result is being cached \n",
      "10000 loops, best of 3: 46.8 µs per loop\n",
      "6.776092316319591\n"
     ]
    }
   ],
   "source": [
    "import scipy.optimize as optimize\n",
    "\n",
    "def func(x):\n",
    "    return np.cos(x)**2 + 6 - x\n",
    "\n",
    "# 0<=cos(x)**2<=1, so the root has to be between x=6 and x=7\n",
    "%timeit result = optimize.bisect(func, 6, 7)\n",
    "print(optimize.bisect(func, 6, 7))\n",
    "# 6.77609231632\n"
   ]
  },
  {
   "cell_type": "code",
   "execution_count": null,
   "metadata": {
    "collapsed": true
   },
   "outputs": [],
   "source": []
  }
 ],
 "metadata": {
  "kernelspec": {
   "display_name": "Python 3",
   "language": "python",
   "name": "python3"
  },
  "language_info": {
   "codemirror_mode": {
    "name": "ipython",
    "version": 3
   },
   "file_extension": ".py",
   "mimetype": "text/x-python",
   "name": "python",
   "nbconvert_exporter": "python",
   "pygments_lexer": "ipython3",
   "version": "3.4.3"
  }
 },
 "nbformat": 4,
 "nbformat_minor": 0
}
