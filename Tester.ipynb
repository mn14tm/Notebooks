{
 "cells": [
  {
   "cell_type": "code",
   "execution_count": 25,
   "metadata": {
    "collapsed": true
   },
   "outputs": [],
   "source": [
    "from sympy import *\n",
    "from sympy import Derivative as D\n",
    "init_printing()"
   ]
  },
  {
   "cell_type": "code",
   "execution_count": 29,
   "metadata": {
    "collapsed": false
   },
   "outputs": [
    {
     "data": {
      "image/png": "[encoded data removed]",
      "text/latex": [
       "$$- \\frac{1}{\\tau} \\operatorname{n_{1}}{\\left (t \\right )} + \\frac{\\sigma_{a}}{h \\nu} \\left(n - \\operatorname{n_{1}}{\\left (t \\right )}\\right) I{\\left (t \\right )} - \\frac{\\sigma_{e}}{h \\nu} I{\\left (t \\right )} \\operatorname{n_{1}}{\\left (t \\right )}$$"
      ],
      "text/plain": [
       "  n₁(t)   σₐ⋅(n - n₁(t))⋅I(t)   σₑ⋅I(t)⋅n₁(t)\n",
       "- ───── + ─────────────────── - ─────────────\n",
       "    τ             h⋅ν                h⋅ν     "
      ]
     },
     "execution_count": 29,
     "metadata": {},
     "output_type": "execute_result"
    }
   ],
   "source": [
    "# Eq 6. symbols\n",
    "n, t, s_e, s_a, h, nu, tau = symbols('n, t sigma_e sigma_a h nu tau')\n",
    "n1 = Function('n_1')(t)\n",
    "I = Function('I')(t)\n",
    "\n",
    "rhs = (n - n1) * (I * s_a) / (h * nu) - n1 * (I * s_e) / (h * nu) - n1 / tau\n",
    "rhs"
   ]
  },
  {
   "cell_type": "code",
   "execution_count": 3,
   "metadata": {
    "collapsed": false,
    "scrolled": false
   },
   "outputs": [
    {
     "data": {
      "image/png": "[encoded data removed]",
      "text/latex": [
       "$$\\frac{d}{d t} \\operatorname{n_{1}}{\\left (t \\right )} = - \\frac{1}{\\tau} \\operatorname{n_{1}}{\\left (t \\right )} + \\frac{\\sigma_{a}}{h \\nu} \\left(n - \\operatorname{n_{1}}{\\left (t \\right )}\\right) I{\\left (t \\right )} - \\frac{\\sigma_{e}}{h \\nu} I{\\left (t \\right )} \\operatorname{n_{1}}{\\left (t \\right )}$$"
      ],
      "text/plain": [
       "d             n₁(t)   σₐ⋅(n - n₁(t))⋅I(t)   σₑ⋅I(t)⋅n₁(t)\n",
       "──(n₁(t)) = - ───── + ─────────────────── - ─────────────\n",
       "dt              τ             h⋅ν                h⋅ν     "
      ]
     },
     "execution_count": 3,
     "metadata": {},
     "output_type": "execute_result"
    }
   ],
   "source": [
    "rate = Eq(n1.diff(t), rhs)\n",
    "# rate = Eq(D(n1, t), rhs)\n",
    "rate"
   ]
  },
  {
   "cell_type": "code",
   "execution_count": 28,
   "metadata": {
    "collapsed": false
   },
   "outputs": [
    {
     "data": {
      "image/png": "[encoded data removed]",
      "text/latex": [
       "$$- d h \\nu \\rho \\left(\\frac{r}{2} + 1\\right) \\frac{d}{d t} \\operatorname{n_{1}}{\\left (t \\right )}$$"
      ],
      "text/plain": [
       "         ⎛r    ⎞ d        \n",
       "-d⋅h⋅ν⋅ρ⋅⎜─ + 1⎟⋅──(n₁(t))\n",
       "         ⎝2    ⎠ dt       "
      ]
     },
     "execution_count": 28,
     "metadata": {},
     "output_type": "execute_result"
    }
   ],
   "source": [
    "# Intensity\n",
    "r, rho, d = symbols('r rho d')\n",
    "i =  (1+ r/2) * h * nu * rho * d * -1 * n1.diff(t)\n",
    "i"
   ]
  },
  {
   "cell_type": "code",
   "execution_count": 31,
   "metadata": {
    "collapsed": false,
    "scrolled": true
   },
   "outputs": [
    {
     "data": {
      "image/png": "[encoded data removed]",
      "text/latex": [
       "$$- d \\rho \\sigma_{a} \\left(n - \\operatorname{n_{1}}{\\left (t \\right )}\\right) \\left(\\frac{r}{2} + 1\\right) \\frac{d}{d t} \\operatorname{n_{1}}{\\left (t \\right )} + d \\rho \\sigma_{e} \\left(\\frac{r}{2} + 1\\right) \\operatorname{n_{1}}{\\left (t \\right )} \\frac{d}{d t} \\operatorname{n_{1}}{\\left (t \\right )} - \\frac{1}{\\tau} \\operatorname{n_{1}}{\\left (t \\right )}$$"
      ],
      "text/plain": [
       "                     ⎛r    ⎞ d                  ⎛r    ⎞       d           n₁(t\n",
       "- d⋅ρ⋅σₐ⋅(n - n₁(t))⋅⎜─ + 1⎟⋅──(n₁(t)) + d⋅ρ⋅σₑ⋅⎜─ + 1⎟⋅n₁(t)⋅──(n₁(t)) - ────\n",
       "                     ⎝2    ⎠ dt                 ⎝2    ⎠       dt            τ \n",
       "\n",
       ")\n",
       "─\n",
       " "
      ]
     },
     "execution_count": 31,
     "metadata": {},
     "output_type": "execute_result"
    }
   ],
   "source": [
    "rhs = rhs.subs(I, i)\n",
    "rhs"
   ]
  },
  {
   "cell_type": "code",
   "execution_count": 42,
   "metadata": {
    "collapsed": false,
    "scrolled": false
   },
   "outputs": [
    {
     "data": {
      "image/png": "[encoded data removed]",
      "text/latex": [
       "$$- \\alpha \\sigma_{a} \\left(n - \\operatorname{n_{1}}{\\left (t \\right )}\\right) \\frac{d}{d t} \\operatorname{n_{1}}{\\left (t \\right )} + \\alpha \\sigma_{e} \\operatorname{n_{1}}{\\left (t \\right )} \\frac{d}{d t} \\operatorname{n_{1}}{\\left (t \\right )} - \\frac{1}{\\tau} \\operatorname{n_{1}}{\\left (t \\right )}$$"
      ],
      "text/plain": [
       "                   d                      d           n₁(t)\n",
       "- α⋅σₐ⋅(n - n₁(t))⋅──(n₁(t)) + α⋅σₑ⋅n₁(t)⋅──(n₁(t)) - ─────\n",
       "                   dt                     dt            τ  "
      ]
     },
     "execution_count": 42,
     "metadata": {},
     "output_type": "execute_result"
    }
   ],
   "source": [
    "a = Symbol('alpha')\n",
    "rhs = rhs.subs(d*rho*(1+r/2), a)\n",
    "rhs"
   ]
  },
  {
   "cell_type": "code",
   "execution_count": 103,
   "metadata": {
    "collapsed": false,
    "scrolled": false
   },
   "outputs": [
    {
     "data": {
      "image/png": "[encoded data removed]",
      "text/latex": [
       "$$- \\alpha n \\sigma_{a} \\frac{d}{d t} \\operatorname{n_{1}}{\\left (t \\right )} + \\alpha \\sigma_{a} \\operatorname{n_{1}}{\\left (t \\right )} \\frac{d}{d t} \\operatorname{n_{1}}{\\left (t \\right )} + \\alpha \\sigma_{e} \\operatorname{n_{1}}{\\left (t \\right )} \\frac{d}{d t} \\operatorname{n_{1}}{\\left (t \\right )} - \\frac{1}{\\tau} \\operatorname{n_{1}}{\\left (t \\right )}$$"
      ],
      "text/plain": [
       "         d                      d                      d           n₁(t)\n",
       "- α⋅n⋅σₐ⋅──(n₁(t)) + α⋅σₐ⋅n₁(t)⋅──(n₁(t)) + α⋅σₑ⋅n₁(t)⋅──(n₁(t)) - ─────\n",
       "         dt                     dt                     dt            τ  "
      ]
     },
     "execution_count": 103,
     "metadata": {},
     "output_type": "execute_result"
    }
   ],
   "source": [
    "rhs = rhs.expand()\n",
    "rhs"
   ]
  },
  {
   "cell_type": "code",
   "execution_count": 55,
   "metadata": {
    "collapsed": false,
    "scrolled": false
   },
   "outputs": [
    {
     "data": {
      "image/png": "[encoded data removed]",
      "text/latex": [
       "$$\\alpha \\sigma_{e} \\operatorname{n_{1}}{\\left (t \\right )} \\frac{d}{d t} \\operatorname{n_{1}}{\\left (t \\right )} + \\sigma_{a} \\left(- \\alpha n \\frac{d}{d t} \\operatorname{n_{1}}{\\left (t \\right )} + \\alpha \\operatorname{n_{1}}{\\left (t \\right )} \\frac{d}{d t} \\operatorname{n_{1}}{\\left (t \\right )}\\right) - \\frac{1}{\\tau} \\operatorname{n_{1}}{\\left (t \\right )}$$"
      ],
      "text/plain": [
       "           d              ⎛      d                   d        ⎞   n₁(t)\n",
       "α⋅σₑ⋅n₁(t)⋅──(n₁(t)) + σₐ⋅⎜- α⋅n⋅──(n₁(t)) + α⋅n₁(t)⋅──(n₁(t))⎟ - ─────\n",
       "           dt             ⎝      dt                  dt       ⎠     τ  "
      ]
     },
     "execution_count": 55,
     "metadata": {},
     "output_type": "execute_result"
    }
   ],
   "source": [
    "collect_const(rhs, (s_a ))"
   ]
  },
  {
   "cell_type": "code",
   "execution_count": 17,
   "metadata": {
    "collapsed": false,
    "scrolled": true
   },
   "outputs": [
    {
     "data": {
      "image/png": "[encoded data removed]",
      "text/latex": [
       "$$\\left(d \\rho \\sigma_{a} \\left(n - \\operatorname{n_{1}}{\\left (t \\right )}\\right) \\left(- \\frac{r}{2} - 1\\right) - d \\rho \\sigma_{e} \\left(- \\frac{r}{2} - 1\\right) \\operatorname{n_{1}}{\\left (t \\right )}\\right) \\frac{d}{d t} \\operatorname{n_{1}}{\\left (t \\right )} - \\frac{1}{\\tau} \\operatorname{n_{1}}{\\left (t \\right )}$$"
      ],
      "text/plain": [
       "⎛                   ⎛  r    ⎞          ⎛  r    ⎞      ⎞ d           n₁(t)\n",
       "⎜d⋅ρ⋅σₐ⋅(n - n₁(t))⋅⎜- ─ - 1⎟ - d⋅ρ⋅σₑ⋅⎜- ─ - 1⎟⋅n₁(t)⎟⋅──(n₁(t)) - ─────\n",
       "⎝                   ⎝  2    ⎠          ⎝  2    ⎠      ⎠ dt            τ  "
      ]
     },
     "execution_count": 17,
     "metadata": {},
     "output_type": "execute_result"
    }
   ],
   "source": [
    "rhs = rhs.collect(n1.diff(t))\n",
    "rhs"
   ]
  },
  {
   "cell_type": "code",
   "execution_count": 91,
   "metadata": {
    "collapsed": false
   },
   "outputs": [
    {
     "data": {
      "image/png": "[encoded data removed]",
      "text/latex": [
       "$$- \\alpha n \\sigma_{a} \\frac{d}{d t} \\operatorname{n_{1}}{\\left (t \\right )} + \\alpha \\sigma_{a} \\operatorname{n_{1}}{\\left (t \\right )} \\frac{d}{d t} \\operatorname{n_{1}}{\\left (t \\right )} + \\alpha \\sigma_{e} \\operatorname{n_{1}}{\\left (t \\right )} \\frac{d}{d t} \\operatorname{n_{1}}{\\left (t \\right )} - \\frac{d}{d t} \\operatorname{n_{1}}{\\left (t \\right )} - \\frac{1}{\\tau} \\operatorname{n_{1}}{\\left (t \\right )}$$"
      ],
      "text/plain": [
       "         d                      d                      d           d          \n",
       "- α⋅n⋅σₐ⋅──(n₁(t)) + α⋅σₐ⋅n₁(t)⋅──(n₁(t)) + α⋅σₑ⋅n₁(t)⋅──(n₁(t)) - ──(n₁(t)) -\n",
       "         dt                     dt                     dt          dt         \n",
       "\n",
       " n₁(t)\n",
       " ─────\n",
       "   τ  "
      ]
     },
     "execution_count": 91,
     "metadata": {},
     "output_type": "execute_result"
    }
   ],
   "source": [
    "rate = rhs - D(n1, t)\n",
    "rate"
   ]
  },
  {
   "cell_type": "code",
   "execution_count": 98,
   "metadata": {
    "collapsed": false,
    "scrolled": true
   },
   "outputs": [
    {
     "data": {
      "image/png": "[encoded data removed]",
      "text/latex": [
       "$$\\left(- \\alpha n \\sigma_{a} + \\alpha \\sigma_{a} \\operatorname{n_{1}}{\\left (t \\right )} + \\alpha \\sigma_{e} \\operatorname{n_{1}}{\\left (t \\right )} - 1\\right) \\frac{d}{d t} \\operatorname{n_{1}}{\\left (t \\right )} - \\frac{1}{\\tau} \\operatorname{n_{1}}{\\left (t \\right )}$$"
      ],
      "text/plain": [
       "                                        d           n₁(t)\n",
       "(-α⋅n⋅σₐ + α⋅σₐ⋅n₁(t) + α⋅σₑ⋅n₁(t) - 1)⋅──(n₁(t)) - ─────\n",
       "                                        dt            τ  "
      ]
     },
     "execution_count": 98,
     "metadata": {},
     "output_type": "execute_result"
    }
   ],
   "source": [
    "rate = rate.collect(D(n1, t))\n",
    "rate"
   ]
  },
  {
   "cell_type": "code",
   "execution_count": 99,
   "metadata": {
    "collapsed": false
   },
   "outputs": [
    {
     "data": {
      "image/png": "[encoded data removed]",
      "text/latex": [
       "$$\\left(- \\alpha n \\sigma_{a} + \\alpha \\sigma_{a} \\operatorname{n_{1}}{\\left (t \\right )} + \\alpha \\sigma_{e} \\operatorname{n_{1}}{\\left (t \\right )} - 1\\right) \\frac{d}{d t} \\operatorname{n_{1}}{\\left (t \\right )} - \\frac{1}{\\tau} \\operatorname{n_{1}}{\\left (t \\right )}$$"
      ],
      "text/plain": [
       "                                        d           n₁(t)\n",
       "(-α⋅n⋅σₐ + α⋅σₐ⋅n₁(t) + α⋅σₑ⋅n₁(t) - 1)⋅──(n₁(t)) - ─────\n",
       "                                        dt            τ  "
      ]
     },
     "execution_count": 99,
     "metadata": {},
     "output_type": "execute_result"
    }
   ],
   "source": [
    "rate.collect(a)"
   ]
  },
  {
   "cell_type": "code",
   "execution_count": 102,
   "metadata": {
    "collapsed": false
   },
   "outputs": [
    {
     "data": {
      "text/plain": [
       "exp"
      ]
     },
     "execution_count": 102,
     "metadata": {},
     "output_type": "execute_result"
    }
   ],
   "source": [
    "exp"
   ]
  },
  {
   "cell_type": "code",
   "execution_count": null,
   "metadata": {
    "collapsed": true
   },
   "outputs": [],
   "source": []
  }
 ],
 "metadata": {
  "anaconda-cloud": {},
  "kernelspec": {
   "display_name": "Python [default]",
   "language": "python",
   "name": "python3"
  },
  "language_info": {
   "codemirror_mode": {
    "name": "ipython",
    "version": 3
   },
   "file_extension": ".py",
   "mimetype": "text/x-python",
   "name": "python",
   "nbconvert_exporter": "python",
   "pygments_lexer": "ipython3",
   "version": "3.5.2"
  }
 },
 "nbformat": 4,
 "nbformat_minor": 0
}
