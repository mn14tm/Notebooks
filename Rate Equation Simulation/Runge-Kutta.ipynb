{
 "cells": [
  {
   "cell_type": "code",
   "execution_count": 1,
   "metadata": {
    "collapsed": true
   },
   "outputs": [],
   "source": [
    "import numpy as np\n",
    "import scipy as sp\n",
    "import matplotlib.pyplot as plt\n",
    "%matplotlib inline\n",
    "\n",
    "from scipy.integrate import ode"
   ]
  },
  {
   "cell_type": "code",
   "execution_count": 2,
   "metadata": {
    "collapsed": false
   },
   "outputs": [
    {
     "data": {
      "image/png": "[encoded data removed]",
      "text/plain": [
       "<matplotlib.figure.Figure at 0x105f00128>"
      ]
     },
     "metadata": {},
     "output_type": "display_data"
    }
   ],
   "source": [
    "import warnings\n",
    "\n",
    "def logistic(t, y, r):\n",
    "    return r * y * (1.0 - y)\n",
    "\n",
    "r = .01\n",
    "t0 = 0\n",
    "y0 = 1e-5\n",
    "t1 = 5000.0\n",
    "\n",
    "#backend = 'vode'\n",
    "backend = 'dopri5'  # ode45 equivalent\n",
    "#backend = 'dop853'\n",
    "\n",
    "solver = ode(logistic).set_integrator(backend, nsteps=1)\n",
    "solver.set_initial_value(y0, t0).set_f_params(r)\n",
    "# suppress Fortran-printed warning\n",
    "solver._integrator.iwork[2] = -1\n",
    "\n",
    "sol = []\n",
    "warnings.filterwarnings(\"ignore\", category=UserWarning)\n",
    "while solver.t < t1:\n",
    "    solver.integrate(t1, step=True)\n",
    "    sol.append([solver.t, solver.y])\n",
    "warnings.resetwarnings()\n",
    "sol = np.array(sol)\n",
    "\n",
    "plt.plot(sol[:,0], sol[:,1], 'b.-')\n",
    "plt.show()"
   ]
  },
  {
   "cell_type": "markdown",
   "metadata": {},
   "source": [
    "# Example Function\n",
    "\n",
    "$ y' = y^{-1}/2$\n",
    "\n",
    "$f(t) = RHS$\n",
    "\n",
    "Answer: $t = y^2$ "
   ]
  },
  {
   "cell_type": "code",
   "execution_count": 3,
   "metadata": {
    "collapsed": false
   },
   "outputs": [
    {
     "name": "stderr",
     "output_type": "stream",
     "text": [
      "/Users/Thomas/anaconda/lib/python3.5/site-packages/scipy/integrate/_ode.py:1018: UserWarning: dopri5: larger nmax is needed\n",
      "  self.messages.get(idid, 'Unexpected idid=%s' % idid))\n"
     ]
    },
    {
     "data": {
      "image/png": "[encoded data removed]",
      "text/plain": [
       "<matplotlib.figure.Figure at 0x105f05b38>"
      ]
     },
     "metadata": {},
     "output_type": "display_data"
    }
   ],
   "source": [
    "def f(t, y):\n",
    "    return  -1/y\n",
    "\n",
    "# Initial params\n",
    "t0 = 0\n",
    "y0 = 1e-5\n",
    "\n",
    "# End Time\n",
    "t1 = 5000.0\n",
    "\n",
    "#backend = 'vode'\n",
    "backend = 'dopri5'  # ode45 equivalent\n",
    "#backend = 'dop853'\n",
    "\n",
    "solver = ode(f).set_integrator(backend, nsteps=1)\n",
    "solver.set_initial_value(y0, t0)\n",
    "\n",
    "sol = []\n",
    "while solver.successful() and solver.t < t1:\n",
    "    solver.integrate(t1)\n",
    "    sol.append([solver.t, solver.y])\n",
    "sol = np.array(sol)\n",
    "\n",
    "plt.plot(sol[:,0], sol[:,1], 'b.-')\n",
    "plt.show()"
   ]
  },
  {
   "cell_type": "code",
   "execution_count": 12,
   "metadata": {
    "collapsed": false
   },
   "outputs": [
    {
     "data": {
      "text/plain": [
       "0.99952019067910436"
      ]
     },
     "execution_count": 12,
     "metadata": {},
     "output_type": "execute_result"
    }
   ],
   "source": [
    "h = 6.62607004E-34\n",
    "def boltzmann(dE,T):\n",
    "    kB = 1.38064852E-23\n",
    "    return np.exp(-dE/(kB*T))\n",
    "\n",
    "dE = h * 3E9\n",
    "boltzmann(dE,300)\n"
   ]
  },
  {
   "cell_type": "code",
   "execution_count": null,
   "metadata": {
    "collapsed": true
   },
   "outputs": [],
   "source": []
  }
 ],
 "metadata": {
  "kernelspec": {
   "display_name": "Python 3",
   "language": "python",
   "name": "python3"
  },
  "language_info": {
   "codemirror_mode": {
    "name": "ipython",
    "version": 3
   },
   "file_extension": ".py",
   "mimetype": "text/x-python",
   "name": "python",
   "nbconvert_exporter": "python",
   "pygments_lexer": "ipython3",
   "version": "3.5.1"
  }
 },
 "nbformat": 4,
 "nbformat_minor": 0
}
