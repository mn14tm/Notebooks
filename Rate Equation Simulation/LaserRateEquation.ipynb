{
 "cells": [
  {
   "cell_type": "code",
   "execution_count": 1,
   "metadata": {
    "collapsed": false
   },
   "outputs": [],
   "source": [
    "import numpy as np\n",
    "import scipy as sp\n",
    "from scipy import integrate\n",
    "import matplotlib.pyplot as plt\n",
    "import sympy\n",
    "%matplotlib inline\n",
    "sympy.init_printing()"
   ]
  },
  {
   "cell_type": "code",
   "execution_count": 2,
   "metadata": {
    "collapsed": true
   },
   "outputs": [],
   "source": [
    "t, k, T0, Ta = sympy.symbols(\"t, k, T_0, T_a\")\n",
    "T = sympy.Function(\"T\")"
   ]
  },
  {
   "cell_type": "code",
   "execution_count": 3,
   "metadata": {
    "collapsed": false
   },
   "outputs": [
    {
     "data": {
      "image/png": "[encoded data removed]",
      "text/latex": [
       "$$k \\left(- T_{a} + T{\\left (t \\right )}\\right) + \\frac{d}{d t} T{\\left (t \\right )} = 0$$"
      ],
      "text/plain": [
       "                 d           \n",
       "k⋅(-Tₐ + T(t)) + ──(T(t)) = 0\n",
       "                 dt          "
      ]
     },
     "execution_count": 3,
     "metadata": {},
     "output_type": "execute_result"
    }
   ],
   "source": [
    "ode = T(t).diff(t) + k*(T(t) - Ta)\n",
    "sympy.Eq(ode)"
   ]
  },
  {
   "cell_type": "code",
   "execution_count": 4,
   "metadata": {
    "collapsed": false,
    "scrolled": true
   },
   "outputs": [
    {
     "data": {
      "image/png": "[encoded data removed]",
      "text/latex": [
       "$$T{\\left (t \\right )} = C_{1} e^{- k t} + T_{a}$$"
      ],
      "text/plain": [
       "           -k⋅t     \n",
       "T(t) = C₁⋅ℯ     + Tₐ"
      ]
     },
     "execution_count": 4,
     "metadata": {},
     "output_type": "execute_result"
    }
   ],
   "source": [
    "# Solve\n",
    "ode_sol = sympy.dsolve(ode)\n",
    "ode_sol"
   ]
  },
  {
   "cell_type": "code",
   "execution_count": 5,
   "metadata": {
    "collapsed": false
   },
   "outputs": [
    {
     "data": {
      "image/png": "[encoded data removed]",
      "text/latex": [
       "$$\\left \\{ T{\\left (0 \\right )} : T_{0}\\right \\}$$"
      ],
      "text/plain": [
       "{T(0): T₀}"
      ]
     },
     "execution_count": 5,
     "metadata": {},
     "output_type": "execute_result"
    }
   ],
   "source": [
    "# Initial conditions\n",
    "ics = {T(0): T0}\n",
    "ics"
   ]
  },
  {
   "cell_type": "code",
   "execution_count": 6,
   "metadata": {
    "collapsed": false
   },
   "outputs": [
    {
     "data": {
      "image/png": "[encoded data removed]",
      "text/latex": [
       "$$T_{0} = C_{1} + T_{a}$$"
      ],
      "text/plain": [
       "T₀ = C₁ + Tₐ"
      ]
     },
     "execution_count": 6,
     "metadata": {},
     "output_type": "execute_result"
    }
   ],
   "source": [
    "C_eq = sympy.Eq(ode_sol.lhs.subs(t,0).subs(ics), ode_sol.rhs.subs(t, 0))\n",
    "C_eq"
   ]
  },
  {
   "cell_type": "code",
   "execution_count": 7,
   "metadata": {
    "collapsed": false
   },
   "outputs": [
    {
     "data": {
      "image/png": "[encoded data removed]",
      "text/latex": [
       "$$\\left [ \\left \\{ C_{1} : T_{0} - T_{a}\\right \\}\\right ]$$"
      ],
      "text/plain": [
       "[{C₁: T₀ - Tₐ}]"
      ]
     },
     "execution_count": 7,
     "metadata": {},
     "output_type": "execute_result"
    }
   ],
   "source": [
    "C_sol = sympy.solve(C_eq)\n",
    "C_sol"
   ]
  },
  {
   "cell_type": "code",
   "execution_count": 9,
   "metadata": {
    "collapsed": false
   },
   "outputs": [
    {
     "data": {
      "image/png": "[encoded data removed]",
      "text/latex": [
       "$$T{\\left (t \\right )} = T_{a} + \\left(T_{0} - T_{a}\\right) e^{- k t}$$"
      ],
      "text/plain": [
       "                       -k⋅t\n",
       "T(t) = Tₐ + (T₀ - Tₐ)⋅ℯ    "
      ]
     },
     "execution_count": 9,
     "metadata": {},
     "output_type": "execute_result"
    }
   ],
   "source": [
    "T_t_sol = ode_sol.subs(C_sol[0])\n",
    "T_t_sol"
   ]
  },
  {
   "cell_type": "code",
   "execution_count": 10,
   "metadata": {
    "collapsed": false,
    "scrolled": true
   },
   "outputs": [
    {
     "data": {
      "text/plain": [
       "[<matplotlib.lines.Line2D at 0x107285400>]"
      ]
     },
     "execution_count": 10,
     "metadata": {},
     "output_type": "execute_result"
    },
    {
     "data": {
      "image/png": "[encoded data removed]",
      "text/plain": [
       "<matplotlib.figure.Figure at 0x1083c11d0>"
      ]
     },
     "metadata": {},
     "output_type": "display_data"
    }
   ],
   "source": [
    "tt = np.linspace(0,100, 250)\n",
    "T_t = sympy.lambdify(t, T_t_sol.rhs.subs({T0: 100, Ta: 20, k: 0.5}), 'numpy')\n",
    "plt.plot(tt, T_t(tt))"
   ]
  },
  {
   "cell_type": "markdown",
   "metadata": {},
   "source": [
    "# Laser Rate Eqn: 2-level"
   ]
  },
  {
   "cell_type": "code",
   "execution_count": 12,
   "metadata": {
    "collapsed": false
   },
   "outputs": [],
   "source": [
    "from sympy.physics.quantum.constants import hbar"
   ]
  },
  {
   "cell_type": "code",
   "execution_count": 16,
   "metadata": {
    "collapsed": false
   },
   "outputs": [],
   "source": [
    "t, tau, N_0, I_s, I_p, r, omega_980, omega_1550, sigma_980, sigma_1550, hbar = \\\n",
    "sympy.symbols(\"t, tau, N_0, I_s, I_p, r, omega_980, omega_1550, sigma_980, sigma_1550, hbar\")\n",
    "\n",
    "N2 = sympy.Function(\"N2\")"
   ]
  },
  {
   "cell_type": "code",
   "execution_count": 14,
   "metadata": {
    "collapsed": false
   },
   "outputs": [
    {
     "data": {
      "image/png": "[encoded data removed]",
      "text/latex": [
       "$$- \\frac{I_{p} \\sigma_{980}}{\\hbar \\omega_{980}} \\left(- \\operatorname{N_{2}}{\\left (t \\right )} + 1\\right) + \\frac{d}{d t} \\operatorname{N_{2}}{\\left (t \\right )} - \\frac{1}{\\tau} \\operatorname{N_{2}}{\\left (t \\right )} = 0$$"
      ],
      "text/plain": [
       "  I_p⋅σ₉₈₀⋅(-N₂(t) + 1)   d           N₂(t)    \n",
       "- ───────────────────── + ──(N₂(t)) - ───── = 0\n",
       "         h̅⋅ω₉₈₀          dt            τ      "
      ]
     },
     "execution_count": 14,
     "metadata": {},
     "output_type": "execute_result"
    }
   ],
   "source": [
    "N1 = 1-N2(t)\n",
    "\n",
    "Spe_21 = - N2(t) / tau\n",
    "Abs_13 = (I_p*sigma_980* N1)/(hbar*omega_980)\n",
    "Abs_12 = (I_s*sigma_1550* N2(t))/(hbar*omega_1550)\n",
    "Ste_21 = (I_s*sigma_1550* N2(t))/(hbar*omega_1550)\n",
    "\n",
    "ode = N2(t).diff(t)  - (- Spe_21 + Abs_13 + Abs_12 - Ste_21)\n",
    "sympy.Eq(ode)"
   ]
  },
  {
   "cell_type": "code",
   "execution_count": 15,
   "metadata": {
    "collapsed": false
   },
   "outputs": [
    {
     "data": {
      "image/png": "[encoded data removed]",
      "text/latex": [
       "$$\\operatorname{N_{2}}{\\left (t \\right )} = \\frac{1}{I_{p} \\sigma_{980} \\tau - \\hbar \\omega_{980}} \\left(I_{p} \\sigma_{980} \\tau + e^{\\frac{1}{\\hbar \\omega_{980} \\tau} \\left(I_{p} \\sigma_{980} \\tau - \\hbar \\omega_{980}\\right) \\left(C_{1} \\hbar \\omega_{980} \\tau - t\\right)}\\right)$$"
      ],
      "text/plain": [
       "                      (I_p⋅σ₉₈₀⋅τ - h̅⋅ω₉₈₀)⋅(C₁⋅h̅⋅ω₉₈₀⋅τ - t)\n",
       "                      ─────────────────────────────────────────\n",
       "                                      h̅⋅ω₉₈₀⋅τ                \n",
       "        I_p⋅σ₉₈₀⋅τ + ℯ                                         \n",
       "N₂(t) = ───────────────────────────────────────────────────────\n",
       "                          I_p⋅σ₉₈₀⋅τ - h̅⋅ω₉₈₀                 "
      ]
     },
     "execution_count": 15,
     "metadata": {},
     "output_type": "execute_result"
    }
   ],
   "source": [
    "# Solve\n",
    "ode_sol = sympy.dsolve(ode)\n",
    "ode_sol"
   ]
  },
  {
   "cell_type": "code",
   "execution_count": 54,
   "metadata": {
    "collapsed": false
   },
   "outputs": [
    {
     "data": {
      "image/png": "[encoded data removed]",
      "text/latex": [
       "$$\\left \\{ \\operatorname{N_{2}}{\\left (0 \\right )} : N_{0}\\right \\}$$"
      ],
      "text/plain": [
       "{N₂(0): N₀}"
      ]
     },
     "execution_count": 54,
     "metadata": {},
     "output_type": "execute_result"
    }
   ],
   "source": [
    "ics = {N2(0): N_0}\n",
    "ics"
   ]
  },
  {
   "cell_type": "code",
   "execution_count": 55,
   "metadata": {
    "collapsed": false
   },
   "outputs": [
    {
     "data": {
      "image/png": "[encoded data removed]",
      "text/latex": [
       "$$N_{0} = \\frac{I_{p} \\sigma_{980} \\tau + e^{C_{1} \\left(I_{p} \\sigma_{980} \\tau - \\hbar \\omega_{980}\\right)}}{I_{p} \\sigma_{980} \\tau - \\hbar \\omega_{980}}$$"
      ],
      "text/plain": [
       "                   C₁⋅(I_p⋅σ₉₈₀⋅τ - h̅⋅ω₉₈₀)\n",
       "     I_p⋅σ₉₈₀⋅τ + ℯ                         \n",
       "N₀ = ───────────────────────────────────────\n",
       "               I_p⋅σ₉₈₀⋅τ - h̅⋅ω₉₈₀         "
      ]
     },
     "execution_count": 55,
     "metadata": {},
     "output_type": "execute_result"
    }
   ],
   "source": [
    "C_eq = sympy.Eq(ode_sol.lhs.subs(t,0).subs(ics), ode_sol.rhs.subs(t, 0))\n",
    "C_eq"
   ]
  },
  {
   "cell_type": "code",
   "execution_count": 56,
   "metadata": {
    "collapsed": false
   },
   "outputs": [
    {
     "data": {
      "image/png": "[encoded data removed]",
      "text/latex": [
       "$$\\left [ \\left \\{ N_{0} : \\frac{I_{p} \\sigma_{980} \\tau + e^{C_{1} \\left(I_{p} \\sigma_{980} \\tau - \\hbar \\omega_{980}\\right)}}{I_{p} \\sigma_{980} \\tau - \\hbar \\omega_{980}}\\right \\}\\right ]$$"
      ],
      "text/plain": [
       "⎡⎧                  C₁⋅(I_p⋅σ₉₈₀⋅τ - h̅⋅ω₉₈₀)⎫⎤\n",
       "⎢⎪    I_p⋅σ₉₈₀⋅τ + ℯ                         ⎪⎥\n",
       "⎢⎨N₀: ───────────────────────────────────────⎬⎥\n",
       "⎢⎪              I_p⋅σ₉₈₀⋅τ - h̅⋅ω₉₈₀         ⎪⎥\n",
       "⎣⎩                                           ⎭⎦"
      ]
     },
     "execution_count": 56,
     "metadata": {},
     "output_type": "execute_result"
    }
   ],
   "source": [
    "C_sol = sympy.solve(C_eq)\n",
    "C_sol"
   ]
  },
  {
   "cell_type": "code",
   "execution_count": 57,
   "metadata": {
    "collapsed": false
   },
   "outputs": [
    {
     "data": {
      "image/png": "[encoded data removed]",
      "text/latex": [
       "$$\\operatorname{N_{2}}{\\left (t \\right )} = \\frac{1}{I_{p} \\sigma_{980} \\tau - \\hbar \\omega_{980}} \\left(I_{p} \\sigma_{980} \\tau + e^{\\frac{1}{\\hbar \\omega_{980} \\tau} \\left(I_{p} \\sigma_{980} \\tau - \\hbar \\omega_{980}\\right) \\left(C_{1} \\hbar \\omega_{980} \\tau - t\\right)}\\right)$$"
      ],
      "text/plain": [
       "                      (I_p⋅σ₉₈₀⋅τ - h̅⋅ω₉₈₀)⋅(C₁⋅h̅⋅ω₉₈₀⋅τ - t)\n",
       "                      ─────────────────────────────────────────\n",
       "                                      h̅⋅ω₉₈₀⋅τ                \n",
       "        I_p⋅σ₉₈₀⋅τ + ℯ                                         \n",
       "N₂(t) = ───────────────────────────────────────────────────────\n",
       "                          I_p⋅σ₉₈₀⋅τ - h̅⋅ω₉₈₀                 "
      ]
     },
     "execution_count": 57,
     "metadata": {},
     "output_type": "execute_result"
    }
   ],
   "source": [
    "N2_t_sol = ode_sol.subs(C_sol[0])\n",
    "N2_t_sol"
   ]
  },
  {
   "cell_type": "code",
   "execution_count": 61,
   "metadata": {
    "collapsed": false,
    "scrolled": true
   },
   "outputs": [
    {
     "ename": "AttributeError",
     "evalue": "'Mul' object has no attribute 'exp'",
     "output_type": "error",
     "traceback": [
      "\u001b[0;31m---------------------------------------------------------------------------\u001b[0m",
      "\u001b[0;31mAttributeError\u001b[0m                            Traceback (most recent call last)",
      "\u001b[0;32m<ipython-input-61-d5deaa2ba786>\u001b[0m in \u001b[0;36m<module>\u001b[0;34m()\u001b[0m\n\u001b[1;32m      4\u001b[0m \u001b[0mN2_t\u001b[0m \u001b[0;34m=\u001b[0m \u001b[0msympy\u001b[0m\u001b[0;34m.\u001b[0m\u001b[0mlambdify\u001b[0m\u001b[0;34m(\u001b[0m\u001b[0mt\u001b[0m\u001b[0;34m,\u001b[0m \u001b[0mN2_t_sol\u001b[0m\u001b[0;34m.\u001b[0m\u001b[0mrhs\u001b[0m\u001b[0;34m.\u001b[0m\u001b[0msubs\u001b[0m\u001b[0;34m(\u001b[0m\u001b[0;34m{\u001b[0m\u001b[0mtau\u001b[0m\u001b[0;34m:\u001b[0m \u001b[0;36m100\u001b[0m\u001b[0;34m,\u001b[0m \u001b[0mN_0\u001b[0m\u001b[0;34m:\u001b[0m \u001b[0;36m1\u001b[0m\u001b[0;34m,\u001b[0m \u001b[0mI\u001b[0m\u001b[0;34m:\u001b[0m \u001b[0;36m1E-7\u001b[0m\u001b[0;34m,\u001b[0m \u001b[0mr\u001b[0m\u001b[0;34m:\u001b[0m \u001b[0;36m0\u001b[0m\u001b[0;34m,\u001b[0m             \u001b[0momega_980\u001b[0m\u001b[0;34m:\u001b[0m \u001b[0;36m4E-25\u001b[0m\u001b[0;34m,\u001b[0m \u001b[0momega_1550\u001b[0m\u001b[0;34m:\u001b[0m \u001b[0;36m1E-25\u001b[0m\u001b[0;34m,\u001b[0m \u001b[0msigma_980\u001b[0m\u001b[0;34m:\u001b[0m \u001b[0;36m980E-9\u001b[0m\u001b[0;34m,\u001b[0m \u001b[0msigma_1550\u001b[0m\u001b[0;34m:\u001b[0m \u001b[0;36m1550E-9\u001b[0m\u001b[0;34m,\u001b[0m \u001b[0mhbar\u001b[0m\u001b[0;34m:\u001b[0m \u001b[0;36m1E-34\u001b[0m\u001b[0;34m}\u001b[0m\u001b[0;34m)\u001b[0m\u001b[0;34m,\u001b[0m \u001b[0;34m'numpy'\u001b[0m\u001b[0;34m)\u001b[0m\u001b[0;34m\u001b[0m\u001b[0m\n\u001b[1;32m      5\u001b[0m \u001b[0;34m\u001b[0m\u001b[0m\n\u001b[0;32m----> 6\u001b[0;31m \u001b[0mplt\u001b[0m\u001b[0;34m.\u001b[0m\u001b[0mplot\u001b[0m\u001b[0;34m(\u001b[0m\u001b[0mtt\u001b[0m\u001b[0;34m,\u001b[0m \u001b[0mN2_t\u001b[0m\u001b[0;34m(\u001b[0m\u001b[0mtt\u001b[0m\u001b[0;34m)\u001b[0m\u001b[0;34m)\u001b[0m \u001b[0;31m# label=rdiff\u001b[0m\u001b[0;34m\u001b[0m\u001b[0m\n\u001b[0m\u001b[1;32m      7\u001b[0m \u001b[0mplt\u001b[0m\u001b[0;34m.\u001b[0m\u001b[0mxlabel\u001b[0m\u001b[0;34m(\u001b[0m\u001b[0;34m't (ms)'\u001b[0m\u001b[0;34m)\u001b[0m\u001b[0;34m\u001b[0m\u001b[0m\n\u001b[1;32m      8\u001b[0m \u001b[0mplt\u001b[0m\u001b[0;34m.\u001b[0m\u001b[0mylabel\u001b[0m\u001b[0;34m(\u001b[0m\u001b[0;34m'N2(t)'\u001b[0m\u001b[0;34m)\u001b[0m\u001b[0;34m\u001b[0m\u001b[0m\n",
      "\u001b[0;32m/Users/Thomas/anaconda/lib/python3.5/site-packages/numpy/__init__.py\u001b[0m in \u001b[0;36m<lambda>\u001b[0;34m(_Dummy_608)\u001b[0m\n",
      "\u001b[0;31mAttributeError\u001b[0m: 'Mul' object has no attribute 'exp'"
     ]
    }
   ],
   "source": [
    "tt = np.linspace(0, 100, 250)\n",
    "# for rdiff in [0.1, 0.2, 0.3, 10, 100]:\n",
    "# t, tau, N_0, I, r, omega_980, omega_1550, sigma_980, sigma_1550, hbar\n",
    "N2_t = sympy.lambdify(t, N2_t_sol.rhs.subs({tau: 100, N_0: 1, I: 1E-7, r: 0, \\\n",
    "            omega_980: 4E-25, omega_1550: 1E-25, sigma_980: 980E-9, sigma_1550: 1550E-9, hbar: 1E-34}), 'numpy')\n",
    "\n",
    "plt.plot(tt, N2_t(tt)) # label=rdiff\n",
    "plt.xlabel('t (ms)')\n",
    "plt.ylabel('N2(t)')\n",
    "plt.legend()"
   ]
  },
  {
   "cell_type": "code",
   "execution_count": null,
   "metadata": {
    "collapsed": true
   },
   "outputs": [],
   "source": []
  }
 ],
 "metadata": {
  "kernelspec": {
   "display_name": "Python 3",
   "language": "python",
   "name": "python3"
  },
  "language_info": {
   "codemirror_mode": {
    "name": "ipython",
    "version": 3
   },
   "file_extension": ".py",
   "mimetype": "text/x-python",
   "name": "python",
   "nbconvert_exporter": "python",
   "pygments_lexer": "ipython3",
   "version": "3.5.1"
  }
 },
 "nbformat": 4,
 "nbformat_minor": 0
}
