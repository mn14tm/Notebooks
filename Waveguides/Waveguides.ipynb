{
 "cells": [
  {
   "cell_type": "code",
   "execution_count": 1,
   "metadata": {},
   "outputs": [],
   "source": [
    "import numpy as np \n",
    "import matplotlib.pyplot as plt\n",
    "%matplotlib notebook"
   ]
  },
  {
   "cell_type": "markdown",
   "metadata": {},
   "source": [
    "Online 2-D multilayer waveguide mode solver, variational effective index approximation: https://www.computational-photonics.eu/eims.html"
   ]
  },
  {
   "cell_type": "markdown",
   "metadata": {},
   "source": [
    "# Gain"
   ]
  },
  {
   "cell_type": "code",
   "execution_count": 11,
   "metadata": {},
   "outputs": [
    {
     "name": "stdout",
     "output_type": "stream",
     "text": [
      "Gain is 3.9 dB/cm\n"
     ]
    }
   ],
   "source": [
    "def G(sig_e, k, rho):\n",
    "    \"\"\"\n",
    "    Gain in dB/cm\n",
    "    sig_e : emission cross-section of rare earth in host at wavelength lambda [m^2]\n",
    "    k     : proportion of ions in clusters\n",
    "    rho   : doping concentration [/m^3]\n",
    "    \"\"\"\n",
    "    return sig_e*(1-2*k)*rho/(10*np.log(10))\n",
    "\n",
    "sig_e = 6.5E-25\n",
    "rho = 1.98E26\n",
    "k = 0.15\n",
    "\n",
    "print('Gain is {:.1f} dB/cm'.format(G(sig_e, k, rho)))"
   ]
  },
  {
   "cell_type": "code",
   "execution_count": 16,
   "metadata": {},
   "outputs": [
    {
     "name": "stdout",
     "output_type": "stream",
     "text": [
      "Gain is 45.4 dB/cm\n"
     ]
    }
   ],
   "source": [
    "sig_e = 6.5E-25\n",
    "rho = 1.61E21 * 1E6\n",
    "k = 0\n",
    "\n",
    "print('Gain is {:.1f} dB/cm'.format(G(sig_e, k, rho)))"
   ]
  },
  {
   "cell_type": "markdown",
   "metadata": {},
   "source": [
    "# Coupling Loss"
   ]
  },
  {
   "cell_type": "code",
   "execution_count": 33,
   "metadata": {},
   "outputs": [
    {
     "name": "stdout",
     "output_type": "stream",
     "text": [
      "C = 0.41 = -3.90 dB\n"
     ]
    }
   ],
   "source": [
    "# Modeling and near-field measurements of strip-loaded Er-doped sol-gel waveguides\n",
    "def C(x, y, a):\n",
    "    \"\"\"\n",
    "    x and y are the radius (1/e^2 intensity) of the waveguide mode\n",
    "    a is the radius of the fiber mode (circular)\n",
    "    \"\"\"\n",
    "    num = 4*(a**2)*x*y\n",
    "    den = (a**2 + x**2) * (a**2 + y**2)\n",
    "    C = num/den\n",
    "    C_dB = 10*np.log10(C)\n",
    "    print('C = {:.2f} = {:.2f} dB'.format(C, C_dB))\n",
    "    return C_dB\n",
    "\n",
    "x, y = 5.5, 0.9\n",
    "a = 4\n",
    "C(x, y, a);"
   ]
  },
  {
   "cell_type": "code",
   "execution_count": null,
   "metadata": {},
   "outputs": [],
   "source": []
  }
 ],
 "metadata": {
  "kernelspec": {
   "display_name": "Python 3",
   "language": "python",
   "name": "python3"
  },
  "language_info": {
   "codemirror_mode": {
    "name": "ipython",
    "version": 3
   },
   "file_extension": ".py",
   "mimetype": "text/x-python",
   "name": "python",
   "nbconvert_exporter": "python",
   "pygments_lexer": "ipython3",
   "version": "3.7.3"
  }
 },
 "nbformat": 4,
 "nbformat_minor": 2
}
