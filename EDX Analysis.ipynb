{
 "cells": [
  {
   "cell_type": "markdown",
   "metadata": {
    "collapsed": true
   },
   "source": [
    "# Atomic Number Density\n",
    "\n",
    "REF: http://holbert.faculty.asu.edu/eee460/NumberDensity.pdf\n",
    "\n",
    "The number of atoms or molecules, n, in a mass of a pure material, m [g], having atomic or molecular\n",
    "weight, M [g/mol], is easily computed from the following equation using Avogadro's number, N$_A$ = 6.022E+23\n",
    "[at./mol] : \n",
    "\n",
    "$$\n",
    "n = \\frac{m N_A}{M}.\n",
    "$$\n",
    "\n",
    "The atomic number density, N [at./cm3], which is the concentration of atoms or molecules per\n",
    "unit volume, V [cm3], is an easier quantity to find when the material density, ρ [g/cm3], is given using the relation:\n",
    "\n",
    "$$\n",
    "N = \\frac{n}{V} = \\frac{\\rho N_A}{M}.\n",
    "$$\n",
    "\n",
    "The molecular weight, M [u $\\equiv$ g/mol] is calculated by:\n",
    "\n",
    "$$\n",
    "M = \\sum_{elements} u \\cdot \\frac{at.\\%}{100}\n",
    "$$\n",
    "\n",
    "where the atomic percent [at.%] is the percent of atoms/molecules in a material and can be measured via EDX analysis. "
   ]
  },
  {
   "cell_type": "markdown",
   "metadata": {},
   "source": [
    "# EDX for Erbium Doped Silica Glass"
   ]
  },
  {
   "cell_type": "code",
   "execution_count": 20,
   "metadata": {
    "collapsed": true
   },
   "outputs": [],
   "source": [
    "# User Input #\n",
    "\n",
    "# Assume density of thin film is that of silica glass (SiO2)\n",
    "rho = 2.2  # Material density [g/cm3] \n",
    "\n",
    "# at.% of element given by EDX measurement\n",
    "at_percent = {'oxygen'   :73.80607704, \n",
    "              'silicon'  :13.25930472, \n",
    "              'sodium'   :8.266739583, \n",
    "              'zinc'     :3.610836415, \n",
    "              'tellurium':0.708716307, \n",
    "              'erbium'   :0.348325928\n",
    "             }\n",
    "\n",
    "at_percent = {'oxygen'   :59.1, \n",
    "              'silicon'  :19, \n",
    "              'sodium'   :12, \n",
    "              'zinc'     :6, \n",
    "              'tellurium':2.5, \n",
    "              'erbium'   :1.4\n",
    "             }"
   ]
  },
  {
   "cell_type": "code",
   "execution_count": 21,
   "metadata": {
    "scrolled": false
   },
   "outputs": [
    {
     "name": "stdout",
     "output_type": "stream",
     "text": [
      "Element\t Weight [u]\t at.\\%\n",
      "O\t16.00\t\t59.100\n",
      "Si\t28.09\t\t19.000\n",
      "Na\t22.99\t\t12.000\n",
      "Zn\t65.41\t\t 6.000\n",
      "Te\t127.60\t\t 2.500\n",
      "Er\t167.26\t\t 1.400\n",
      "\n",
      "Mollecular weight is 27.0068 u or g/mol\n"
     ]
    }
   ],
   "source": [
    "# Import data for elements present in EDX map from periodictable package so we can get atomic mass [u]\n",
    "from periodictable import oxygen, silicon, sodium, zinc, tellurium, erbium\n",
    "element_list = [oxygen, silicon, sodium, zinc, tellurium, erbium]\n",
    "\n",
    "# Evaluate mollecular weight of material\n",
    "M = 0\n",
    "print('Element\\t Weight [u]\\t at.\\%')\n",
    "for element in element_list:\n",
    "    print('{}\\t{:4.2f}\\t\\t{:6.3f}'.format(element, element.mass, at_percent[element.name]))\n",
    "    M += element.mass * at_percent[element.name]/100\n",
    "print('\\nMollecular weight is {0:g} u or g/mol'.format(M))"
   ]
  },
  {
   "cell_type": "code",
   "execution_count": 24,
   "metadata": {},
   "outputs": [
    {
     "name": "stdout",
     "output_type": "stream",
     "text": [
      "Atomic number density: 4.91e+22 at./cm3\n",
      "Erbium number density: 6.87e+20 at./cm3\n"
     ]
    }
   ],
   "source": [
    "# Evaluate Atomic number density\n",
    "N = rho * N_A / M\n",
    "print('Atomic number density: {:.3g} at./cm3'.format(N))\n",
    "\n",
    "# Element number density -  multiplying the Atomic density with erbium concentration \n",
    "print('Erbium number density: {:.3g} at./cm3'.format(N*at_percent['erbium']/100))"
   ]
  },
  {
   "cell_type": "markdown",
   "metadata": {},
   "source": [
    "# Misc Notes\n",
    "To install python periodic table package run the following in the command line:\n",
    "\n",
    "    conda install -c conda-forge periodictable=1.4.1\n",
    "    \n",
    "or\n",
    "\n",
    "    pip install periodic table"
   ]
  }
 ],
 "metadata": {
  "anaconda-cloud": {},
  "kernelspec": {
   "display_name": "Python 3",
   "language": "python",
   "name": "python3"
  },
  "language_info": {
   "codemirror_mode": {
    "name": "ipython",
    "version": 3
   },
   "file_extension": ".py",
   "mimetype": "text/x-python",
   "name": "python",
   "nbconvert_exporter": "python",
   "pygments_lexer": "ipython3",
   "version": "3.6.3"
  }
 },
 "nbformat": 4,
 "nbformat_minor": 1
}
