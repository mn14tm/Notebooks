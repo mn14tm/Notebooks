{
 "cells": [
  {
   "cell_type": "markdown",
   "metadata": {
    "collapsed": true
   },
   "source": [
    "# Atomic Number Density\n",
    "\n",
    "REF: http://holbert.faculty.asu.edu/eee460/NumberDensity.pdf\n",
    "\n",
    "The number of atoms or molecules, N, in a mass of a pure material, m [g], having atomic or molecular\n",
    "weight, M [g/mol], is easily computed from the following equation using Avogadro's number, N$_A$ = 6.022E+23\n",
    "[at./mol] : \n",
    "\n",
    "$$\n",
    "N = \\frac{m N_A}{M}.\n",
    "$$\n",
    "\n",
    "The atomic number density, n [at./cm3], which is the concentration of atoms or molecules per\n",
    "unit volume, V [cm3], is an easier quantity to find when the material density, ρ [g/cm3], is given using the relation:\n",
    "\n",
    "$$\n",
    "n = \\frac{N}{V} = \\frac{\\rho N_A}{M}.\n",
    "$$\n",
    "\n",
    "The molecular weight, M [u $\\equiv$ g/mol] is calculated by:\n",
    "\n",
    "$$\n",
    "M = \\sum_{elements} u \\cdot \\frac{at.\\%}{100}\n",
    "$$\n",
    "\n",
    "where the atomic percent [at.%] is the percent of atoms/molecules in a material and can be measured via EDX analysis. "
   ]
  },
  {
   "cell_type": "markdown",
   "metadata": {},
   "source": [
    "# EDX for Erbium Doped Silica Glass"
   ]
  },
  {
   "cell_type": "code",
   "execution_count": 45,
   "metadata": {},
   "outputs": [],
   "source": [
    "# User Input #\n",
    "\n",
    "# Assume density of thin film is that of silica glass (SiO2)\n",
    "rho = 2.2  # Material density [g/cm3] \n",
    "\n",
    "# at.% of element given by EDX measurement\n",
    "at_percent = {'oxygen'   :59.1, \n",
    "              'silicon'  :19, \n",
    "              'sodium'   :12, \n",
    "              'zinc'     :6, \n",
    "              'tellurium':2.5, \n",
    "              'erbium'   :1.4\n",
    "             }"
   ]
  },
  {
   "cell_type": "code",
   "execution_count": 56,
   "metadata": {},
   "outputs": [],
   "source": [
    "# TZN nanoparticles\n",
    "rho = 5.2\n",
    "at_percent = {'oxygen'   :0.0, \n",
    "              'silicon'  :0.0, \n",
    "              'sodium'   :12.11, \n",
    "              'zinc'     :4.52, \n",
    "              'tellurium':20.2, \n",
    "              'erbium'   :0.81\n",
    "             }"
   ]
  },
  {
   "cell_type": "code",
   "execution_count": 47,
   "metadata": {
    "scrolled": false
   },
   "outputs": [
    {
     "name": "stdout",
     "output_type": "stream",
     "text": [
      "Element\t Weight [u]\t at.\\%\n",
      "O\t16.00\t\t 0.000\n",
      "Si\t28.09\t\t 0.000\n",
      "Na\t22.99\t\t12.110\n",
      "Zn\t65.41\t\t 4.520\n",
      "Te\t127.60\t\t20.200\n",
      "Er\t167.26\t\t 0.810\n",
      "\n",
      "Mollecular weight is 32.8705 u or g/mol\n"
     ]
    }
   ],
   "source": [
    "# Import data for elements present in EDX map from periodictable package so we can get atomic mass [u]\n",
    "from periodictable import oxygen, silicon, sodium, zinc, tellurium, erbium\n",
    "element_list = [oxygen, silicon, sodium, zinc, tellurium, erbium]\n",
    "\n",
    "# Evaluate mollecular weight of material\n",
    "M = 0\n",
    "print('Element\\t Weight [u]\\t at.\\%')\n",
    "for element in element_list:\n",
    "    print('{}\\t{:4.2f}\\t\\t{:6.3f}'.format(element, element.mass, at_percent[element.name]))\n",
    "    M += element.mass * at_percent[element.name]/100\n",
    "print('\\nMollecular weight is {0:g} u or g/mol'.format(M))"
   ]
  },
  {
   "cell_type": "code",
   "execution_count": 54,
   "metadata": {},
   "outputs": [
    {
     "name": "stdout",
     "output_type": "stream",
     "text": [
      "Atomic number density: 9.16e+22 at./cm3\n",
      "Erbium number density: 7.42e+20 at./cm3\n"
     ]
    }
   ],
   "source": [
    "# Evaluate Atomic number density\n",
    "from scipy.constants import N_A\n",
    "n = rho * N_A / M\n",
    "print('Atomic number density: {:.3g} at./cm3'.format(n))\n",
    "\n",
    "# Element number density -  multiplying the Atomic density with erbium concentration \n",
    "print('Erbium number density: {:.3g} at./cm3'.format(n*at_percent['erbium']/100))"
   ]
  },
  {
   "cell_type": "code",
   "execution_count": 55,
   "metadata": {},
   "outputs": [
    {
     "name": "stdout",
     "output_type": "stream",
     "text": [
      "Average element spacing <r> = 68.5 nm\n"
     ]
    }
   ],
   "source": [
    "from numpy import pi\n",
    "n_at = n*at_percent['erbium']/100\n",
    "r = pow(3/(4*pi*n_at),1/3)  # Wigner-Seitz radius\n",
    "print('Average element spacing <r> = {:.3g} nm'.format(r*1E9))"
   ]
  },
  {
   "cell_type": "markdown",
   "metadata": {},
   "source": [
    "# Misc Notes\n",
    "To install python periodic table package run the following in the command line:\n",
    "\n",
    "    conda install -c conda-forge periodictable=1.4.1\n",
    "    \n",
    "or\n",
    "\n",
    "    pip install periodic table"
   ]
  },
  {
   "cell_type": "code",
   "execution_count": 9,
   "metadata": {},
   "outputs": [
    {
     "name": "stdout",
     "output_type": "stream",
     "text": [
      "Atomic number density: 1.11e+23 at./cm3\n",
      "Element number density: 1.11e+21 at./cm3\n"
     ]
    }
   ],
   "source": [
    "# Evaluate Atomic number density [at/cm3] from mol %\n",
    "from scipy.constants import N_A\n",
    "\n",
    "# USER INPUT\n",
    "rho = 5  # Material density [g/cm3]\n",
    "from periodictable import erbium as element # Element\n",
    "at_percent = 1  # Atomioc percent of element\n",
    "\n",
    "# M = element.mass\n",
    "N = rho * N_A / M\n",
    "n = N*at_percent/100\n",
    "print('Atomic number density: {:.3g} at./cm3'.format(N))\n",
    "print('Element number density: {:.3g} at./cm3'.format(n))"
   ]
  },
  {
   "cell_type": "code",
   "execution_count": 19,
   "metadata": {},
   "outputs": [
    {
     "name": "stdout",
     "output_type": "stream",
     "text": [
      "Average element spacing <r> = 59.8 nm\n"
     ]
    }
   ],
   "source": [
    "from numpy import pi\n",
    "r = pow(3/(4*pi*n),1/3)  # Wigner-Seitz radius\n",
    "print('Average element spacing <r> = {:.3g} nm'.format(r*1E9))"
   ]
  },
  {
   "cell_type": "code",
   "execution_count": null,
   "metadata": {},
   "outputs": [],
   "source": []
  }
 ],
 "metadata": {
  "anaconda-cloud": {},
  "kernelspec": {
   "display_name": "Python 3",
   "language": "python",
   "name": "python3"
  },
  "language_info": {
   "codemirror_mode": {
    "name": "ipython",
    "version": 3
   },
   "file_extension": ".py",
   "mimetype": "text/x-python",
   "name": "python",
   "nbconvert_exporter": "python",
   "pygments_lexer": "ipython3",
   "version": "3.6.6"
  }
 },
 "nbformat": 4,
 "nbformat_minor": 1
}
