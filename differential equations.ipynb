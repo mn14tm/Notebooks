{
 "cells": [
  {
   "cell_type": "markdown",
   "metadata": {},
   "source": [
    "# Python Differential Equation Solver \n",
    "\n",
    "http://sys-bio.org/wp-content/uploads/2015/01/introMatlabPythonODEs.pdf\n",
    "\n",
    "Code to solve: \n",
    "\n",
    "$dy1/dt = v0 - k1y1$ <br>\n",
    "$dy2/dt = k1y1 - k2y2$ <br>\n",
    "\n",
    "where yinit is a vector set of initial conditions and time is the time to simulate over."
   ]
  },
  {
   "cell_type": "code",
   "execution_count": 8,
   "metadata": {
    "collapsed": false
   },
   "outputs": [],
   "source": [
    "import numpy as np\n",
    "import matplotlib.pyplot as plt\n",
    "%matplotlib inline"
   ]
  },
  {
   "cell_type": "code",
   "execution_count": 9,
   "metadata": {
    "collapsed": false
   },
   "outputs": [
    {
     "data": {
      "text/plain": [
       "<matplotlib.text.Text at 0x6032cc0>"
      ]
     },
     "execution_count": 9,
     "metadata": {},
     "output_type": "execute_result"
    },
    {
     "data": {
      "image/png": "[encoded data removed]",
      "text/plain": [
       "<matplotlib.figure.Figure at 0x5fc2cc0>"
      ]
     },
     "metadata": {},
     "output_type": "display_data"
    }
   ],
   "source": [
    "from scipy.integrate import odeint\n",
    "\n",
    "v0 = 10\n",
    "k1 = 0.5\n",
    "k2 = 0.35\n",
    "\n",
    "# Declare model\n",
    "def myModel(y, t):\n",
    "    dy0 = v0 - k1*y[0]\n",
    "    dy1 = k1*y[0] - k2*y[1]\n",
    "    return [dy0, dy1]\n",
    "\n",
    "time = np.linspace(0, 20, 100)\n",
    "yinit = np.array([0.0, 0.0])\n",
    "y = odeint(myModel, yinit, time)\n",
    "\n",
    "plt.plot(time, y[:,0], time, y[:,1])\n",
    "plt.xlabel('t')\n",
    "plt.ylabel('y')"
   ]
  },
  {
   "cell_type": "code",
   "execution_count": null,
   "metadata": {
    "collapsed": true
   },
   "outputs": [],
   "source": []
  }
 ],
 "metadata": {
  "kernelspec": {
   "display_name": "Python 3",
   "language": "python",
   "name": "python3"
  },
  "language_info": {
   "codemirror_mode": {
    "name": "ipython",
    "version": 3
   },
   "file_extension": ".py",
   "mimetype": "text/x-python",
   "name": "python",
   "nbconvert_exporter": "python",
   "pygments_lexer": "ipython3",
   "version": "3.4.3"
  }
 },
 "nbformat": 4,
 "nbformat_minor": 0
}
