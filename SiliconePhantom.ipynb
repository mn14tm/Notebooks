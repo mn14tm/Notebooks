{
 "cells": [
  {
   "cell_type": "markdown",
   "metadata": {},
   "source": [
    "# Calculate silicone phantom compositions"
   ]
  },
  {
   "cell_type": "code",
   "execution_count": 10,
   "metadata": {
    "collapsed": true
   },
   "outputs": [],
   "source": [
    "import numpy as np\n",
    "import scipy as sp\n",
    "import matplotlib.pyplot as plt\n",
    "%matplotlib inline"
   ]
  },
  {
   "cell_type": "markdown",
   "metadata": {},
   "source": [
    "# Calculate volume of Phantom from mould dimensions"
   ]
  },
  {
   "cell_type": "code",
   "execution_count": 11,
   "metadata": {
    "collapsed": false
   },
   "outputs": [
    {
     "name": "stdout",
     "output_type": "stream",
     "text": [
      "Volume required: 0.500 cm^3\n"
     ]
    }
   ],
   "source": [
    "# Units in mm\n",
    "width = 50\n",
    "depth = 50\n",
    "thickness = 2\n",
    "\n",
    "phantomVolReq = width * depth * thickness * 1E-4 # cm^3\n",
    "print('Volume required: %.3f cm^3' % phantomVolReq)"
   ]
  },
  {
   "cell_type": "markdown",
   "metadata": {},
   "source": [
    "## Scatterer and Si weight\n",
    "Calculate the required volume of silicone required to achieve the desired scattering coefficient calculated by Mie theory http://omlc.org/calc/mie_calc.html. \n",
    "#### Constants used in Mie theory calculation:\n",
    "\n",
    "nMed = 1.41 (Silicone RTV)\n",
    "\n",
    "nSphere = (material dependent)\n",
    "\n",
    "lambda_0 = 1.54 um\n",
    "\n",
    "sphereDiameter = x um\n",
    "\n",
    "concentration in spheres / $\\mu m^3$\n",
    "\n",
    "#### Outputs: \n",
    "scattering coefficient ($\\mu_s$) in $mm^{-1}$ and g factor."
   ]
  },
  {
   "cell_type": "code",
   "execution_count": 12,
   "metadata": {
    "collapsed": false
   },
   "outputs": [],
   "source": [
    "# HELPER FUNCTIONS: \n",
    "def massDV(density, volume): return (density * volume)\n",
    "\n",
    "def volSphere(diameter): return (4/3)*np.pi*(diameter/2)**3\n",
    "\n",
    "# Calculate number of spheres in a gram given sphere diameter and mass\n",
    "def numSpheres(mass, density, diameter): return  (mass/density) / (volSphere(diameter) * 1E-12)\n",
    "\n",
    "# Convert concentrations given in online mie simulator (conc) and windows mie application (c):\n",
    "def CtoConc(c): return c * 1E-9 # convert num sph in 1mm3 to spheres/um^3\n",
    "def ConctoC(conc): return conc * 1E9 # convert spheres/um^3 to num sph in 1mm3"
   ]
  },
  {
   "cell_type": "code",
   "execution_count": 16,
   "metadata": {
    "collapsed": false
   },
   "outputs": [],
   "source": [
    "def SiliconeRequired(diameter, conc, sphDensity, sphPerGram, sphGram):\n",
    "    '''\n",
    "    diameter:     diameter of spheres in um\n",
    "    conc:         spheres/micron^3 for required for desired scattering coefficient. Calculated from Mie theory.\n",
    "    sphDensity :  density of the scattering material\n",
    "    sphPerGram:   manufacurer stated number of spheres per gram in product\n",
    "    sphGram:      number of grams to be used\n",
    "    '''\n",
    "    sphAdded = sphGram * sphPerGram    # Number of spheres added\n",
    "    sphVol = volSphere(diameter)\n",
    "    sphVolTotal = sphAdded * sphVol    # Total volume of scatterers added\n",
    "    \n",
    "    sphConc = sphVol*conc              # Required fraction of scatterers\n",
    "    siConc = 1 - sphConc               # Required fraction of silicone\n",
    "    print('Concentration of silicone in sample: %.2f' % (100 * siConc))\n",
    "    \n",
    "    siVol = sphVolTotal * (1/sphConc - 1) # Required volume of silicone ( from C1 = V1/(V1+V2) )\n",
    "    siDensity = 0.97                      # g/cm^3, ELASTOSIL® RT 601 A/B\n",
    "    \n",
    "    siliconeMass = massDV((siDensity), siVol*1E-12)   # Density in same units as siVol, i.e. as diameter\n",
    "    sphMass = massDV((sphDensity), sphVolTotal*1E-12) \n",
    "    print('Volume of a sphere: %.3f um^3' % sphVol)\n",
    "#     print('Volume of 1g of spheres: %.3g um^3' % sphVolTotal)\n",
    "#     print('Volume of silicone required: %.3g' % siVol)\n",
    "    weightPercent = 100* sphMass / (siliconeMass + sphMass)\n",
    "    print('Weight percent of scatters: %.f %%' % weightPercent)\n",
    "    \n",
    "    assert abs(siVol / (sphVolTotal + siVol) - siConc) < 0.001, 'Check concentrations'\n",
    "    \n",
    "    print('\\n\\nSilicone required: %.2g g' % (siliconeMass))\n",
    "    phantomVol = (sphVolTotal + siVol) * 1E-12\n",
    "    print('Final volume of phantom: %.3f cm^3' % phantomVol)\n",
    "\n",
    "    numMoulds = phantomVol / phantomVolReq\n",
    "    print('Number of moulds can make: %.2f' % numMoulds)\n",
    "    "
   ]
  },
  {
   "cell_type": "markdown",
   "metadata": {},
   "source": [
    "### SiO2 Scatterers\n",
    "nSphere = 1.4441 at 1.54 um (SiO2 http://refractiveindex.info/?shelf=main&book=SiO2&page=Malitson)\n",
    "g = 0.89\n",
    "\n",
    "For a scattering coefficient of 12 $mm^{-1}$ (equivalent to the dermis and epidermis), require 0.4 spheres per cubic micron ($um^3$)"
   ]
  },
  {
   "cell_type": "code",
   "execution_count": 17,
   "metadata": {
    "collapsed": false
   },
   "outputs": [
    {
     "name": "stdout",
     "output_type": "stream",
     "text": [
      "Concentration of silicone in sample: 58.11\n",
      "Volume of a sphere: 4.189 um^3\n",
      "Weight percent of scatters: 66 %\n",
      "\n",
      "\n",
      "Silicone required: 1.7 g\n",
      "Final volume of phantom: 3.000 cm^3\n",
      "Number of moulds can make: 6.00\n"
     ]
    }
   ],
   "source": [
    "diameter = 2 # um\n",
    "conc = 0.1  # Required number of spheres per um^3\n",
    "sphDensity = 2.65  # g/cm^3\n",
    "sphPerGram = 3E11  # Number of spheres in 1g (£100)\n",
    "sphGram = 1  # weight of scatterers added in g\n",
    "\n",
    "SiliconeRequired(diameter, conc, sphDensity, sphPerGram, sphGram)"
   ]
  },
  {
   "cell_type": "markdown",
   "metadata": {},
   "source": [
    "### Polystyrene - Polybead\n",
    "nSphere = 1.57 : http://www.polysciences.com/german/polybeadsupsup-microspheres-dry-form-150956m"
   ]
  },
  {
   "cell_type": "code",
   "execution_count": 32,
   "metadata": {
    "collapsed": false,
    "scrolled": true
   },
   "outputs": [
    {
     "name": "stdout",
     "output_type": "stream",
     "text": [
      "Number of spheres in sample: 1.35e+11\n",
      "Concentration of silicone in sample: 96.47\n",
      "Volume of a sphere: 1.767 um^3\n",
      "Weight percent of scatters: 4 %\n",
      "\n",
      "\n",
      "Silicone required: 6.3 g\n",
      "Final volume of phantom: 6.737 cm^3\n",
      "Number of moulds can make: 13.47\n"
     ]
    }
   ],
   "source": [
    "diameter = 1.5  # in um\n",
    "sphDensity = 1.05  # Polystyrene g/cm^3\n",
    "conc = 0.02  # Required number of spheres per um^3\n",
    "sphGram = 0.5  # weight of scatterers added in g (£165)\n",
    "sphPerGram = numSpheres(sphGram, sphDensity, diameter)  # Number of spheres in 1g\n",
    "\n",
    "print('Number of spheres in sample: %.3g' % (sphPerGram*sphGram))\n",
    "\n",
    "SiliconeRequired(diameter, conc, sphDensity, sphPerGram, sphGram)"
   ]
  },
  {
   "cell_type": "code",
   "execution_count": 20,
   "metadata": {
    "collapsed": false
   },
   "outputs": [
    {
     "name": "stdout",
     "output_type": "stream",
     "text": [
      "8.5 g of silicone\n"
     ]
    },
    {
     "data": {
      "text/plain": [
       "0.015000000000000001"
      ]
     },
     "execution_count": 20,
     "metadata": {},
     "output_type": "execute_result"
    }
   ],
   "source": [
    "# Using mie simulator windows concistency check\n",
    "c = 1.5E7                    # num sph in 1mm3 phantom in standalone form#\n",
    "\n",
    "totsph = 2.7E11/2            # Total number of spheres\n",
    "tvol = c * volSphere(1.5E-3) # sph vol/1mm3 phantom\n",
    "siv = 1 - tvol               # silicone vol/1mm^3 phantom\n",
    "\n",
    "mm3 = (totsph/c)             # total mm3 can make with 0.5g (2.7E11 spheres)\n",
    "\n",
    "stot = mm3 * siv             # mm3 of silicone needed (total phantom volume in mm * fraction of silicone)\n",
    "cm3 = stot * 1E-3            # total cm3\n",
    "\n",
    "smasss = 0.97 * cm3          # m = rho*v (si rho in g/cm^3)\n",
    "print('%.3g g of silicone' % smasss)    # g of silicone\n",
    "\n",
    "CtoConc(c)"
   ]
  },
  {
   "cell_type": "markdown",
   "metadata": {},
   "source": [
    "### TiO2\n",
    "nSphere = 2.45"
   ]
  },
  {
   "cell_type": "code",
   "execution_count": 34,
   "metadata": {
    "collapsed": false
   },
   "outputs": [
    {
     "name": "stdout",
     "output_type": "stream",
     "text": [
      "Concentration of silicone in sample: 99.84\n",
      "Volume of a sphere: 0.008 um^3\n",
      "Weight percent of scatters: 1 %\n",
      "\n",
      "\n",
      "Silicone required: 0.16 g\n",
      "Final volume of phantom: 0.167 cm^3\n",
      "Number of moulds can make: 0.33\n"
     ]
    }
   ],
   "source": [
    "diam = 0.25 # um\n",
    "conc = 0.2  # Required number of spheres per um^3\n",
    "sphDensity = 4.23\n",
    "sphGram = 0.5  # weight of scatterers added in g\n",
    "sphPerGram = numSpheres(sphGram, sphDensity, diameter)  # Number of spheres in 1g\n",
    "\n",
    "SiliconeRequired(diam, conc, sphDensity, sphPerGram, sphGram)"
   ]
  },
  {
   "cell_type": "markdown",
   "metadata": {
    "collapsed": true
   },
   "source": [
    "### Polyethylene\n",
    "From Cospheric 200mg, 1 - 4 um diameter for $200. n = 1.48."
   ]
  },
  {
   "cell_type": "code",
   "execution_count": 30,
   "metadata": {
    "collapsed": false
   },
   "outputs": [
    {
     "name": "stdout",
     "output_type": "stream",
     "text": [
      "Number of spheres in sample: 5.09e+09\n",
      "Concentration of silicone in sample: 91.82\n",
      "Volume of a sphere: 8.181 um^3\n",
      "Weight percent of scatters: 8 %\n",
      "\n",
      "\n",
      "Silicone required: 0.45 g\n",
      "Final volume of phantom: 0.509 cm^3\n",
      "Number of moulds can make: 1.02\n"
     ]
    }
   ],
   "source": [
    "diameter = 2.5  # in um\n",
    "sphDensity = 0.96  # Polystyrene g/cm^3\n",
    "conc = 0.01  # Required number of spheres per um^3\n",
    "sphGram = 0.2  # weight of scatterers added in g\n",
    "sphPerGram = numSpheres(sphGram, sphDensity, diameter)  # Number of spheres in 1g\n",
    "\n",
    "print('Number of spheres in sample: %.3g' % (sphPerGram*sphGram))\n",
    "\n",
    "SiliconeRequired(diameter, conc, sphDensity, sphPerGram, sphGram)"
   ]
  },
  {
   "cell_type": "code",
   "execution_count": null,
   "metadata": {
    "collapsed": true
   },
   "outputs": [],
   "source": []
  }
 ],
 "metadata": {
  "kernelspec": {
   "display_name": "Python 3",
   "language": "python",
   "name": "python3"
  },
  "language_info": {
   "codemirror_mode": {
    "name": "ipython",
    "version": 3
   },
   "file_extension": ".py",
   "mimetype": "text/x-python",
   "name": "python",
   "nbconvert_exporter": "python",
   "pygments_lexer": "ipython3",
   "version": "3.4.3"
  }
 },
 "nbformat": 4,
 "nbformat_minor": 0
}
