{
 "cells": [
  {
   "cell_type": "code",
   "execution_count": null,
   "metadata": {},
   "outputs": [],
   "source": [
    "# Update plot parameters for publication\n",
    "def update():\n",
    "    # Set figure size\n",
    "    WIDTH = 246  # the number (in pt) latex spits out when typing: \\the\\linewidth\n",
    "    FACTOR = 1.0  # the fraction of the width you'd like the figure to occupy\n",
    "    fig_width_pt = WIDTH * FACTOR\n",
    "\n",
    "    inches_per_pt = 1.0 / 72.27\n",
    "    golden_ratio = (np.sqrt(5) - 1.0) / 2.0  # because it looks good\n",
    "\n",
    "    fig_width_in = fig_width_pt * inches_per_pt  # figure width in inches\n",
    "    fig_height_in = fig_width_in * golden_ratio  # figure height in inches\n",
    "    fig_dims = [fig_width_in, fig_height_in]  # fig dims as a list\n",
    "\n",
    "    # Update rcParams for figure size\n",
    "    params = {\n",
    "        'font.size': 11.0,\n",
    "        'text.usetex': True,\n",
    "        'font.family': 'serif',\n",
    "        'font.serif': 'cm',\n",
    "        'savefig.dpi': 600,\n",
    "        'savefig.format': 'png',\n",
    "        'savefig.bbox': 'tight',\n",
    "        'figure.figsize': fig_dims,\n",
    "    }\n",
    "    plt.rcParams.update(params)\n",
    "    \n",
    "update()"
   ]
  }
 ],
 "metadata": {
  "kernelspec": {
   "display_name": "Python 3",
   "language": "python",
   "name": "python3"
  },
  "language_info": {
   "codemirror_mode": {
    "name": "ipython",
    "version": 3
   },
   "file_extension": ".py",
   "mimetype": "text/x-python",
   "name": "python",
   "nbconvert_exporter": "python",
   "pygments_lexer": "ipython3",
   "version": "3.6.3"
  }
 },
 "nbformat": 4,
 "nbformat_minor": 2
}
