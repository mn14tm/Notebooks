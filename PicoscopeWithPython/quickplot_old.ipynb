{
 "cells": [
  {
   "cell_type": "code",
   "execution_count": 2,
   "metadata": {
    "collapsed": true
   },
   "outputs": [],
   "source": [
    "import numpy as np\n",
    "import matplotlib.pyplot as plt\n",
    "import glob as gb\n",
    "\n",
    "# %matplotlib inline"
   ]
  },
  {
   "cell_type": "code",
   "execution_count": 104,
   "metadata": {
    "collapsed": false
   },
   "outputs": [],
   "source": [
    "files = gb.glob('./*.asc')\n",
    "\n",
    "# Plot data\n",
    "fig = plt.figure(figsize=(10.0,5.0))\n",
    "ax = fig.add_subplot(111)\n",
    "\n",
    "# Becker and Hickl card data\n",
    "data = np.genfromtxt(fname=files[0], delimiter='\\n', dtype=float, skip_header=11, skip_footer=1)\n",
    "data = data - min(data)\n",
    "data = data / max(data)\n",
    "t = np.linspace(0,100,np.size(data))\n",
    "ax.plot(t,data, label='Becker and Hickl Card', zorder=10)\n",
    "\n",
    "# Picoscope data\n",
    "data = np.genfromtxt(fname=files[1], delimiter=' ', dtype=float, usecols=(1))\n",
    "t = np.linspace(0,100,np.size(data))\n",
    "## Group data into groups of x data points and then average over last axis\n",
    "x = 1\n",
    "data = data.reshape(-1,x).mean(axis=-1)\n",
    "t = t.reshape(-1,x).mean(axis=-1)\n",
    "\n",
    "data = data - min(data)\n",
    "data = data / max(data)\n",
    "\n",
    "ax.plot(t,data, '.-', label='Picoscope')\n",
    "\n",
    "ax.axhline(1/np.e, color='k', linestyle='--', label='1/e')\n",
    "plt.legend(loc='best', prop={'size': 14})\n",
    "plt.xlabel('Time (ms)')\n",
    "ax.set_yscale('log')\n",
    "plt.xlim([0,100])\n",
    "plt.ylim([0.01, 1])\n",
    "plt.ylabel('Intensity (A.U.)')\n",
    "plt.savefig('picoscopeVsBecker_binNone.png', dpi=1000)\n",
    "plt.show()"
   ]
  },
  {
   "cell_type": "code",
   "execution_count": 43,
   "metadata": {
    "collapsed": false
   },
   "outputs": [],
   "source": [
    "plt.plot(data)\n",
    "plt.show()"
   ]
  },
  {
   "cell_type": "code",
   "execution_count": 55,
   "metadata": {
    "collapsed": false
   },
   "outputs": [],
   "source": [
    "plt.plot(data.reshape(-1,10).mean(axis=-1))\n",
    "plt.show()"
   ]
  },
  {
   "cell_type": "code",
   "execution_count": 107,
   "metadata": {
    "collapsed": false
   },
   "outputs": [
    {
     "data": {
      "text/plain": [
       "10000"
      ]
     },
     "execution_count": 107,
     "metadata": {},
     "output_type": "execute_result"
    }
   ],
   "source": [
    "np.size(data)"
   ]
  },
  {
   "cell_type": "code",
   "execution_count": 85,
   "metadata": {
    "collapsed": false
   },
   "outputs": [
    {
     "data": {
      "text/plain": [
       "array([[0, 1, 2],\n",
       "       [3, 4, 5]])"
      ]
     },
     "execution_count": 85,
     "metadata": {},
     "output_type": "execute_result"
    }
   ],
   "source": [
    "np.arange(6).reshape(-1,3)"
   ]
  },
  {
   "cell_type": "code",
   "execution_count": 88,
   "metadata": {
    "collapsed": false
   },
   "outputs": [
    {
     "data": {
      "text/plain": [
       "array([ 1.,  4.])"
      ]
     },
     "execution_count": 88,
     "metadata": {},
     "output_type": "execute_result"
    }
   ],
   "source": [
    "np.arange(6).reshape(-1,3).mean(axis=1)"
   ]
  },
  {
   "cell_type": "code",
   "execution_count": null,
   "metadata": {
    "collapsed": true
   },
   "outputs": [],
   "source": [
    ""
   ]
  }
 ],
 "metadata": {
  "kernelspec": {
   "display_name": "Python 3",
   "language": "python",
   "name": "python3"
  },
  "language_info": {
   "codemirror_mode": {
    "name": "ipython",
    "version": 3.0
   },
   "file_extension": ".py",
   "mimetype": "text/x-python",
   "name": "python",
   "nbconvert_exporter": "python",
   "pygments_lexer": "ipython3",
   "version": "3.5.1"
  }
 },
 "nbformat": 4,
 "nbformat_minor": 0
}