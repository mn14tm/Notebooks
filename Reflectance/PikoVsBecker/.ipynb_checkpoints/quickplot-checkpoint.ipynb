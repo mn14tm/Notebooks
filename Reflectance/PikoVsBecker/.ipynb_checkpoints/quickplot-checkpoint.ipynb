{
 "cells": [
  {
   "cell_type": "code",
   "execution_count": 2,
   "metadata": {
    "collapsed": true
   },
   "outputs": [],
   "source": [
    "import numpy as np\n",
    "import matplotlib.pyplot as plt\n",
    "import glob as gb\n",
    "\n",
    "# %matplotlib inline"
   ]
  },
  {
   "cell_type": "code",
   "execution_count": 5,
   "metadata": {
    "collapsed": false
   },
   "outputs": [],
   "source": [
    "files = gb.glob('./*.asc')\n",
    "\n",
    "# Plot data\n",
    "fig = plt.figure(figsize=(10.0,5.0))\n",
    "ax = fig.add_subplot(111)\n",
    "\n",
    "# Becker and Hickl card data\n",
    "data = np.genfromtxt(fname=files[0], delimiter='\\n', dtype=float, skip_header=11, skip_footer=1)\n",
    "data = data - min(data)\n",
    "data = data / max(data)\n",
    "t = np.linspace(0,50,np.size(data))\n",
    "ax.plot(t,data, label='Becker and Hickl Card')\n",
    "\n",
    "# Picoscope data\n",
    "data = np.genfromtxt(fname=files[1], delimiter='\\n', dtype=float)\n",
    "data = data - min(data)\n",
    "data = data / max(data)\n",
    "t = np.linspace(0,50,np.size(data))\n",
    "ax.plot(t,data, label='Picoscope')\n",
    "\n",
    "ax.axhline(1/np.e, color='k', linestyle='--', label='1/e')\n",
    "plt.legend(loc='best', prop={'size': 14})\n",
    "plt.xlabel('Time (ms)')\n",
    "# ax.set_yscale('log')\n",
    "# plt.xlim([0,30])\n",
    "# plt.ylim([0.01, 1])\n",
    "plt.ylabel('Intensity (A.U.)')\n",
    "# plt.savefig('data.png', dpi=1000)\n",
    "plt.show()"
   ]
  },
  {
   "cell_type": "code",
   "execution_count": 5,
   "metadata": {
    "collapsed": false
   },
   "outputs": [
    {
     "data": {
      "text/plain": [
       "['./PikoVsBecker\\\\becker.asc', './PikoVsBecker\\\\picoscope.asc']"
      ]
     },
     "execution_count": 5,
     "metadata": {},
     "output_type": "execute_result"
    }
   ],
   "source": [
    "files"
   ]
  },
  {
   "cell_type": "code",
   "execution_count": null,
   "metadata": {
    "collapsed": true
   },
   "outputs": [],
   "source": []
  }
 ],
 "metadata": {
  "kernelspec": {
   "display_name": "Python 3",
   "language": "python",
   "name": "python3"
  },
  "language_info": {
   "codemirror_mode": {
    "name": "ipython",
    "version": 3
   },
   "file_extension": ".py",
   "mimetype": "text/x-python",
   "name": "python",
   "nbconvert_exporter": "python",
   "pygments_lexer": "ipython3",
   "version": "3.5.1"
  }
 },
 "nbformat": 4,
 "nbformat_minor": 0
}
