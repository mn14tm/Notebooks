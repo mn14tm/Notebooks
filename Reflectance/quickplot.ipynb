{
 "cells": [
  {
   "cell_type": "code",
   "execution_count": 1,
   "metadata": {
    "collapsed": true
   },
   "outputs": [],
   "source": [
    "import numpy as np\n",
    "import matplotlib.pyplot as plt\n",
    "import glob as gb\n",
    "\n",
    "# %matplotlib inline"
   ]
  },
  {
   "cell_type": "code",
   "execution_count": 26,
   "metadata": {
    "collapsed": false
   },
   "outputs": [],
   "source": [
    "files = gb.glob('./*.asc')\n",
    "files = sorted(files, key=lambda x: int(x[2:-4]))\n",
    "# Import colorbar\n",
    "import matplotlib.cm as mplcm\n",
    "import matplotlib.colors as colors\n",
    "NUM_COLORS = len(files)\n",
    "cm = plt.get_cmap('rainbow')\n",
    "cNorm = colors.Normalize(vmin=0, vmax=NUM_COLORS)\n",
    "scalarMap = mplcm.ScalarMappable(norm=cNorm, cmap=cm)\n",
    "from cycler import cycler\n",
    "\n",
    "# Plot data\n",
    "fig = plt.figure(figsize=(10.0,5.0))\n",
    "ax = fig.add_subplot(111)\n",
    "ax.set_prop_cycle(cycler('color', [scalarMap.to_rgba(i) for i in range(NUM_COLORS)]))\n",
    "\n",
    "for f in files:\n",
    "    data = np.genfromtxt(fname=f, delimiter='\\n', dtype=float, skip_header=15, max_rows=(2010-10))\n",
    "    data = data - min(data)\n",
    "    data = data / max(data)\n",
    "    t = np.linspace(0,50,np.size(data))\n",
    "    ax.plot(t,data, label=f[2:-4])\n",
    "\n",
    "ax.axhline(1/np.e, color='k', linestyle='--', label='1/e')\n",
    "ax.set_yscale('log')\n",
    "plt.legend(loc='best', title='Reflectance %', prop={'size': 14}, ncol=2)\n",
    "plt.xlabel('Time (ms)')\n",
    "plt.xlim([0,30])\n",
    "plt.ylim([0.01, 1])\n",
    "plt.ylabel('Intensity (A.U.)')\n",
    "plt.savefig('normalised_data.png', dpi=1000)\n",
    "plt.show()"
   ]
  },
  {
   "cell_type": "code",
   "execution_count": 4,
   "metadata": {
    "collapsed": false
   },
   "outputs": [
    {
     "ename": "NameError",
     "evalue": "name 'data' is not defined",
     "output_type": "error",
     "traceback": [
      "\u001b[1;31m---------------------------------------------------------------------------\u001b[0m",
      "\u001b[1;31mNameError\u001b[0m                                 Traceback (most recent call last)",
      "\u001b[1;32m<ipython-input-4-4eae299094f9>\u001b[0m in \u001b[0;36m<module>\u001b[1;34m()\u001b[0m\n\u001b[0;32m      7\u001b[0m \u001b[1;33m\u001b[0m\u001b[0m\n\u001b[0;32m      8\u001b[0m \u001b[0mdataPico\u001b[0m \u001b[1;33m=\u001b[0m \u001b[0mnp\u001b[0m\u001b[1;33m.\u001b[0m\u001b[0mgenfromtxt\u001b[0m\u001b[1;33m(\u001b[0m\u001b[0mfname\u001b[0m\u001b[1;33m=\u001b[0m\u001b[0mfiles\u001b[0m\u001b[1;33m[\u001b[0m\u001b[1;36m0\u001b[0m\u001b[1;33m]\u001b[0m\u001b[1;33m,\u001b[0m \u001b[0mdelimiter\u001b[0m\u001b[1;33m=\u001b[0m\u001b[1;34m'\\n'\u001b[0m\u001b[1;33m,\u001b[0m \u001b[0mdtype\u001b[0m\u001b[1;33m=\u001b[0m\u001b[0mfloat\u001b[0m\u001b[1;33m,\u001b[0m \u001b[0mskip_header\u001b[0m\u001b[1;33m=\u001b[0m\u001b[1;36m15\u001b[0m\u001b[1;33m,\u001b[0m \u001b[0mmax_rows\u001b[0m\u001b[1;33m=\u001b[0m\u001b[1;33m(\u001b[0m\u001b[1;36m2010\u001b[0m\u001b[1;33m-\u001b[0m\u001b[1;36m10\u001b[0m\u001b[1;33m)\u001b[0m\u001b[1;33m)\u001b[0m\u001b[1;33m\u001b[0m\u001b[0m\n\u001b[1;32m----> 9\u001b[1;33m \u001b[0mdata\u001b[0m \u001b[1;33m=\u001b[0m \u001b[0mdata\u001b[0m \u001b[1;33m-\u001b[0m \u001b[0mmin\u001b[0m\u001b[1;33m(\u001b[0m\u001b[0mdata\u001b[0m\u001b[1;33m)\u001b[0m\u001b[1;33m\u001b[0m\u001b[0m\n\u001b[0m\u001b[0;32m     10\u001b[0m \u001b[0mdata\u001b[0m \u001b[1;33m=\u001b[0m \u001b[0mdata\u001b[0m \u001b[1;33m/\u001b[0m \u001b[0mmax\u001b[0m\u001b[1;33m(\u001b[0m\u001b[0mdata\u001b[0m\u001b[1;33m)\u001b[0m\u001b[1;33m\u001b[0m\u001b[0m\n\u001b[0;32m     11\u001b[0m \u001b[0mt\u001b[0m \u001b[1;33m=\u001b[0m \u001b[0mnp\u001b[0m\u001b[1;33m.\u001b[0m\u001b[0mlinspace\u001b[0m\u001b[1;33m(\u001b[0m\u001b[1;36m0\u001b[0m\u001b[1;33m,\u001b[0m\u001b[1;36m50\u001b[0m\u001b[1;33m,\u001b[0m\u001b[0mnp\u001b[0m\u001b[1;33m.\u001b[0m\u001b[0msize\u001b[0m\u001b[1;33m(\u001b[0m\u001b[0mdata\u001b[0m\u001b[1;33m)\u001b[0m\u001b[1;33m)\u001b[0m\u001b[1;33m\u001b[0m\u001b[0m\n",
      "\u001b[1;31mNameError\u001b[0m: name 'data' is not defined"
     ]
    }
   ],
   "source": [
    "files = gb.glob('./PikoVsBecker/*.asc')\n",
    "\n",
    "# Plot data\n",
    "fig = plt.figure(figsize=(10.0,5.0))\n",
    "ax = fig.add_subplot(111)\n",
    "\n",
    "# Becker and Hickl card data\n",
    "data = np.genfromtxt(fname=files[0], delimiter='\\n', dtype=float, skip_header=11, skip_footer=1)\n",
    "data = data - min(data)\n",
    "data = data / max(data)\n",
    "t = np.linspace(0,50,np.size(data))\n",
    "ax.plot(t,data, label=f[2:-4])\n",
    "\n",
    "ax.axhline(1/np.e, color='k', linestyle='--', label='1/e')\n",
    "ax.set_yscale('log')\n",
    "plt.legend(loc='best', title='Reflectance %', prop={'size': 14}, ncol=2)\n",
    "plt.xlabel('Time (ms)')\n",
    "plt.xlim([0,30])\n",
    "plt.ylim([0.01, 1])\n",
    "plt.ylabel('Intensity (A.U.)')\n",
    "plt.savefig('normalised_data.png', dpi=1000)\n",
    "plt.show()"
   ]
  },
  {
   "cell_type": "code",
   "execution_count": 5,
   "metadata": {
    "collapsed": false
   },
   "outputs": [
    {
     "data": {
      "text/plain": [
       "['./PikoVsBecker\\\\becker.asc', './PikoVsBecker\\\\picoscope.asc']"
      ]
     },
     "execution_count": 5,
     "metadata": {},
     "output_type": "execute_result"
    }
   ],
   "source": [
    "files"
   ]
  },
  {
   "cell_type": "code",
   "execution_count": null,
   "metadata": {
    "collapsed": true
   },
   "outputs": [],
   "source": []
  }
 ],
 "metadata": {
  "kernelspec": {
   "display_name": "Python 3",
   "language": "python",
   "name": "python3"
  },
  "language_info": {
   "codemirror_mode": {
    "name": "ipython",
    "version": 3
   },
   "file_extension": ".py",
   "mimetype": "text/x-python",
   "name": "python",
   "nbconvert_exporter": "python",
   "pygments_lexer": "ipython3",
   "version": "3.5.1"
  }
 },
 "nbformat": 4,
 "nbformat_minor": 0
}
