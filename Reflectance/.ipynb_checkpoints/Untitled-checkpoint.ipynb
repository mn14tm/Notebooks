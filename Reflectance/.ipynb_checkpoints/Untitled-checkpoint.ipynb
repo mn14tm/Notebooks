{
 "cells": [
  {
   "cell_type": "code",
   "execution_count": 1,
   "metadata": {
    "collapsed": true
   },
   "outputs": [],
   "source": [
    "import numpy as np\n",
    "import matplotlib.pyplot as plt\n",
    "import glob as gb\n",
    "\n",
    "# %matplotlib inline"
   ]
  },
  {
   "cell_type": "code",
   "execution_count": 60,
   "metadata": {
    "collapsed": false
   },
   "outputs": [],
   "source": [
    "files = gb.glob('./*.asc')\n",
    "files = sorted(files, key=lambda x: int(x[2:-4]))\n",
    "# Import colorbar\n",
    "import matplotlib.cm as mplcm\n",
    "import matplotlib.colors as colors\n",
    "NUM_COLORS = len(files)\n",
    "cm = plt.get_cmap('rainbow')\n",
    "cNorm = colors.Normalize(vmin=0, vmax=NUM_COLORS)\n",
    "scalarMap = mplcm.ScalarMappable(norm=cNorm, cmap=cm)\n",
    "from cycler import cycler\n",
    "\n",
    "# Plot data\n",
    "fig = plt.figure(figsize=(10.0,5.0))\n",
    "ax = fig.add_subplot(111)\n",
    "ax.set_prop_cycle(cycler('color', [scalarMap.to_rgba(i) for i in range(NUM_COLORS)]))\n",
    "\n",
    "for f in files:\n",
    "    data = np.genfromtxt(fname=f, delimiter='\\n', dtype=float, skip_header=11, max_rows=(2010-10))\n",
    "    data = data - min(data)\n",
    "#     data = data / max(data)\n",
    "    t = np.linspace(0,50,np.size(data))\n",
    "    ax.plot(t,data, label=f[2:-4])\n",
    "\n",
    "ax.axhline(1/np.e, color='k')\n",
    "# ax.set_yscale('log')\n",
    "plt.legend(loc='best', title='Reflectance %', prop={'size': 14}, ncol=2)\n",
    "plt.xlabel('Time (ms)')\n",
    "plt.ylabel('Intensity (A.U.)')\n",
    "plt.show()"
   ]
  },
  {
   "cell_type": "code",
   "execution_count": null,
   "metadata": {
    "collapsed": true
   },
   "outputs": [],
   "source": []
  }
 ],
 "metadata": {
  "kernelspec": {
   "display_name": "Python 3",
   "language": "python",
   "name": "python3"
  },
  "language_info": {
   "codemirror_mode": {
    "name": "ipython",
    "version": 3
   },
   "file_extension": ".py",
   "mimetype": "text/x-python",
   "name": "python",
   "nbconvert_exporter": "python",
   "pygments_lexer": "ipython3",
   "version": "3.5.1"
  }
 },
 "nbformat": 4,
 "nbformat_minor": 0
}
