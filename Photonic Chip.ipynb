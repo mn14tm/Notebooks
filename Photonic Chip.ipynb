{
 "cells": [
  {
   "cell_type": "markdown",
   "metadata": {},
   "source": [
    "# Photonic Chip"
   ]
  },
  {
   "cell_type": "markdown",
   "metadata": {},
   "source": [
    "## Physical Constants"
   ]
  },
  {
   "cell_type": "code",
   "execution_count": 1,
   "metadata": {},
   "outputs": [
    {
     "name": "stdout",
     "output_type": "stream",
     "text": [
      "Populating the interactive namespace from numpy and matplotlib\n"
     ]
    }
   ],
   "source": [
    "N_A = 6.02214129E23         # Avogadro Constant (mol^-1)\n",
    "c = 299792458               # Speed of light (m/s)\n",
    "h = 6.62606957E-34          # Planck Constant (m^2 kg / s)\n",
    "e = 1.6E-19                 # Charge of an electron (c)\n",
    "\n",
    "import numpy as np\n",
    "import matplotlib.pyplot as plt\n",
    "%pylab --no-import-all inline"
   ]
  },
  {
   "cell_type": "markdown",
   "metadata": {},
   "source": [
    "###Erbium"
   ]
  },
  {
   "cell_type": "markdown",
   "metadata": {},
   "source": [
    "Erbium 3+ ions are excited from the 4I_15/2 ground level to the 4S_11/2 level through absorption of a 980nm photon (polman1997Review) ."
   ]
  },
  {
   "cell_type": "code",
   "execution_count": 2,
   "metadata": {},
   "outputs": [],
   "source": [
    "sig_a = 2E-21               # Absorption cross-section (cm^2), cite{polman1993snoeks}"
   ]
  },
  {
   "cell_type": "markdown",
   "metadata": {},
   "source": [
    "Non-radiative relaxation to the 4I_13/2 excited state occurs. <b>This is a fast process</b>. There is a cross-section associated with the excited Erbium ions."
   ]
  },
  {
   "cell_type": "code",
   "execution_count": 3,
   "metadata": {},
   "outputs": [],
   "source": [
    "sig_ae = sig_a / 4000       # Approximation for excited stated absorption from cite{imai1996Temperaturesensing}"
   ]
  },
  {
   "cell_type": "markdown",
   "metadata": {},
   "source": [
    "Once in the lowest level of the excited state the Er3+ ions can radiatively decay back to the ground state, releasing 1540nm radiation. <b> This is a spin forbidden process and therefore occurs over a longer period of time</b>."
   ]
  },
  {
   "cell_type": "code",
   "execution_count": 4,
   "metadata": {},
   "outputs": [],
   "source": [
    "# From Polman review 1997 Table III (in Soda Lime Glass)\n",
    "lam_pump = 980              # Pump wavelength (nm)\n",
    "lam_sig = 1536              # Signal wavelength (um)\n",
    "sig_ap = 1E-21              # Pump absorption cross section (cm^2)\n",
    "sig_as = 4.1E-21            # Signal absorption cross section (cm^2)\n",
    "sig_es = 5.0E-21            # Signal emission cross section (cm^2)\n",
    "rho_silica = 1              # Density of silica glass (at./cm^3)\n",
    "er_conc = 1\n",
    "\n",
    "# Table 5\n",
    "t1 = 7.8                    # Er 1st excited state lifetime (ms)\n",
    "t2 = 1                     # Er 1st excited state lifetime, less than 1 in silica (us)"
   ]
  },
  {
   "cell_type": "markdown",
   "metadata": {},
   "source": [
    "### Glass Properties"
   ]
  },
  {
   "cell_type": "code",
   "execution_count": 5,
   "metadata": {},
   "outputs": [],
   "source": [
    "# Transparence\n",
    "transSilica = 92.5          # Undoped silica glass (%)\n",
    "transDoped = 87             # Doped layer (%)\n",
    "\n",
    "# Chemical Composition\n",
    "oh = 1350                   # OH in ppm\n",
    "al = 10                     # AL in ppb\n",
    "ca = 15                     # Ca in ppb\n",
    "cr = 11                     # Cr in ppb\n",
    "cu = 3                      # Cu in ppb\n",
    "fe = 5                      # Fe in ppb\n",
    "k = 10                      # K  in ppb\n",
    "li = 1                      # Li in ppb\n",
    "mg = 5                      # Mg in ppb\n",
    "na = 10                     # Na in ppb\n",
    "ti = 5                      # Ti in ppb\n",
    "v = 5                       # V  in ppb\n",
    "\n",
    "# Glass is roughly 99.9% pure silica (SiO2)\n",
    "\n",
    "spec200_rho = 2.2           # Density (g/cm^3)"
   ]
  },
  {
   "cell_type": "markdown",
   "metadata": {},
   "source": [
    "### Variable Constants"
   ]
  },
  {
   "cell_type": "markdown",
   "metadata": {},
   "source": [
    "Incident Light:"
   ]
  },
  {
   "cell_type": "code",
   "execution_count": 6,
   "metadata": {},
   "outputs": [],
   "source": [
    "lamb_i = 980                # Incident wavelength (nm)\n",
    "opt_pow = 0.1               # Optical power (W)"
   ]
  },
  {
   "cell_type": "markdown",
   "metadata": {},
   "source": [
    "## Calculations"
   ]
  },
  {
   "cell_type": "code",
   "execution_count": 8,
   "metadata": {},
   "outputs": [
    {
     "name": "stdout",
     "output_type": "stream",
     "text": [
      "Number density of erbium ions is: 3.336784E+22 Er/cm^3\n"
     ]
    }
   ],
   "source": [
    "percMole = 0.5              # Percent concentration (at .% mol)\n",
    "#conc1 =                     # Mole fraction\n",
    "conc = 55.4086E3                 # Erbium Concentration (mol/m^3)\n",
    "n = N_A * conc              # Number density (=N/V)\n",
    "print('Number density of erbium ions is: %E Er/cm^3'% (n*1E-6))"
   ]
  },
  {
   "cell_type": "markdown",
   "metadata": {},
   "source": [
    "Fluorescence power of the chip is of the order of nW at 1540nm."
   ]
  },
  {
   "cell_type": "code",
   "execution_count": 9,
   "metadata": {},
   "outputs": [],
   "source": [
    "lamb_e = 1540              # Emitted fluorescence (nm)\n",
    "f = c / lamb_e             # Frequency (GHz)\n",
    "energy = h * f * 1E9       # Energy of a fluorescent photon (J)"
   ]
  },
  {
   "cell_type": "code",
   "execution_count": 10,
   "metadata": {},
   "outputs": [
    {
     "name": "stdout",
     "output_type": "stream",
     "text": [
      "Energy of a 1540 nm photon is 8.061874E-01 eV\n"
     ]
    }
   ],
   "source": [
    "energy_ev = energy/e\n",
    "print ('Energy of a %d nm photon is %E eV'% (lamb_e, energy_ev))"
   ]
  },
  {
   "cell_type": "code",
   "execution_count": 11,
   "metadata": {},
   "outputs": [
    {
     "name": "stdout",
     "output_type": "stream",
     "text": [
      "Peak optical fluorescent power through the chip: 5 nW\n",
      "Number of photons fluorescent photons per second: 3.876270E+19\n"
     ]
    }
   ],
   "source": [
    "fl_pow = 5                 # Fluorescent spectrum peak power \n",
    "print('Peak optical fluorescent power through the chip: %d nW' % fl_pow)\n",
    "\n",
    "photons = fl_pow / energy\n",
    "\n",
    "print('Number of photons fluorescent photons per second: %E'% photons)"
   ]
  },
  {
   "cell_type": "markdown",
   "metadata": {},
   "source": [
    "## Detector"
   ]
  },
  {
   "cell_type": "code",
   "execution_count": 12,
   "metadata": {},
   "outputs": [
    {
     "name": "stdout",
     "output_type": "stream",
     "text": [
      "Expected number of hits for 100% conversion: 7.752540E+18\n"
     ]
    }
   ],
   "source": [
    "detector = 0.2           # Detector area (mm^2)\n",
    "measure = 1                # FL_pow easurement area (mm^2)\n",
    "hit = photons * detector / measure     # Photons hitting the detector\n",
    "print('Expected number of hits for 100%% conversion: %E'% hit)"
   ]
  },
  {
   "cell_type": "code",
   "execution_count": 13,
   "metadata": {},
   "outputs": [
    {
     "data": {
      "text/plain": [
       "[<matplotlib.lines.Line2D at 0x10e61bc88>]"
      ]
     },
     "execution_count": 13,
     "metadata": {},
     "output_type": "execute_result"
    },
    {
     "data": {
      "image/png": "[encoded data removed]",
      "text/plain": [
       "<matplotlib.figure.Figure at 0x108bec710>"
      ]
     },
     "metadata": {},
     "output_type": "display_data"
    }
   ],
   "source": [
    "x = np.linspace(1,40)\n",
    "plt.plot(x,np.log(1/x))"
   ]
  },
  {
   "cell_type": "code",
   "execution_count": 10,
   "metadata": {},
   "outputs": [],
   "source": []
  }
 ],
 "metadata": {
  "kernelspec": {
   "display_name": "Python 3",
   "language": "python",
   "name": "python3"
  },
  "language_info": {
   "codemirror_mode": {
    "name": "ipython",
    "version": 3
   },
   "file_extension": ".py",
   "mimetype": "text/x-python",
   "name": "python",
   "nbconvert_exporter": "python",
   "pygments_lexer": "ipython3",
   "version": "3.6.4"
  }
 },
 "nbformat": 4,
 "nbformat_minor": 1
}
