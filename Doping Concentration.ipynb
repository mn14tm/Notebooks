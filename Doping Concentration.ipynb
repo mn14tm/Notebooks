{
 "cells": [
  {
   "cell_type": "markdown",
   "metadata": {},
   "source": [
    "# Doping Concentration\n",
    "Notebook to calculate the doping concentration of an implanted material.\n",
    "\n",
    "Method taken from: https://www.rp-photonics.com/doping_concentration.html"
   ]
  },
  {
   "cell_type": "markdown",
   "metadata": {},
   "source": [
    "## Constants"
   ]
  },
  {
   "cell_type": "code",
   "execution_count": 4,
   "metadata": {
    "collapsed": false
   },
   "outputs": [],
   "source": [
    "m_p = 1.6726E-24  # Mass of a proton"
   ]
  },
  {
   "cell_type": "markdown",
   "metadata": {},
   "source": [
    "## Number Density"
   ]
  },
  {
   "cell_type": "code",
   "execution_count": 8,
   "metadata": {
    "collapsed": false
   },
   "outputs": [
    {
     "data": {
      "text/plain": [
       "1.3745910440589964e+20"
      ]
     },
     "execution_count": 8,
     "metadata": {},
     "output_type": "execute_result"
    }
   ],
   "source": [
    "# Example for Nd^3+:Y_3 Al_5 O_12\n",
    "mass_density = 4.55  # Mass density of one host garnet unit, i.e. host material minus dopant (g/cm3)\n",
    "repl = 3  # Number of Y3+ that can be replaced by dopant (Nd3+)\n",
    "\n",
    "# Std. Atomic masses\n",
    "m_o = 16.0\n",
    "m_y = 88.9\n",
    "m_al = 27.0\n",
    "\n",
    "# Number of atoms in unit cell\n",
    "n_o = 12\n",
    "n_y = 3\n",
    "n_al = 5\n",
    "\n",
    "m_garnet = (m_o*n_o + m_y*n_y + m_al * n_al) * m_p  # Mass of the Y_3 Al_5 O_12 garnet\n",
    "\n",
    "mol_percent = 1.0  # Molar percent dopant (at .%)\n",
    "\n",
    "# Number density (g/cm3)\n",
    "(repl * mass_density / m_garnet) * (mol_percent / 100)"
   ]
  },
  {
   "cell_type": "code",
   "execution_count": 10,
   "metadata": {
    "collapsed": false
   },
   "outputs": [
    {
     "data": {
      "text/plain": [
       "0.6173611111111111"
      ]
     },
     "execution_count": 10,
     "metadata": {},
     "output_type": "execute_result"
    }
   ],
   "source": [
    "88.9/144"
   ]
  },
  {
   "cell_type": "code",
   "execution_count": 16,
   "metadata": {
    "collapsed": false
   },
   "outputs": [
    {
     "data": {
      "text/plain": [
       "0.7276402223345123"
      ]
     },
     "execution_count": 16,
     "metadata": {},
     "output_type": "execute_result"
    }
   ],
   "source": [
    "3* 144/(m_o*n_o + m_y*n_y + m_al * n_al)"
   ]
  },
  {
   "cell_type": "markdown",
   "metadata": {},
   "source": [
    "### Erbium doped TZN"
   ]
  },
  {
   "cell_type": "code",
   "execution_count": null,
   "metadata": {
    "collapsed": true
   },
   "outputs": [],
   "source": [
    "m_er = 167.3"
   ]
  }
 ],
 "metadata": {
  "kernelspec": {
   "display_name": "Python 3",
   "language": "python",
   "name": "python3"
  },
  "language_info": {
   "codemirror_mode": {
    "name": "ipython",
    "version": 3
   },
   "file_extension": ".py",
   "mimetype": "text/x-python",
   "name": "python",
   "nbconvert_exporter": "python",
   "pygments_lexer": "ipython3",
   "version": "3.4.3"
  }
 },
 "nbformat": 4,
 "nbformat_minor": 0
}
