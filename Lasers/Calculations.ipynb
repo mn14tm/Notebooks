{
 "cells": [
  {
   "cell_type": "markdown",
   "metadata": {},
   "source": [
    "# Lasers Parameter Calculations\n",
    "Notebook with basic calculations that are useful for (pulsed) laser experiments.\n",
    "\n",
    "* Basic calculations - evaluate the applied fluence/energy/intensity\n",
    "* Spot size vs distance from the focal plane - useful for calculating defocusing distances when a larger laser spot is required for a given lens\n",
    "* Specific functions for the deposition system in B11"
   ]
  },
  {
   "cell_type": "code",
   "execution_count": 1,
   "metadata": {},
   "outputs": [],
   "source": [
    "import pandas as pd\n",
    "import numpy as np\n",
    "import matplotlib.pyplot as plt\n",
    "%matplotlib notebook"
   ]
  },
  {
   "cell_type": "markdown",
   "metadata": {},
   "source": [
    "# Basic Calculations\n",
    "Evaluate the laser energy, fluence and intensity\n",
    "* Laser energy is measured with a pyroelectric energy meter\n",
    "* Beam waist is determined either theroetically, via D2-LnF measurements or by direct viewing with a CCD - latter is better if the spot is not circular, i.e. an ellipse when the laser is not incident normal onto the target surface\n",
    "* Laser pulse width can either be determined via FGROG/autocorrelation measurements or taken from the laser specifications"
   ]
  },
  {
   "cell_type": "code",
   "execution_count": 2,
   "metadata": {},
   "outputs": [],
   "source": [
    "# Functions\n",
    "def E(F, area):\n",
    "    \"\"\"Convert average fluence [J/cm2] to pulse energy [J]\"\"\"\n",
    "    return F * area\n",
    "\n",
    "def F(E, area):\n",
    "    \"\"\"Convert pulse energy [J] and beam waist [cm] to average fluence [J/cm2]\"\"\"\n",
    "    return E/area\n",
    "\n",
    "def F_peak(E, area):\n",
    "    \"\"\"Convert pulse energy [J] and beam waist [cm] to peak fluence [J/cm2] assuming Gaussian intensity profile\"\"\"\n",
    "    return 2*F(E, area)"
   ]
  },
  {
   "cell_type": "code",
   "execution_count": 3,
   "metadata": {},
   "outputs": [
    {
     "name": "stdout",
     "output_type": "stream",
     "text": [
      "Average Fluence = 0.32 J/cm2\n"
     ]
    }
   ],
   "source": [
    "# Evaluate average fluence\n",
    "E = 120E-6  # Energy of the pulse\n",
    "w0 = 220E-4/2  # Beam waist [cm]\n",
    "area = np.pi * w0**2  # Beam area assuming a circle [cm2]\n",
    "print('Average Fluence = {:.2g} J/cm2'.format(F(E, area)))"
   ]
  },
  {
   "cell_type": "code",
   "execution_count": 4,
   "metadata": {},
   "outputs": [
    {
     "name": "stdout",
     "output_type": "stream",
     "text": [
      "Laer Intensity = 3.2e+12 J/(cm2•s)\n"
     ]
    }
   ],
   "source": [
    "# Evaluate intensity\n",
    "t = 100E-15  # Pulse width [s]\n",
    "print('Laer Intensity = {:.2g} J/(cm2•s)'.format(F(E, area)/t))"
   ]
  },
  {
   "cell_type": "markdown",
   "metadata": {},
   "source": [
    "# Spot size vs distance from the focal plane\n",
    "\n",
    "To theoretically calculate the Beam Waist, w0 [mm], at the foal plane given the input beam parmeters and lens use the calculator at http://www.calctool.org/CALC/phys/optics/f_NA\n",
    "\n",
    "Calculations are taken from:\n",
    "* https://www.edmundoptics.com/resources/tech-tools/gaussian-beams/\n",
    "* http://www.colorado.edu/physics/phys4510/phys4510_fa05/Chapter5.pdf"
   ]
  },
  {
   "cell_type": "code",
   "execution_count": 9,
   "metadata": {},
   "outputs": [
    {
     "data": {
      "text/plain": [
       "19.183475807343118"
      ]
     },
     "execution_count": 9,
     "metadata": {},
     "output_type": "execute_result"
    }
   ],
   "source": [
    "(800E-3 * 56.5E-4) / (np.pi*.75E-4)"
   ]
  },
  {
   "cell_type": "code",
   "execution_count": 5,
   "metadata": {},
   "outputs": [],
   "source": [
    "# Functions\n",
    "def z_R(w0, lam):\n",
    "    \"\"\"Rayleigh Range, z_R (mm)\"\"\"\n",
    "    return np.pi * w0**2 / (lam*1E-6)\n",
    "\n",
    "def w(z, w0, z_R):\n",
    "    \"\"\"Half Beam Diameter, w(z) (mm)\"\"\"\n",
    "    return w0 * np.sqrt(1 + (z/z_R)**2)\n",
    "\n",
    "def theta(lam, w0):\n",
    "    \"\"\"Half Angle Divergence, θ (mrad)\"\"\"\n",
    "    return lam*1E-3 / (np.pi*w0)"
   ]
  },
  {
   "cell_type": "code",
   "execution_count": 6,
   "metadata": {},
   "outputs": [
    {
     "data": {
      "text/plain": [
       "Text(0,0.5,'w(z) [mm]')"
      ]
     },
     "execution_count": 6,
     "metadata": {},
     "output_type": "execute_result"
    },
    {
     "data": {
      "image/png": "[encoded data removed]",
      "text/plain": [
       "<Figure size 432x288 with 1 Axes>"
      ]
     },
     "metadata": {
      "needs_background": "light"
     },
     "output_type": "display_data"
    }
   ],
   "source": [
    "# Plot the beam waist vs position from focal plane\n",
    "w0 = 60E-3 / 2  # Beam Waist, w0 [mm]\n",
    "lam = 780  # Laser Wavelength, λ (nm)\n",
    "z = np.linspace(start=0, stop=10, num=1000)  # Distance from focal plane to plot over [mm]\n",
    "\n",
    "# Calculations and plot\n",
    "fig, ax = plt.subplots()\n",
    "y = w(z, w0, z_R(w0, lam))\n",
    "ax.plot(z, y, z, -y, color='black')\n",
    "ax.fill_between(z, y, -y, alpha=0.4)\n",
    "ax.set_title('Gaussian beam radius with distance from focal point')\n",
    "ax.set_xlabel('z [mm]')\n",
    "ax.set_ylabel('w(z) [mm]')"
   ]
  },
  {
   "cell_type": "code",
   "execution_count": 32,
   "metadata": {},
   "outputs": [
    {
     "name": "stdout",
     "output_type": "stream",
     "text": [
      "w0(z=6 mm) = 58.02 um\n"
     ]
    }
   ],
   "source": [
    "# To get beam waist at a specific point\n",
    "z = 6\n",
    "y = w(z, w0, z_R(w0, lam))\n",
    "print('w0(z={:.4g} mm) = {:.4g} um'.format(z, y*1E3))"
   ]
  },
  {
   "cell_type": "markdown",
   "metadata": {},
   "source": [
    "# B11 System"
   ]
  },
  {
   "cell_type": "code",
   "execution_count": 4,
   "metadata": {},
   "outputs": [],
   "source": [
    "# Spot size (major axis)\n",
    "D = 75  # minor axis diameter (normal to beam)\n",
    "AOI = 70  # degrees\n",
    "\n",
    "r_minor = D / 2\n",
    "r_major = 0.5 * D / np.sin(np.deg2rad(90-AOI))"
   ]
  },
  {
   "cell_type": "code",
   "execution_count": 20,
   "metadata": {
    "scrolled": true
   },
   "outputs": [
    {
     "name": "stdout",
     "output_type": "stream",
     "text": [
      "Fluence in major 0.53 J/cm2 and minor 4.53 J/cm2 axis\n"
     ]
    }
   ],
   "source": [
    "# Fluence in major and minor axis\n",
    "E = 200E-6\n",
    "print('Fluence in major {:.3g} J/cm2 and minor {:.3g} J/cm2 axis'.format(F_avg(E, r_major*1E-4), F_avg(E, r_minor*1E-4)))"
   ]
  },
  {
   "cell_type": "code",
   "execution_count": 12,
   "metadata": {},
   "outputs": [
    {
     "data": {
      "text/plain": [
       "50.0"
      ]
     },
     "execution_count": 12,
     "metadata": {},
     "output_type": "execute_result"
    }
   ],
   "source": [
    "# Pulser per spot/area\n",
    "v = 1.5  # mm/s\n",
    "f = 1E3  # Rep rate of laser [Hz]\n",
    "D = 75E-3  # mm\n",
    "\n",
    "# Average pulses per area = length drawn per sec / rastering speed\n",
    "f*D / v  # mm/s"
   ]
  },
  {
   "cell_type": "code",
   "execution_count": null,
   "metadata": {},
   "outputs": [],
   "source": [
    "# [Femtosecond laser volume ablation rate and threshold measurements by differential weighing]\n",
    "\n",
    "C = 1E3     # Rep rate of laser [Hz]\n",
    "L_path = 20  # Length of raster path (line length x number of of lines) [mm]\n",
    "k = 10      # number of passes\n",
    "v = 10      # Velocity of raster [mm/s]\n",
    "\n",
    "# Number of pulses used to machine sample\n",
    "Np = C * L_path * k / v\n",
    "\n",
    "rho = 2.2  # Density of sample [g/cm3]\n",
    "m = 10     # Change in mass [g]\n",
    "\n",
    "# Ablated volume\n",
    "vol = m / (rho*Np)"
   ]
  },
  {
   "cell_type": "markdown",
   "metadata": {},
   "source": [
    "# Misc\n",
    "## Beam through aperture at lens focal plane\n",
    "Sometimes the beam quality in the tails coming out the laser is poor and so one can pass the beam through an aperture to truncate the tails, just before the focusing lens, to improve the shape of the focal spot. Ablation experiments, such as D2-LnF measurements, require a good focal spot.\n",
    "\n",
    "The following code replicates the calculation in the paper \"Femtosecond laser ablation properties of borosilicate glass, Yakar\" to evaluate the change in energy density of a truncated Gaussian beam at the focal plane of the objective lens."
   ]
  },
  {
   "cell_type": "code",
   "execution_count": 10,
   "metadata": {},
   "outputs": [],
   "source": [
    "from scipy.special import j0\n",
    "from scipy.integrate import quad\n",
    "\n",
    "def F(r, w, f, lam, a, E):\n",
    "    k = (2 * np.pi * w) / ( f * lam)\n",
    "    \n",
    "    def func(rho, k, r):\n",
    "        return rho * np.exp(-rho**2) * j0(k*r*rho)\n",
    "    \n",
    "    integral = quad(func, 0, a/w, args=(k, r))[0] **2\n",
    "    \n",
    "    return (2*E*k**2/np.pi) * integral\n",
    "\n",
    "w = 7E-3 / 2\n",
    "f = 40E-3\n",
    "lam = 780E-9\n",
    "a = 7E-3 / 2\n",
    "E = 100E-6\n",
    "\n",
    "r = np.linspace(0, 10E-6, num=1000)\n",
    "vF = np.vectorize(F)\n",
    "y = vF(r, w, f, lam, a, E)\n",
    "\n",
    "fig, ax = plt.subplots()\n",
    "ax.plot(r, y)\n",
    "\n",
    "a = 5.5E-3/ 2\n",
    "y2 = vF(r, w, f, lam, a, E)\n",
    "ax.plot(r, y2)"
   ]
  }
 ],
 "metadata": {
  "kernelspec": {
   "display_name": "Python 3",
   "language": "python",
   "name": "python3"
  },
  "language_info": {
   "codemirror_mode": {
    "name": "ipython",
    "version": 3
   },
   "file_extension": ".py",
   "mimetype": "text/x-python",
   "name": "python",
   "nbconvert_exporter": "python",
   "pygments_lexer": "ipython3",
   "version": "3.6.7"
  }
 },
 "nbformat": 4,
 "nbformat_minor": 2
}
