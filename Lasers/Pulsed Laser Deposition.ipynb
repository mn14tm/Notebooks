{
 "cells": [
  {
   "cell_type": "markdown",
   "metadata": {},
   "source": [
    "# Pulsed Laser Deposition Systems\n",
    "Notebook with specific calculations that are useful for pulsed laser deposition experiments with University of Leeds systems. See Calculations.ipynb for typical laser calculations.\n",
    "\n",
    "* B45 System\n",
    "* B11 System"
   ]
  },
  {
   "cell_type": "code",
   "execution_count": 1,
   "metadata": {},
   "outputs": [],
   "source": [
    "from numpy import pi\n",
    "import pandas as pd\n",
    "import numpy as np\n",
    "import matplotlib.pyplot as plt\n",
    "%matplotlib notebook"
   ]
  },
  {
   "cell_type": "markdown",
   "metadata": {},
   "source": [
    "# Laser Beam Area and Fluence"
   ]
  },
  {
   "cell_type": "code",
   "execution_count": 2,
   "metadata": {},
   "outputs": [],
   "source": [
    "# Helper functions\n",
    "def calc_F(E, area):\n",
    "    \"\"\"Convert pulse energy [J] and beam area [cm^2] to average fluence [J/cm2]\"\"\"\n",
    "    return E / area\n",
    "\n",
    "def calc_E(F, area):\n",
    "    \"\"\"Convert average fluence [J/cm2] and beam area [cm^2] to pulse energy [uJ]\"\"\"\n",
    "    return F * area * 1E6"
   ]
  },
  {
   "cell_type": "code",
   "execution_count": 3,
   "metadata": {},
   "outputs": [
    {
     "name": "stdout",
     "output_type": "stream",
     "text": [
      "B45: Ellipse major axis = 27.00 um, minor axis = 38.18 um and area = 3.24e-05 cm2\n"
     ]
    }
   ],
   "source": [
    "# Theoretical calculation of beam area in b45\n",
    "aoi = 45  # Angle of incidence of laser on target [degrees]\n",
    "minor = 27 # Minor axis of ellipse [um], Jaya calculated based on Gaussian optics and assuming a low divergence.\n",
    "major = minor/np.sin(np.deg2rad(90-aoi)) # Major axis of ellipse [um]\n",
    "area_b45 = pi * major * minor * 1E-8 # Area of the ellipse on the target [cm^2]\n",
    "print('B45: Ellipse major axis = {:.2f} um, minor axis = {:.2f} um and area = {:.3g} cm2'.format(minor, major, area_b45))"
   ]
  },
  {
   "cell_type": "code",
   "execution_count": 4,
   "metadata": {},
   "outputs": [
    {
     "name": "stdout",
     "output_type": "stream",
     "text": [
      "B11: Theoretical Ellipse major axis = 37.5 um, minor axis = 75 um and area = 8.84e-05 cm2\n"
     ]
    }
   ],
   "source": [
    "# Theoretical calculation of beam area in b11 - use only if direct measurement not possible\n",
    "aoi = 60  # Angle of incidence of laser on target [degrees]\n",
    "minor = 75/2 # Minor axis of ellipse [um]\n",
    "major = minor/np.sin(np.deg2rad(90-aoi)) # Major axis of ellipse [um]\n",
    "\n",
    "area = pi * major * minor * 1E-8 # Area of the ellipse on the target [cm^2]\n",
    "print('B11: Theoretical Ellipse major axis = {:g} um, minor axis = {:g} um and area = {:.3g} cm2'.format(minor, major, area))"
   ]
  },
  {
   "cell_type": "code",
   "execution_count": 5,
   "metadata": {},
   "outputs": [
    {
     "name": "stdout",
     "output_type": "stream",
     "text": [
      "B11: Experimental Ellipse major axis = 27.75 um, minor axis = 70.53 um and area = 6.15e-05 cm2\n"
     ]
    }
   ],
   "source": [
    "## Experimental measurement of beam area - see Calculations.ipynb for measurement options\n",
    "major = 70.53  # Elipse axis [um]\n",
    "minor = 27.75  # Elipse axis [um]\n",
    "area = pi * major * minor * 1E-8 # Area of the ellipse on the target [cm^2]\n",
    "print('B11: Experimental Ellipse major axis = {:g} um, minor axis = {:g} um and area = {:.3g} cm2'.format(minor, major, area))"
   ]
  },
  {
   "cell_type": "code",
   "execution_count": 6,
   "metadata": {},
   "outputs": [
    {
     "name": "stdout",
     "output_type": "stream",
     "text": [
      "B11 to B45 beam area ratio 1.90\n",
      "B45: E = 65.00 uJ and F_avg = 2.01 J/cm2; Bll: E = 123.40 uJ\n"
     ]
    }
   ],
   "source": [
    "# Ratio of beam areas b11/b45 - need to adjust energy in accordance if transitioning between systems\n",
    "b45_to_b11 = area / area_b45\n",
    "print('B11 to B45 beam area ratio {:.2f}'.format(b45_to_b11))\n",
    "\n",
    "E_b45 = 65E-6\n",
    "E = E_b45*b45_to_b11\n",
    "\n",
    "print('B45: E = {:.2f} uJ and F_avg = {:.2f} J/cm2; Bll: E = {:.2f} uJ'.format(E_b45*1E6, calc_F(E_b45, area_b45), E*1E6))"
   ]
  },
  {
   "cell_type": "code",
   "execution_count": 7,
   "metadata": {},
   "outputs": [
    {
     "data": {
      "text/html": [
       "<div>\n",
       "<style scoped>\n",
       "    .dataframe tbody tr th:only-of-type {\n",
       "        vertical-align: middle;\n",
       "    }\n",
       "\n",
       "    .dataframe tbody tr th {\n",
       "        vertical-align: top;\n",
       "    }\n",
       "\n",
       "    .dataframe thead th {\n",
       "        text-align: right;\n",
       "    }\n",
       "</style>\n",
       "<table border=\"1\" class=\"dataframe\">\n",
       "  <thead>\n",
       "    <tr style=\"text-align: right;\">\n",
       "      <th></th>\n",
       "      <th>F_avg</th>\n",
       "      <th>E_applied</th>\n",
       "    </tr>\n",
       "  </thead>\n",
       "  <tbody>\n",
       "    <tr>\n",
       "      <th>0</th>\n",
       "      <td>0.70</td>\n",
       "      <td>43.0</td>\n",
       "    </tr>\n",
       "    <tr>\n",
       "      <th>1</th>\n",
       "      <td>1.08</td>\n",
       "      <td>66.5</td>\n",
       "    </tr>\n",
       "    <tr>\n",
       "      <th>2</th>\n",
       "      <td>1.67</td>\n",
       "      <td>102.9</td>\n",
       "    </tr>\n",
       "    <tr>\n",
       "      <th>3</th>\n",
       "      <td>2.59</td>\n",
       "      <td>159.1</td>\n",
       "    </tr>\n",
       "    <tr>\n",
       "      <th>4</th>\n",
       "      <td>4.00</td>\n",
       "      <td>245.9</td>\n",
       "    </tr>\n",
       "  </tbody>\n",
       "</table>\n",
       "</div>"
      ],
      "text/plain": [
       "   F_avg  E_applied\n",
       "0   0.70       43.0\n",
       "1   1.08       66.5\n",
       "2   1.67      102.9\n",
       "3   2.59      159.1\n",
       "4   4.00      245.9"
      ]
     },
     "execution_count": 7,
     "metadata": {},
     "output_type": "execute_result"
    }
   ],
   "source": [
    "# Energies to set for logarithmically spaced Fluences\n",
    "Fmin = 0.7  # Minimum fluence [J/cm2]\n",
    "Fmax = 4.0  # Maximum fluence [J/cm2]\n",
    "num = 5  # Number of steps\n",
    "\n",
    "df = pd.DataFrame({'F_avg':np.geomspace(Fmin, Fmax, num=num)})\n",
    "df['E_applied'] = calc_E(df['F_avg'], area)\n",
    "df = df.sort_values(['E_applied', 'F_avg'])\n",
    "df = df.round({'F_avg': 2, 'E_applied': 1})\n",
    "df.to_clipboard()\n",
    "df"
   ]
  },
  {
   "cell_type": "code",
   "execution_count": 26,
   "metadata": {},
   "outputs": [
    {
     "name": "stdout",
     "output_type": "stream",
     "text": [
      "Average number of pulses per unit area 7.50\n"
     ]
    }
   ],
   "source": [
    "# Pulser per spot/area\n",
    "v = 10  # Velocity of raster [mm/s]\n",
    "f = 1E3  # Rep rate of laser [Hz]\n",
    "D = 75E-3  # Diameter of spot in rastering axis [mm]\n",
    "\n",
    "# Average pulses per area = length drawn per sec / rastering speed\n",
    "print('Average number of pulses per unit area {:.2f}'.format(f*D / v))"
   ]
  },
  {
   "cell_type": "markdown",
   "metadata": {},
   "source": [
    "# Atmosphere\n",
    "Vary pressure in steps of increasing order of magnitude"
   ]
  },
  {
   "cell_type": "code",
   "execution_count": 22,
   "metadata": {},
   "outputs": [
    {
     "data": {
      "text/html": [
       "<div>\n",
       "<style scoped>\n",
       "    .dataframe tbody tr th:only-of-type {\n",
       "        vertical-align: middle;\n",
       "    }\n",
       "\n",
       "    .dataframe tbody tr th {\n",
       "        vertical-align: top;\n",
       "    }\n",
       "\n",
       "    .dataframe thead th {\n",
       "        text-align: right;\n",
       "    }\n",
       "</style>\n",
       "<table border=\"1\" class=\"dataframe\">\n",
       "  <thead>\n",
       "    <tr style=\"text-align: right;\">\n",
       "      <th></th>\n",
       "      <th>mbarr</th>\n",
       "      <th>mtorr</th>\n",
       "    </tr>\n",
       "  </thead>\n",
       "  <tbody>\n",
       "    <tr>\n",
       "      <th>0</th>\n",
       "      <td>0.00</td>\n",
       "      <td>0.0</td>\n",
       "    </tr>\n",
       "    <tr>\n",
       "      <th>1</th>\n",
       "      <td>0.01</td>\n",
       "      <td>7.5</td>\n",
       "    </tr>\n",
       "    <tr>\n",
       "      <th>2</th>\n",
       "      <td>0.10</td>\n",
       "      <td>75.0</td>\n",
       "    </tr>\n",
       "    <tr>\n",
       "      <th>3</th>\n",
       "      <td>1.00</td>\n",
       "      <td>750.0</td>\n",
       "    </tr>\n",
       "  </tbody>\n",
       "</table>\n",
       "</div>"
      ],
      "text/plain": [
       "   mbarr  mtorr\n",
       "0   0.00    0.0\n",
       "1   0.01    7.5\n",
       "2   0.10   75.0\n",
       "3   1.00  750.0"
      ]
     },
     "execution_count": 22,
     "metadata": {},
     "output_type": "execute_result"
    }
   ],
   "source": [
    "# Chamber pressure conversions\n",
    "mbarr_to_mtorr = 750\n",
    "mtorr_to_mbarr = 1/750\n",
    "\n",
    "pmin = 1E-2  # Minimum pressure [mbarr]\n",
    "pmax = 1  # Maximum pressure [mbarr]\n",
    "num = 3  # Number of steps\n",
    "\n",
    "# Create a table of pressures required\n",
    "p = np.geomspace(pmin, pmax, num=num)\n",
    "p = np.insert(p, 0, 0)\n",
    "df = pd.DataFrame({'mbarr':p})\n",
    "df['mtorr'] = df['mbarr'] * mbarr_to_mtorr\n",
    "df"
   ]
  }
 ],
 "metadata": {
  "kernelspec": {
   "display_name": "Python 3",
   "language": "python",
   "name": "python3"
  },
  "language_info": {
   "codemirror_mode": {
    "name": "ipython",
    "version": 3
   },
   "file_extension": ".py",
   "mimetype": "text/x-python",
   "name": "python",
   "nbconvert_exporter": "python",
   "pygments_lexer": "ipython3",
   "version": "3.6.4"
  }
 },
 "nbformat": 4,
 "nbformat_minor": 2
}
