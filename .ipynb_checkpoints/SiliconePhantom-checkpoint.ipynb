{
 "cells": [
  {
   "cell_type": "markdown",
   "metadata": {},
   "source": [
    "# Calculate silicone phantom compositions"
   ]
  },
  {
   "cell_type": "code",
   "execution_count": 2,
   "metadata": {
    "collapsed": true
   },
   "outputs": [],
   "source": [
    "import numpy as np\n",
    "import scipy as sp\n",
    "import matplotlib.pyplot as plt\n",
    "%matplotlib inline"
   ]
  },
  {
   "cell_type": "markdown",
   "metadata": {},
   "source": [
    "# Calculate volume of Phantom from mould dimensions"
   ]
  },
  {
   "cell_type": "code",
   "execution_count": 25,
   "metadata": {
    "collapsed": false,
    "scrolled": true
   },
   "outputs": [
    {
     "name": "stdout",
     "output_type": "stream",
     "text": [
      "Volume required: 7.500 cm^3 or ml\n",
      "Total weight required: 7.275 g\n",
      "Mass A required: 6.547 g and B required:  0.727 g\n",
      "Volue A required: 6.750 ml and B required:  0.750 ml\n"
     ]
    }
   ],
   "source": [
    "# Units in mm\n",
    "width = 50\n",
    "depth = 50\n",
    "thickness = 3\n",
    "\n",
    "phantomVolReq = width * depth * thickness * 1E-3 # cm^3\n",
    "siDensity = 0.97                                 # g/cm^3, ELASTOSIL® RT 601 A/B\n",
    "massReq = phantomVolReq * siDensity\n",
    "Amass = 9*massReq/10\n",
    "Bmass = 1*massReq/10\n",
    "\n",
    "\n",
    "print('Volume required: %.3f cm^3 or ml' % phantomVolReq)\n",
    "print('Total weight required: %.3f g' % massReq)\n",
    "print('Mass A required: %.3f g and B required:  %.3f g' % (Amass,Bmass))\n",
    "print('Volue A required: %.3f ml and B required:  %.3f ml' % (Amass/siDensity,Bmass/siDensity))"
   ]
  },
  {
   "cell_type": "code",
   "execution_count": 26,
   "metadata": {
    "collapsed": false
   },
   "outputs": [
    {
     "name": "stdout",
     "output_type": "stream",
     "text": [
      "Volume required: 9.000 ml, therefore beaker size should be 45.0 ml capacity\n",
      "Total weight required: 8.730 g\n",
      "Mass A required: 7.857 g and B required: 0.873 g\n",
      "Volume A required: 8.100 ml and B required: 0.900 ml\n"
     ]
    }
   ],
   "source": [
    "# With a bit to spare (20%)\n",
    "phantomVolReq = width * depth * thickness * 1E-3 * 1.2\n",
    "massReq = phantomVolReq * siDensity\n",
    "Amass = 9*massReq/10\n",
    "Bmass = 1*massReq/10\n",
    "\n",
    "\n",
    "print('Volume required: %.3f ml, therefore beaker size should be %.1f ml capacity' % (phantomVolReq, 5*phantomVolReq))\n",
    "print('Total weight required: %.3f g' % massReq)\n",
    "print('Mass A required: %.3f g and B required: %.3f g' % (Amass,Bmass))\n",
    "print('Volume A required: %.3f ml and B required: %.3f ml' % (Amass/siDensity,Bmass/siDensity))"
   ]
  },
  {
   "cell_type": "markdown",
   "metadata": {},
   "source": [
    "## Scatterer and Si weight\n",
    "Calculate the required volume of silicone required to achieve the desired scattering coefficient calculated by Mie theory http://omlc.org/calc/mie_calc.html. \n",
    "#### Constants used in Mie theory calculation:\n",
    "\n",
    "nMed = 1.41 (Silicone RTV)\n",
    "\n",
    "nSphere = (material dependent)\n",
    "\n",
    "lambda_0 = 1.54 um\n",
    "\n",
    "sphereDiameter = x um\n",
    "\n",
    "concentration in spheres / $\\mu m^3$\n",
    "\n",
    "#### Outputs: \n",
    "scattering coefficient ($\\mu_s$) in $mm^{-1}$ and g factor."
   ]
  },
  {
   "cell_type": "code",
   "execution_count": 16,
   "metadata": {
    "collapsed": false
   },
   "outputs": [],
   "source": [
    "# HELPER FUNCTIONS: \n",
    "def massDV(density, volume): return (density * volume)\n",
    "\n",
    "def volSphere(diameter): return (4/3)*np.pi*(diameter/2)**3\n",
    "\n",
    "# Calculate number of spheres in a gram given sphere diameter and mass\n",
    "def numSpheres(mass, density, diameter): return  (mass/density) / (volSphere(diameter) * 1E-12)\n",
    "\n",
    "# Convert concentrations given in online mie simulator (conc) and windows mie application (c):\n",
    "def CtoConc(c): return c * 1E-9 # convert num sph in 1mm3 to spheres/um^3\n",
    "def ConctoC(conc): return conc * 1E9 # convert spheres/um^3 to num sph in 1mm3"
   ]
  },
  {
   "cell_type": "code",
   "execution_count": 17,
   "metadata": {
    "collapsed": false
   },
   "outputs": [],
   "source": [
    "def SiliconeRequired(diameter, conc, sphDensity, sphPerGram, sphGram):\n",
    "    '''\n",
    "    diameter:     diameter of spheres in um\n",
    "    conc:         spheres/micron^3 for required for desired scattering coefficient. Calculated from Mie theory.\n",
    "    sphDensity :  density of the scattering material\n",
    "    sphPerGram:   manufacurer stated number of spheres per gram in product\n",
    "    sphGram:      number of grams to be used\n",
    "    '''\n",
    "    sphAdded = sphGram * sphPerGram    # Number of spheres added\n",
    "    sphVol = volSphere(diameter)\n",
    "    sphVolTotal = sphAdded * sphVol    # Total volume of scatterers added\n",
    "    \n",
    "    sphConc = sphVol*conc              # Required fraction of scatterers\n",
    "    siConc = 1 - sphConc               # Required fraction of silicone\n",
    "    print('Concentration of silicone in sample: %.2f' % (100 * siConc))\n",
    "    \n",
    "    siVol = sphVolTotal * (1/sphConc - 1) # Required volume of silicone ( from C1 = V1/(V1+V2) )\n",
    "    siDensity = 0.97                      # g/cm^3, ELASTOSIL® RT 601 A/B\n",
    "    \n",
    "    siliconeMass = massDV((siDensity), siVol*1E-12)   # Density in same units as siVol, i.e. as diameter\n",
    "    sphMass = massDV((sphDensity), sphVolTotal*1E-12) \n",
    "    print('Volume of a sphere: %.3f um^3' % sphVol)\n",
    "#     print('Volume of 1g of spheres: %.3g um^3' % sphVolTotal)\n",
    "#     print('Volume of silicone required: %.3g' % siVol)\n",
    "    weightPercent = 100* sphMass / (siliconeMass + sphMass)\n",
    "    print('Weight percent of scatters: %.f %%' % weightPercent)\n",
    "    \n",
    "    assert abs(siVol / (sphVolTotal + siVol) - siConc) < 0.001, 'Check concentrations'\n",
    "    \n",
    "    print('\\n\\nSilicone required: %.2f g' % (siliconeMass))\n",
    "    phantomVol = (sphVolTotal + siVol) * 1E-12\n",
    "    print('Final volume of phantom: %.3f cm^3' % phantomVol)\n",
    "\n",
    "    numMoulds = phantomVol / phantomVolReq\n",
    "    print('Number of moulds can make: %.2f' % numMoulds)\n",
    "    "
   ]
  },
  {
   "cell_type": "markdown",
   "metadata": {},
   "source": [
    "### SiO2 Scatterers\n",
    "nSphere = 1.4441 at 1.54 um (SiO2 http://refractiveindex.info/?shelf=main&book=SiO2&page=Malitson)\n",
    "g = 0.89\n",
    "\n",
    "For a scattering coefficient of 12 $mm^{-1}$ (equivalent to the dermis and epidermis), require 0.4 spheres per cubic micron ($um^3$)"
   ]
  },
  {
   "cell_type": "code",
   "execution_count": 18,
   "metadata": {
    "collapsed": false
   },
   "outputs": [
    {
     "name": "stdout",
     "output_type": "stream",
     "text": [
      "Concentration of silicone in sample: -52259.88\n",
      "Volume of a sphere: 0.524 um^3\n",
      "Weight percent of scatters: 158 %\n",
      "\n",
      "\n",
      "Silicone required: -0.37 g\n",
      "Final volume of phantom: 0.001 cm^3\n",
      "Number of moulds can make: 0.00\n"
     ]
    }
   ],
   "source": [
    "diameter = 1 # um\n",
    "conc = 1000  # Required number of spheres per um^3\n",
    "sphDensity = 2.65  # g/cm^3\n",
    "# sphPerGram = 3E11  # Number of spheres in 1g (£100)\n",
    "sphGram = 1  # weight of scatterers added in g\n",
    "\n",
    "sphPerGram = numSpheres(sphGram, sphDensity, diameter)  # Number of spheres in 1g\n",
    "\n",
    "SiliconeRequired(diameter, conc, sphDensity, sphPerGram, sphGram)"
   ]
  },
  {
   "cell_type": "markdown",
   "metadata": {},
   "source": [
    "### Polystyrene - Polybead\n",
    "nSphere = 1.57 : http://www.polysciences.com/german/polybeadsupsup-microspheres-dry-form-150956m"
   ]
  },
  {
   "cell_type": "code",
   "execution_count": 27,
   "metadata": {
    "collapsed": false,
    "scrolled": true
   },
   "outputs": [
    {
     "name": "stdout",
     "output_type": "stream",
     "text": [
      "Number of spheres in sample: 5.39e+11\n",
      "Concentration of silicone in sample: 98.23\n",
      "Volume of a sphere: 1.767 um^3\n",
      "Weight percent of scatters: 2 %\n",
      "\n",
      "\n",
      "Silicone required: 51.35 g\n",
      "Final volume of phantom: 53.894 cm^3\n",
      "Number of moulds can make: 5.99\n"
     ]
    }
   ],
   "source": [
    "diameter = 1.5  # in um\n",
    "sphDensity = 1.05  # Polystyrene g/cm^3\n",
    "conc = 0.01  # Required number of spheres per um^3\n",
    "sphGram = 1  # weight of scatterers added in g (£205/g from bangs lab)\n",
    "sphPerGram = numSpheres(sphGram, sphDensity, diameter)  # Number of spheres in 1g\n",
    "\n",
    "print('Number of spheres in sample: %.3g' % (sphPerGram*sphGram))\n",
    "\n",
    "SiliconeRequired(diameter, conc, sphDensity, sphPerGram, sphGram)"
   ]
  },
  {
   "cell_type": "markdown",
   "metadata": {},
   "source": [
    "#### Quick error check\n",
    "\n",
    "in 1 um^3 there is 0.01 spheres. Can make totalspheres / 0.01 um3:\n",
    "\n",
    "5.4e11/0.01 = 5.4e13 um3 = 54 cm3 ~= 54g\n",
    "\n",
    "1um = 1e-4cm\n",
    "1um3 = 1e-12 cm^3"
   ]
  },
  {
   "cell_type": "code",
   "execution_count": 51,
   "metadata": {
    "collapsed": false
   },
   "outputs": [
    {
     "name": "stdout",
     "output_type": "stream",
     "text": [
      "8.5 g of silicone\n"
     ]
    },
    {
     "data": {
      "text/plain": [
       "0.015000000000000001"
      ]
     },
     "execution_count": 51,
     "metadata": {},
     "output_type": "execute_result"
    }
   ],
   "source": [
    "# Using mie simulator windows concistency check\n",
    "c = 1.5E7                    # num sph in 1mm3 phantom in standalone form#\n",
    "\n",
    "totsph = 2.7E11/2            # Total number of spheres\n",
    "tvol = c * volSphere(1.5E-3) # sph vol/1mm3 phantom\n",
    "siv = 1 - tvol               # silicone vol/1mm^3 phantom\n",
    "\n",
    "mm3 = (totsph/c)             # total mm3 can make with 0.5g (2.7E11 spheres)\n",
    "\n",
    "stot = mm3 * siv             # mm3 of silicone needed (total phantom volume in mm * fraction of silicone)\n",
    "cm3 = stot * 1E-3            # total cm3\n",
    "\n",
    "smasss = 0.97 * cm3          # m = rho*v (si rho in g/cm^3)\n",
    "print('%.3g g of silicone' % smasss)    # g of silicone\n",
    "\n",
    "CtoConc(c)"
   ]
  },
  {
   "cell_type": "markdown",
   "metadata": {},
   "source": [
    "### TiO2\n",
    "nSphere = 2.45"
   ]
  },
  {
   "cell_type": "code",
   "execution_count": 64,
   "metadata": {
    "collapsed": false
   },
   "outputs": [
    {
     "name": "stdout",
     "output_type": "stream",
     "text": [
      "Concentration of silicone in sample: 99.87\n",
      "Volume of a sphere: 0.065 um^3\n",
      "Weight percent of scatters: 1 %\n",
      "\n",
      "\n",
      "Silicone required: 64797.78 g\n",
      "Final volume of phantom: 66889.390 cm^3\n",
      "Number of moulds can make: 11148.23\n"
     ]
    }
   ],
   "source": [
    "diam = 0.5 # um\n",
    "conc = 0.02  # Required number of spheres per um^3\n",
    "sphDensity = 4.23\n",
    "sphGram = 100  # weight of scatterers added in g\n",
    "sphPerGram = numSpheres(sphGram, sphDensity, diameter)  # Number of spheres in 1g\n",
    "\n",
    "SiliconeRequired(diam, conc, sphDensity, sphPerGram, sphGram)"
   ]
  },
  {
   "cell_type": "markdown",
   "metadata": {
    "collapsed": true
   },
   "source": [
    "### Polyethylene\n",
    "From Cospheric 200mg, 1 - 4 um diameter for $200. n = 1.48."
   ]
  },
  {
   "cell_type": "code",
   "execution_count": 76,
   "metadata": {
    "collapsed": false
   },
   "outputs": [
    {
     "name": "stdout",
     "output_type": "stream",
     "text": [
      "Number of spheres in sample: 5.09e+09\n",
      "Concentration of silicone in sample: 91.82\n",
      "Volume of a sphere: 8.181 um^3\n",
      "Weight percent of scatters: 8 %\n",
      "\n",
      "\n",
      "Silicone required: 0.45 g\n",
      "Final volume of phantom: 0.509 cm^3\n",
      "Number of moulds can make: 0.08\n"
     ]
    }
   ],
   "source": [
    "diameter = 2.5  # in um\n",
    "sphDensity = 0.96  # Polystyrene g/cm^3\n",
    "conc = 0.01  # Required number of spheres per um^3\n",
    "sphGram = 0.2  # weight of scatterers added in g\n",
    "sphPerGram = numSpheres(sphGram, sphDensity, diameter)  # Number of spheres in 1g\n",
    "\n",
    "print('Number of spheres in sample: %.3g' % (sphPerGram*sphGram))\n",
    "\n",
    "SiliconeRequired(diameter, conc, sphDensity, sphPerGram, sphGram)"
   ]
  },
  {
   "cell_type": "markdown",
   "metadata": {
    "collapsed": true
   },
   "source": [
    "### Al2O3\n",
    "http://www.us-nano.com/inc/sdetail/21645 - 1um\n",
    "\n",
    "http://www.advancedmaterials.us/26R-8S02.htm - best 2um +- 0.5um"
   ]
  },
  {
   "cell_type": "code",
   "execution_count": 78,
   "metadata": {
    "collapsed": false
   },
   "outputs": [
    {
     "name": "stdout",
     "output_type": "stream",
     "text": [
      "Number of spheres in sample: 4.84e+13\n",
      "Concentration of silicone in sample: 98.95\n",
      "Volume of a sphere: 0.524 um^3\n",
      "Weight percent of scatters: 4 %\n",
      "\n",
      "\n",
      "Silicone required: 2320.46 g\n",
      "Final volume of phantom: 2417.543 cm^3\n",
      "Number of moulds can make: 402.92\n"
     ]
    }
   ],
   "source": [
    "diameter = 1  # in um\n",
    "sphDensity = 3.95  #  g/cm^3\n",
    "conc = 0.02  # Required number of spheres per um^3\n",
    "sphGram = 10  # weight of scatterers added in g\n",
    "sphPerGram = numSpheres(sphGram, sphDensity, diameter)  # Number of spheres in 1g\n",
    "\n",
    "print('Number of spheres in sample: %.3g' % (sphPerGram*sphGram))\n",
    "\n",
    "SiliconeRequired(diameter, conc, sphDensity, sphPerGram, sphGram)"
   ]
  },
  {
   "cell_type": "markdown",
   "metadata": {},
   "source": [
    "## Refractive Indicies of materials"
   ]
  },
  {
   "cell_type": "code",
   "execution_count": null,
   "metadata": {
    "collapsed": true
   },
   "outputs": [],
   "source": [
    "Al2O3 = 1.75\n",
    "ZnO = 1.93\n",
    "ZrO2 = 2.11\n",
    "TiO2 = 2.45\n",
    "PS = 1.57"
   ]
  }
 ],
 "metadata": {
  "kernelspec": {
   "display_name": "Python 3",
   "language": "python",
   "name": "python3"
  },
  "language_info": {
   "codemirror_mode": {
    "name": "ipython",
    "version": 3
   },
   "file_extension": ".py",
   "mimetype": "text/x-python",
   "name": "python",
   "nbconvert_exporter": "python",
   "pygments_lexer": "ipython3",
   "version": "3.4.3"
  }
 },
 "nbformat": 4,
 "nbformat_minor": 0
}
