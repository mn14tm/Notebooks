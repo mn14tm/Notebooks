{
 "cells": [
  {
   "cell_type": "code",
   "execution_count": 2,
   "metadata": {
    "collapsed": true
   },
   "outputs": [],
   "source": [
    "import numpy as np\n",
    "import matplotlib.pyplot as plt\n",
    "%matplotlib inline"
   ]
  },
  {
   "cell_type": "markdown",
   "metadata": {},
   "source": [
    "# Chapter 1\n",
    "## 1.1 Waveguide Structure\n"
   ]
  },
  {
   "cell_type": "code",
   "execution_count": 67,
   "metadata": {
    "collapsed": false
   },
   "outputs": [
    {
     "data": {
      "text/plain": [
       "6.934059620490947"
      ]
     },
     "execution_count": 67,
     "metadata": {},
     "output_type": "execute_result"
    }
   ],
   "source": [
    "n1 = 1.46  # Core (higher than cladding)\n",
    "n0 = 1.455  # Cladding\n",
    "\n",
    "# Max theta incident on waveguide for TIRF/ light acceptance angle in degrees:\n",
    "thetaMax = np.degrees(np.arcsin(np.sqrt(n1**2 - n0**2)))\n",
    "thetaMax "
   ]
  },
  {
   "cell_type": "code",
   "execution_count": 68,
   "metadata": {
    "collapsed": false
   },
   "outputs": [
    {
     "data": {
      "text/plain": [
       "(0.0034187933946329845, 0.12072696467649362)"
      ]
     },
     "execution_count": 68,
     "metadata": {},
     "output_type": "execute_result"
    }
   ],
   "source": [
    "delta = (n1**2 - n0**2) / (2*n1**2)  # Relative refractive-index difference\n",
    "NA = n1*(2*delta)**0.5  # or thetaMax in radians\n",
    "delta, NA"
   ]
  },
  {
   "cell_type": "code",
   "execution_count": 69,
   "metadata": {
    "collapsed": false
   },
   "outputs": [
    {
     "data": {
      "text/plain": [
       "0.082784225967807948"
      ]
     },
     "execution_count": 69,
     "metadata": {},
     "output_type": "execute_result"
    }
   ],
   "source": [
    "phi_max = np.arcsin(np.sqrt(n1**2 - n0**2)/n1) ; phi_max"
   ]
  },
  {
   "cell_type": "markdown",
   "metadata": {},
   "source": [
    "## 1.2 Formation of Guided Modes\n",
    "Even at angles smaller than the critical angle, arbitrary angles are not able to propagate in a waveguide. Each mode is associated with light rays at a discrete angle of propagation as given by EM wave analysis."
   ]
  },
  {
   "cell_type": "code",
   "execution_count": 70,
   "metadata": {
    "collapsed": false
   },
   "outputs": [
    {
     "data": {
      "text/plain": [
       "1.0547945205479452"
      ]
     },
     "execution_count": 70,
     "metadata": {},
     "output_type": "execute_result"
    }
   ],
   "source": [
    "# Inside the core for a plane wave propagating along z with angle phi:\n",
    "lambda_0 = 1.54      # Free space wavelength (um) \n",
    "lam = lambda_0 / n1  # Wavelength inside the core\n",
    "lam"
   ]
  },
  {
   "cell_type": "code",
   "execution_count": 71,
   "metadata": {
    "collapsed": true
   },
   "outputs": [],
   "source": [
    "k = 2*np.pi / lam  # Wavenumber in core\n",
    "\n",
    "phi = np.radians(30)          # Propagation angle inside core (can work out from theta with snells law)\n",
    "beta = k * n1 * np.cos(phi)   # Propagation constant in z\n",
    "kappa = k * n1 * np.sin(phi)  # Propagation constant in x (laterial direction)"
   ]
  },
  {
   "cell_type": "code",
   "execution_count": 72,
   "metadata": {
    "collapsed": false
   },
   "outputs": [
    {
     "data": {
      "text/plain": [
       "(0.52359877559829882, 7.5317429703928411, 4.3484538314233774)"
      ]
     },
     "execution_count": 72,
     "metadata": {},
     "output_type": "execute_result"
    }
   ],
   "source": [
    "phi, beta, kappa"
   ]
  },
  {
   "cell_type": "code",
   "execution_count": 73,
   "metadata": {
    "collapsed": false
   },
   "outputs": [
    {
     "data": {
      "text/plain": [
       "0.83422726079191567"
      ]
     },
     "execution_count": 73,
     "metadata": {},
     "output_type": "execute_result"
    }
   ],
   "source": [
    "# Condition for propagation angle phi (1.12)\n",
    "\n",
    "lam_p = 2*np.pi / beta; lam_p  # Wavelength period along z"
   ]
  },
  {
   "cell_type": "code",
   "execution_count": 74,
   "metadata": {
    "collapsed": false
   },
   "outputs": [
    {
     "data": {
      "text/plain": [
       "1.0"
      ]
     },
     "execution_count": 74,
     "metadata": {},
     "output_type": "execute_result"
    }
   ],
   "source": [
    "eps = np.sin(phi_max) / np.sqrt(2*delta); eps  # 1.13"
   ]
  },
  {
   "cell_type": "code",
   "execution_count": 75,
   "metadata": {
    "collapsed": false
   },
   "outputs": [
    {
     "data": {
      "image/png": "[encoded data removed]",
      "text/plain": [
       "<matplotlib.figure.Figure at 0x662f9e8>"
      ]
     },
     "metadata": {},
     "output_type": "display_data"
    }
   ],
   "source": [
    "a = 3.54/2  # Half depth of waveguide (um)\n",
    "mode = 5 # Mode numbers to plot\n",
    "\n",
    "eps = np.linspace(0.1,1, 100)\n",
    "v = k*n1*a*np.sqrt(2*delta); v  # Normalised frequency (LHS dispersion eqn)\n",
    "\n",
    "for m in range(mode):\n",
    "    nu = (np.arccos(eps) + m*np.pi / 2 ) / eps  # (RHS dispersion eqn)\n",
    "    plt.plot(eps,nu, label=m)\n",
    "\n",
    "plt.hlines(v, 0, 1, linestyles='--', label='v')\n",
    "plt.xlim(0,1);\n",
    "plt.ylim(0,10);\n",
    "plt.legend(loc='best');"
   ]
  },
  {
   "cell_type": "code",
   "execution_count": 77,
   "metadata": {
    "collapsed": false
   },
   "outputs": [
    {
     "data": {
      "text/plain": [
       "(1.2728861216758849, 1.054794520547945)"
      ]
     },
     "execution_count": 77,
     "metadata": {},
     "output_type": "execute_result"
    }
   ],
   "source": [
    "lam_c = 2*np.pi / v * a * n1  * np.sqrt(2*delta) \n",
    "v, lam_c"
   ]
  },
  {
   "cell_type": "code",
   "execution_count": null,
   "metadata": {
    "collapsed": true
   },
   "outputs": [],
   "source": []
  },
  {
   "cell_type": "markdown",
   "metadata": {},
   "source": [
    "# Chapter 2"
   ]
  },
  {
   "cell_type": "code",
   "execution_count": 7,
   "metadata": {
    "collapsed": false
   },
   "outputs": [
    {
     "name": "stdout",
     "output_type": "stream",
     "text": [
      "10000 loops, best of 3: 46.5 µs per loop\n",
      "6.776092316319591\n"
     ]
    }
   ],
   "source": [
    "import scipy.optimize as optimize\n",
    "\n",
    "def func(x):\n",
    "    return np.cos(x)**2 + 6 - x\n",
    "\n",
    "# 0<=cos(x)**2<=1, so the root has to be between x=6 and x=7\n",
    "%timeit optimize.bisect(func, 6, 7)\n",
    "print(optimize.bisect(func, 6, 7))\n",
    "# 6.77609231632\n"
   ]
  },
  {
   "cell_type": "code",
   "execution_count": 10,
   "metadata": {
    "collapsed": false
   },
   "outputs": [
    {
     "name": "stdout",
     "output_type": "stream",
     "text": [
      "The slowest run took 44.15 times longer than the fastest. This could mean that an intermediate result is being cached \n",
      "100000 loops, best of 3: 9.86 µs per loop\n",
      "6.776092316319502\n"
     ]
    }
   ],
   "source": [
    "# Considered the best routing for root finding\n",
    "%timeit optimize.brentq(func, 6, 7)\n",
    "print(optimize.brentq(func, 6, 7))"
   ]
  },
  {
   "cell_type": "code",
   "execution_count": null,
   "metadata": {
    "collapsed": true
   },
   "outputs": [],
   "source": []
  }
 ],
 "metadata": {
  "kernelspec": {
   "display_name": "Python 3",
   "language": "python",
   "name": "python3"
  },
  "language_info": {
   "codemirror_mode": {
    "name": "ipython",
    "version": 3
   },
   "file_extension": ".py",
   "mimetype": "text/x-python",
   "name": "python",
   "nbconvert_exporter": "python",
   "pygments_lexer": "ipython3",
   "version": "3.4.3"
  }
 },
 "nbformat": 4,
 "nbformat_minor": 0
}
