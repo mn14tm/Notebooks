{
 "cells": [
  {
   "cell_type": "code",
   "execution_count": 1,
   "metadata": {
    "collapsed": false
   },
   "outputs": [
    {
     "name": "stdout",
     "output_type": "stream",
     "text": [
      "Populating the interactive namespace from numpy and matplotlib\n"
     ]
    }
   ],
   "source": [
    "import numpy as np\n",
    "from scipy.optimize import curve_fit\n",
    "import matplotlib.pyplot as plt\n",
    "%pylab --no-import-all inline"
   ]
  },
  {
   "cell_type": "code",
   "execution_count": 2,
   "metadata": {
    "collapsed": false,
    "scrolled": true
   },
   "outputs": [
    {
     "name": "stdout",
     "output_type": "stream",
     "text": [
      "Value at end of signal: 195.01%\n"
     ]
    },
    {
     "data": {
      "image/png": "[encoded data removed]",
      "text/plain": [
       "<matplotlib.figure.Figure at 0x7b1d1d0>"
      ]
     },
     "metadata": {},
     "output_type": "display_data"
    }
   ],
   "source": [
    "# Simulation time\n",
    "res = 0.1 # Resolution\n",
    "period = 150     # Period (ms)\n",
    "t = np.arange(0, period, res)\n",
    "\n",
    "# Square pulse\n",
    "pulse = 50       # Pulse Width (ms)\n",
    "ind = np.where(t <= pulse)\n",
    "y_pulse = np.zeros(len(t))\n",
    "y_pulse[ind] = 1\n",
    "\n",
    "# Exponential decay\n",
    "tau = 10\n",
    "y_decay = np.exp(-t/tau)\n",
    "\n",
    "# Convolve\n",
    "y = np.convolve(y_pulse, y_decay)\n",
    "t_conv = np.linspace(0, 2*period, len(y))\n",
    "#y = y / max(y)     # Normalize\n",
    "\n",
    "f, ax = plt.subplots(3, sharex=True)\n",
    "ax[0].plot(t, y_pulse)\n",
    "# ax[0].set_title('Pulse time: ' + str(pulse) + 'ms')\n",
    "ax[0].set_ylim([0,1.1])\n",
    "ax[1].plot(t, y_decay)\n",
    "ax[2].plot(t_conv, y)\n",
    "\n",
    "\n",
    "print('Value at end of signal: {0:.2f}%'.format(y[period]/y[pulse]*100))"
   ]
  },
  {
   "cell_type": "markdown",
   "metadata": {},
   "source": [
    "# Simulate a decay"
   ]
  },
  {
   "cell_type": "code",
   "execution_count": 3,
   "metadata": {
    "collapsed": false
   },
   "outputs": [
    {
     "data": {
      "text/plain": [
       "<matplotlib.text.Text at 0x7ed0dd8>"
      ]
     },
     "execution_count": 3,
     "metadata": {},
     "output_type": "execute_result"
    },
    {
     "data": {
      "image/png": "[encoded data removed]",
      "text/plain": [
       "<matplotlib.figure.Figure at 0x8839198>"
      ]
     },
     "metadata": {},
     "output_type": "display_data"
    }
   ],
   "source": [
    "# Add noise to exponential decay\n",
    "N = 100      # Number of repititions\n",
    "sizN = 0.5  # Size of noise\n",
    "\n",
    "yn = np.zeros(len(y))\n",
    "for i in range(0, N):\n",
    "    noise = np.random.normal(0, sizN , len(y))\n",
    "    yi = y + noise\n",
    "    yn+=yi\n",
    " \n",
    "\n",
    "# Intensity can not be negative \n",
    "array_np = np.asarray(yn)\n",
    "low_values_indices = array_np < 0  # Where values are low\n",
    "array_np[low_values_indices] = 0  # All low values set to 0\n",
    "\n",
    "\n",
    "def model_func(t, a, tau, c):\n",
    "    return a*np.exp(-t / tau) + c\n",
    "\n",
    "# Non-linear fit\n",
    "guess = [1, 10, 0]      # Initial guess for fit\n",
    "popt, pcov = curve_fit(model_func, t[pulse:period], yn[pulse:period], p0=guess)\n",
    "a, tauP, c = popt\n",
    "perr = np.sqrt(np.diag(pcov))\n",
    "\n",
    "# fig = plt.figure()\n",
    "plt.plot(t[pulse:period], yn[pulse:period], 'o',\n",
    "         t[pulse:period], N*y[pulse:period], '-',\n",
    "         t[pulse:period], model_func(t[pulse:period], a, tauP, c), '--')\n",
    "plt.title('Lifetime is {0:.3f} +- {1:.3f} ms (1s.d.)'.format(tauP, perr[1]))\n",
    "\n",
    "# info at: http://stackoverflow.com/questions/3938042/fitting-exponential-decay-with-no-initial-guessing"
   ]
  },
  {
   "cell_type": "code",
   "execution_count": null,
   "metadata": {
    "collapsed": true
   },
   "outputs": [],
   "source": []
  }
 ],
 "metadata": {
  "kernelspec": {
   "display_name": "Python 3",
   "language": "python",
   "name": "python3"
  },
  "language_info": {
   "codemirror_mode": {
    "name": "ipython",
    "version": 3
   },
   "file_extension": ".py",
   "mimetype": "text/x-python",
   "name": "python",
   "nbconvert_exporter": "python",
   "pygments_lexer": "ipython3",
   "version": "3.5.1"
  }
 },
 "nbformat": 4,
 "nbformat_minor": 0
}
