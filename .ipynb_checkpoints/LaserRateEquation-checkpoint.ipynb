{
 "cells": [
  {
   "cell_type": "code",
   "execution_count": 69,
   "metadata": {
    "collapsed": false
   },
   "outputs": [],
   "source": [
    "import numpy as np\n",
    "import scipy as sp\n",
    "from scipy import integrate\n",
    "import matplotlib.pyplot as plt\n",
    "import sympy\n",
    "%matplotlib inline\n",
    "sympy.init_printing()"
   ]
  },
  {
   "cell_type": "code",
   "execution_count": 70,
   "metadata": {
    "collapsed": true
   },
   "outputs": [],
   "source": [
    "t, k, T0, Ta = sympy.symbols(\"t, k, T_0, T_a\")\n",
    "T = sympy.Function(\"T\")"
   ]
  },
  {
   "cell_type": "code",
   "execution_count": 71,
   "metadata": {
    "collapsed": false
   },
   "outputs": [
    {
     "data": {
      "image/png": "[encoded data removed]",
      "text/latex": [
       "$$k \\left(- T_{a} + T{\\left (t \\right )}\\right) + \\frac{d}{d t} T{\\left (t \\right )} = 0$$"
      ],
      "text/plain": [
       "                 d           \n",
       "k⋅(-Tₐ + T(t)) + ──(T(t)) = 0\n",
       "                 dt          "
      ]
     },
     "execution_count": 71,
     "metadata": {},
     "output_type": "execute_result"
    }
   ],
   "source": [
    "ode = T(t).diff(t) + k*(T(t) - Ta)\n",
    "sympy.Eq(ode)"
   ]
  },
  {
   "cell_type": "code",
   "execution_count": 72,
   "metadata": {
    "collapsed": false,
    "scrolled": true
   },
   "outputs": [
    {
     "data": {
      "image/png": "[encoded data removed]",
      "text/latex": [
       "$$T{\\left (t \\right )} = C_{1} e^{- k t} + T_{a}$$"
      ],
      "text/plain": [
       "           -k⋅t     \n",
       "T(t) = C₁⋅ℯ     + Tₐ"
      ]
     },
     "execution_count": 72,
     "metadata": {},
     "output_type": "execute_result"
    }
   ],
   "source": [
    "# Solve\n",
    "ode_sol = sympy.dsolve(ode)\n",
    "ode_sol"
   ]
  },
  {
   "cell_type": "code",
   "execution_count": 73,
   "metadata": {
    "collapsed": false
   },
   "outputs": [
    {
     "data": {
      "image/png": "[encoded data removed]",
      "text/latex": [
       "$$\\left \\{ T{\\left (0 \\right )} : T_{0}\\right \\}$$"
      ],
      "text/plain": [
       "{T(0): T₀}"
      ]
     },
     "execution_count": 73,
     "metadata": {},
     "output_type": "execute_result"
    }
   ],
   "source": [
    "# Initial conditions\n",
    "ics = {T(0): T0}\n",
    "ics"
   ]
  },
  {
   "cell_type": "code",
   "execution_count": 74,
   "metadata": {
    "collapsed": false
   },
   "outputs": [
    {
     "data": {
      "image/png": "[encoded data removed]",
      "text/latex": [
       "$$T_{0} = C_{1} + T_{a}$$"
      ],
      "text/plain": [
       "T₀ = C₁ + Tₐ"
      ]
     },
     "execution_count": 74,
     "metadata": {},
     "output_type": "execute_result"
    }
   ],
   "source": [
    "C_eq = sympy.Eq(ode_sol.lhs.subs(t,0).subs(ics), ode_sol.rhs.subs(t, 0))\n",
    "C_eq"
   ]
  },
  {
   "cell_type": "code",
   "execution_count": 75,
   "metadata": {
    "collapsed": false
   },
   "outputs": [
    {
     "data": {
      "image/png": "[encoded data removed]",
      "text/latex": [
       "$$\\left [ \\left \\{ C_{1} : T_{0} - T_{a}\\right \\}\\right ]$$"
      ],
      "text/plain": [
       "[{C₁: T₀ - Tₐ}]"
      ]
     },
     "execution_count": 75,
     "metadata": {},
     "output_type": "execute_result"
    }
   ],
   "source": [
    "C_sol = sympy.solve(C_eq)\n",
    "C_sol"
   ]
  },
  {
   "cell_type": "code",
   "execution_count": 77,
   "metadata": {
    "collapsed": false
   },
   "outputs": [
    {
     "data": {
      "image/png": "[encoded data removed]",
      "text/latex": [
       "$$T{\\left (t \\right )} = T_{a} + \\left(T_{0} - T_{a}\\right) e^{- k t}$$"
      ],
      "text/plain": [
       "                       -k⋅t\n",
       "T(t) = Tₐ + (T₀ - Tₐ)⋅ℯ    "
      ]
     },
     "execution_count": 77,
     "metadata": {},
     "output_type": "execute_result"
    }
   ],
   "source": [
    "T_t_sol = ode_sol.subs(C_sol[0])\n",
    "T_t_sol"
   ]
  },
  {
   "cell_type": "code",
   "execution_count": 78,
   "metadata": {
    "collapsed": false,
    "scrolled": true
   },
   "outputs": [
    {
     "data": {
      "text/plain": [
       "[<matplotlib.lines.Line2D at 0x971bc88>]"
      ]
     },
     "execution_count": 78,
     "metadata": {},
     "output_type": "execute_result"
    },
    {
     "data": {
      "image/png": "[encoded data removed]",
      "text/plain": [
       "<matplotlib.figure.Figure at 0x97ccdd8>"
      ]
     },
     "metadata": {},
     "output_type": "display_data"
    }
   ],
   "source": [
    "tt = np.linspace(0,100, 250)\n",
    "T_t = sympy.lambdify(t, T_t_sol.rhs.subs({T0: 100, Ta: 20, k: 0.5}), 'numpy')\n",
    "plt.plot(tt, T_t(tt))"
   ]
  },
  {
   "cell_type": "code",
   "execution_count": 66,
   "metadata": {
    "collapsed": false
   },
   "outputs": [
    {
     "data": {
      "image/png": "[encoded data removed]",
      "text/latex": [
       "$$C_{1} e^{- k t} + T_{a}$$"
      ],
      "text/plain": [
       "    -k⋅t     \n",
       "C₁⋅ℯ     + Tₐ"
      ]
     },
     "execution_count": 66,
     "metadata": {},
     "output_type": "execute_result"
    }
   ],
   "source": [
    "ode_sol.rhs"
   ]
  },
  {
   "cell_type": "markdown",
   "metadata": {},
   "source": [
    "# Laser Rate Eqn: 2-level"
   ]
  },
  {
   "cell_type": "code",
   "execution_count": 85,
   "metadata": {
    "collapsed": false
   },
   "outputs": [],
   "source": [
    "from sympy.physics.quantum.constants import hbar"
   ]
  },
  {
   "cell_type": "code",
   "execution_count": 86,
   "metadata": {
    "collapsed": false
   },
   "outputs": [],
   "source": [
    "t, tau, N_0, I, omega_a, omega_em, hbar, sigma_a, sigma_em, r = sympy.symbols(\"t, tau, N_0, I, omega_a, omega_em, hbar, sigma_a, sigma_em, r\")\n",
    "N2 = sympy.Function(\"N2\")"
   ]
  },
  {
   "cell_type": "code",
   "execution_count": 118,
   "metadata": {
    "collapsed": false
   },
   "outputs": [
    {
     "data": {
      "image/png": "[encoded data removed]",
      "text/latex": [
       "$$\\frac{I \\sigma_{em}}{\\hbar \\omega_{em}} \\left(r + 1\\right) \\operatorname{N_{2}}{\\left (t \\right )} - \\frac{I \\sigma_{a}}{\\hbar \\omega_{a}} \\left(r + 1\\right) \\operatorname{N_{2}}{\\left (t \\right )} + \\frac{d}{d t} \\operatorname{N_{2}}{\\left (t \\right )} + \\frac{1}{\\tau} \\operatorname{N_{2}}{\\left (t \\right )} = 0$$"
      ],
      "text/plain": [
       "I⋅σ_em⋅(r + 1)⋅N₂(t)   I⋅σₐ⋅(r + 1)⋅N₂(t)   d           N₂(t)    \n",
       "──────────────────── - ────────────────── + ──(N₂(t)) + ───── = 0\n",
       "      h̅⋅ω_em                h̅⋅ωₐ          dt            τ      "
      ]
     },
     "execution_count": 118,
     "metadata": {},
     "output_type": "execute_result"
    }
   ],
   "source": [
    "# ode = N2(t).diff(t) + N2(t)/tau - ((I+r)*sigma_a* N2(t))/(hbar*omega_a) + ((I+r)*sigma_em* N2(t))/(hbar*omega_em) \n",
    "ode = N2(t).diff(t) + N2(t)/tau - (I*(1+r)*sigma_a* N2(t))/(hbar*omega_a) + (I*(1+r)*sigma_em* N2(t))/(hbar*omega_em) \n",
    "sympy.Eq(ode)"
   ]
  },
  {
   "cell_type": "code",
   "execution_count": 119,
   "metadata": {
    "collapsed": false
   },
   "outputs": [
    {
     "data": {
      "image/png": "[encoded data removed]",
      "text/latex": [
       "$$\\operatorname{N_{2}}{\\left (t \\right )} = C_{1} e^{t \\left(- \\frac{I r \\sigma_{em}}{\\hbar \\omega_{em}} - \\frac{I \\sigma_{em}}{\\hbar \\omega_{em}} + \\frac{I r \\sigma_{a}}{\\hbar \\omega_{a}} + \\frac{I \\sigma_{a}}{\\hbar \\omega_{a}} - \\frac{1}{\\tau}\\right)}$$"
      ],
      "text/plain": [
       "              ⎛  I⋅r⋅σ_em    I⋅σ_em   I⋅r⋅σₐ    I⋅σₐ   1⎞\n",
       "            t⋅⎜- ──────── - ─────── + ────── + ───── - ─⎟\n",
       "              ⎝  h̅⋅ω_em    h̅⋅ω_em   h̅⋅ωₐ    h̅⋅ωₐ   τ⎠\n",
       "N₂(t) = C₁⋅ℯ                                             "
      ]
     },
     "execution_count": 119,
     "metadata": {},
     "output_type": "execute_result"
    }
   ],
   "source": [
    "# Solve\n",
    "ode_sol = sympy.dsolve(ode)\n",
    "ode_sol"
   ]
  },
  {
   "cell_type": "code",
   "execution_count": 120,
   "metadata": {
    "collapsed": false
   },
   "outputs": [
    {
     "data": {
      "image/png": "[encoded data removed]",
      "text/latex": [
       "$$\\left \\{ \\operatorname{N_{2}}{\\left (0 \\right )} : N_{0}\\right \\}$$"
      ],
      "text/plain": [
       "{N₂(0): N₀}"
      ]
     },
     "execution_count": 120,
     "metadata": {},
     "output_type": "execute_result"
    }
   ],
   "source": [
    "ics = {N2(0): N_0}\n",
    "ics"
   ]
  },
  {
   "cell_type": "code",
   "execution_count": 121,
   "metadata": {
    "collapsed": false
   },
   "outputs": [
    {
     "data": {
      "image/png": "[encoded data removed]",
      "text/latex": [
       "$$N_{0} = C_{1}$$"
      ],
      "text/plain": [
       "N₀ = C₁"
      ]
     },
     "execution_count": 121,
     "metadata": {},
     "output_type": "execute_result"
    }
   ],
   "source": [
    "C_eq = sympy.Eq(ode_sol.lhs.subs(t,0).subs(ics), ode_sol.rhs.subs(t, 0))\n",
    "C_eq"
   ]
  },
  {
   "cell_type": "code",
   "execution_count": 122,
   "metadata": {
    "collapsed": false
   },
   "outputs": [
    {
     "data": {
      "image/png": "[encoded data removed]",
      "text/latex": [
       "$$\\left [ \\left \\{ C_{1} : N_{0}\\right \\}\\right ]$$"
      ],
      "text/plain": [
       "[{C₁: N₀}]"
      ]
     },
     "execution_count": 122,
     "metadata": {},
     "output_type": "execute_result"
    }
   ],
   "source": [
    "C_sol = sympy.solve(C_eq)\n",
    "C_sol"
   ]
  },
  {
   "cell_type": "code",
   "execution_count": 123,
   "metadata": {
    "collapsed": false
   },
   "outputs": [
    {
     "data": {
      "image/png": "[encoded data removed]",
      "text/latex": [
       "$$\\operatorname{N_{2}}{\\left (t \\right )} = N_{0} e^{t \\left(- \\frac{I r \\sigma_{em}}{\\hbar \\omega_{em}} - \\frac{I \\sigma_{em}}{\\hbar \\omega_{em}} + \\frac{I r \\sigma_{a}}{\\hbar \\omega_{a}} + \\frac{I \\sigma_{a}}{\\hbar \\omega_{a}} - \\frac{1}{\\tau}\\right)}$$"
      ],
      "text/plain": [
       "              ⎛  I⋅r⋅σ_em    I⋅σ_em   I⋅r⋅σₐ    I⋅σₐ   1⎞\n",
       "            t⋅⎜- ──────── - ─────── + ────── + ───── - ─⎟\n",
       "              ⎝  h̅⋅ω_em    h̅⋅ω_em   h̅⋅ωₐ    h̅⋅ωₐ   τ⎠\n",
       "N₂(t) = N₀⋅ℯ                                             "
      ]
     },
     "execution_count": 123,
     "metadata": {},
     "output_type": "execute_result"
    }
   ],
   "source": [
    "N2_t_sol = ode_sol.subs(C_sol[0])\n",
    "N2_t_sol"
   ]
  },
  {
   "cell_type": "code",
   "execution_count": 144,
   "metadata": {
    "collapsed": false
   },
   "outputs": [
    {
     "data": {
      "text/plain": [
       "<matplotlib.legend.Legend at 0xda41d68>"
      ]
     },
     "execution_count": 144,
     "metadata": {},
     "output_type": "execute_result"
    },
    {
     "data": {
      "image/png": "[encoded data removed]",
      "text/plain": [
       "<matplotlib.figure.Figure at 0xda6a240>"
      ]
     },
     "metadata": {},
     "output_type": "display_data"
    }
   ],
   "source": [
    "tt = np.linspace(0, 100, 250)\n",
    "# tau, N_0, I, omega_a, omega_em, hbar, sigma_a, sigma_em, r \n",
    "for rdiff in [0.1, 0.2, 0.3, 10, 100]:\n",
    "    N2_t = sympy.lambdify(t, N2_t_sol.rhs.subs({tau: 100, N_0: 1, I: 1E-94, omega_a: 4E-25, omega_em: 1E-10, hbar: 1E-34, sigma_a: 980E-9, sigma_em: 1540E-9, r: rdiff}), 'numpy')\n",
    "    plt.plot(tt, N2_t(tt), label=rdiff)\n",
    "plt.xlabel('t (ms)')\n",
    "plt.ylabel('N2(t)')\n",
    "plt.legend()"
   ]
  },
  {
   "cell_type": "code",
   "execution_count": null,
   "metadata": {
    "collapsed": true
   },
   "outputs": [],
   "source": []
  }
 ],
 "metadata": {
  "kernelspec": {
   "display_name": "Python 3",
   "language": "python",
   "name": "python3"
  },
  "language_info": {
   "codemirror_mode": {
    "name": "ipython",
    "version": 3
   },
   "file_extension": ".py",
   "mimetype": "text/x-python",
   "name": "python",
   "nbconvert_exporter": "python",
   "pygments_lexer": "ipython3",
   "version": "3.5.0"
  }
 },
 "nbformat": 4,
 "nbformat_minor": 0
}
