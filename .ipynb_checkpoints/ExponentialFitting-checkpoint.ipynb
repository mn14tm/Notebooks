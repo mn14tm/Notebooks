{
 "cells": [
  {
   "cell_type": "code",
   "execution_count": 34,
   "metadata": {
    "collapsed": true
   },
   "outputs": [],
   "source": [
    "import matplotlib.pyplot as plt\n",
    "%matplotlib inline\n",
    "\n",
    "import numpy as np\n",
    "from numpy import exp"
   ]
  },
  {
   "cell_type": "code",
   "execution_count": 151,
   "metadata": {
    "collapsed": false
   },
   "outputs": [],
   "source": [
    "tau = 10          # Lifetime in ms\n",
    "N = 10000         # Number of events (atoms)\n",
    "\n",
    "data = np.random.exponential(tau, N)\n",
    "# Add noise to signal. Std of 4\n",
    "# data = data + np.random.normal(0, 100, N)"
   ]
  },
  {
   "cell_type": "code",
   "execution_count": 152,
   "metadata": {
    "collapsed": false
   },
   "outputs": [
    {
     "name": "stdout",
     "output_type": "stream",
     "text": [
      "Detection time = 12.50 lifetimes\n"
     ]
    }
   ],
   "source": [
    "M = 50            # Total number of detection channels\n",
    "T = 0.25*tau      # Channel time length\n",
    "\n",
    "# detection time\n",
    "detecT = M * T\n",
    "\n",
    "print('Detection time = %.2f lifetimes' % ((M*T)/tau))"
   ]
  },
  {
   "cell_type": "code",
   "execution_count": 153,
   "metadata": {
    "collapsed": false
   },
   "outputs": [
    {
     "data": {
      "text/plain": [
       "[<matplotlib.lines.Line2D at 0x10bf94080>]"
      ]
     },
     "execution_count": 153,
     "metadata": {},
     "output_type": "execute_result"
    },
    {
     "data": {
      "image/png": "[encoded data removed]",
      "text/plain": [
       "<matplotlib.figure.Figure at 0x10bf940b8>"
      ]
     },
     "metadata": {},
     "output_type": "display_data"
    }
   ],
   "source": [
    "bins = np.linspace(T,T*M, M)\n",
    "# evaluate the histogram\n",
    "values, base = np.histogram(data, bins=bins)\n",
    "#evaluate the cumulative\n",
    "cumulative = np.cumsum(values)\n",
    "# plot the cumulative function\n",
    "plt.plot(base[:-1], cumulative, '.-', c='blue')\n",
    "# plot the survival function\n",
    "plt.plot(base[:-1], N-cumulative, '.-', c='green')"
   ]
  },
  {
   "cell_type": "code",
   "execution_count": 154,
   "metadata": {
    "collapsed": false
   },
   "outputs": [
    {
     "data": {
      "text/plain": [
       "0.010058079287229221"
      ]
     },
     "execution_count": 154,
     "metadata": {},
     "output_type": "execute_result"
    }
   ],
   "source": [
    "CRLB = 1/((T/tau)**2 * ((exp(T/tau)/(exp(T/tau)-1)**2) - (M**2*exp(M*T/tau)/(exp(M*T/tau)-1)**2)))\n",
    "CRLB * tau**2 / N"
   ]
  },
  {
   "cell_type": "code",
   "execution_count": 155,
   "metadata": {
    "collapsed": false,
    "scrolled": false
   },
   "outputs": [
    {
     "data": {
      "text/plain": [
       "[<matplotlib.lines.Line2D at 0x10c0fdeb8>]"
      ]
     },
     "execution_count": 155,
     "metadata": {},
     "output_type": "execute_result"
    },
    {
     "data": {
      "image/png": "[encoded data removed]",
      "text/plain": [
       "<matplotlib.figure.Figure at 0x10bf97438>"
      ]
     },
     "metadata": {},
     "output_type": "display_data"
    }
   ],
   "source": [
    "\n",
    "plt.plot(decay,'.-')"
   ]
  },
  {
   "cell_type": "code",
   "execution_count": 162,
   "metadata": {
    "collapsed": false
   },
   "outputs": [
    {
     "ename": "ValueError",
     "evalue": "setting an array element with a sequence.",
     "output_type": "error",
     "traceback": [
      "\u001b[0;31m---------------------------------------------------------------------------\u001b[0m",
      "\u001b[0;31mValueError\u001b[0m                                Traceback (most recent call last)",
      "\u001b[0;32m<ipython-input-162-c1966408b0b7>\u001b[0m in \u001b[0;36m<module>\u001b[0;34m()\u001b[0m\n\u001b[1;32m      8\u001b[0m res = minimize(model_func, decay, args=(8000,10,2000), method='nelder-mead', \n\u001b[1;32m      9\u001b[0m                options={'xtol': 1e-8, \n\u001b[0;32m---> 10\u001b[0;31m                         'disp': True})\n\u001b[0m",
      "\u001b[0;32m/Users/Thomas/anaconda/lib/python3.5/site-packages/scipy/optimize/_minimize.py\u001b[0m in \u001b[0;36mminimize\u001b[0;34m(fun, x0, args, method, jac, hess, hessp, bounds, constraints, tol, callback, options)\u001b[0m\n\u001b[1;32m    430\u001b[0m                       callback=callback, **options)\n\u001b[1;32m    431\u001b[0m     \u001b[0;32melif\u001b[0m \u001b[0mmeth\u001b[0m \u001b[0;34m==\u001b[0m \u001b[0;34m'nelder-mead'\u001b[0m\u001b[0;34m:\u001b[0m\u001b[0;34m\u001b[0m\u001b[0m\n\u001b[0;32m--> 432\u001b[0;31m         \u001b[0;32mreturn\u001b[0m \u001b[0m_minimize_neldermead\u001b[0m\u001b[0;34m(\u001b[0m\u001b[0mfun\u001b[0m\u001b[0;34m,\u001b[0m \u001b[0mx0\u001b[0m\u001b[0;34m,\u001b[0m \u001b[0margs\u001b[0m\u001b[0;34m,\u001b[0m \u001b[0mcallback\u001b[0m\u001b[0;34m,\u001b[0m \u001b[0;34m**\u001b[0m\u001b[0moptions\u001b[0m\u001b[0;34m)\u001b[0m\u001b[0;34m\u001b[0m\u001b[0m\n\u001b[0m\u001b[1;32m    433\u001b[0m     \u001b[0;32melif\u001b[0m \u001b[0mmeth\u001b[0m \u001b[0;34m==\u001b[0m \u001b[0;34m'powell'\u001b[0m\u001b[0;34m:\u001b[0m\u001b[0;34m\u001b[0m\u001b[0m\n\u001b[1;32m    434\u001b[0m         \u001b[0;32mreturn\u001b[0m \u001b[0m_minimize_powell\u001b[0m\u001b[0;34m(\u001b[0m\u001b[0mfun\u001b[0m\u001b[0;34m,\u001b[0m \u001b[0mx0\u001b[0m\u001b[0;34m,\u001b[0m \u001b[0margs\u001b[0m\u001b[0;34m,\u001b[0m \u001b[0mcallback\u001b[0m\u001b[0;34m,\u001b[0m \u001b[0;34m**\u001b[0m\u001b[0moptions\u001b[0m\u001b[0;34m)\u001b[0m\u001b[0;34m\u001b[0m\u001b[0m\n",
      "\u001b[0;32m/Users/Thomas/anaconda/lib/python3.5/site-packages/scipy/optimize/optimize.py\u001b[0m in \u001b[0;36m_minimize_neldermead\u001b[0;34m(func, x0, args, callback, xtol, ftol, maxiter, maxfev, disp, return_all, **unknown_options)\u001b[0m\n\u001b[1;32m    433\u001b[0m     \u001b[0;32mif\u001b[0m \u001b[0mretall\u001b[0m\u001b[0;34m:\u001b[0m\u001b[0;34m\u001b[0m\u001b[0m\n\u001b[1;32m    434\u001b[0m         \u001b[0mallvecs\u001b[0m \u001b[0;34m=\u001b[0m \u001b[0;34m[\u001b[0m\u001b[0msim\u001b[0m\u001b[0;34m[\u001b[0m\u001b[0;36m0\u001b[0m\u001b[0;34m]\u001b[0m\u001b[0;34m]\u001b[0m\u001b[0;34m\u001b[0m\u001b[0m\n\u001b[0;32m--> 435\u001b[0;31m     \u001b[0mfsim\u001b[0m\u001b[0;34m[\u001b[0m\u001b[0;36m0\u001b[0m\u001b[0;34m]\u001b[0m \u001b[0;34m=\u001b[0m \u001b[0mfunc\u001b[0m\u001b[0;34m(\u001b[0m\u001b[0mx0\u001b[0m\u001b[0;34m)\u001b[0m\u001b[0;34m\u001b[0m\u001b[0m\n\u001b[0m\u001b[1;32m    436\u001b[0m     \u001b[0mnonzdelt\u001b[0m \u001b[0;34m=\u001b[0m \u001b[0;36m0.05\u001b[0m\u001b[0;34m\u001b[0m\u001b[0m\n\u001b[1;32m    437\u001b[0m     \u001b[0mzdelt\u001b[0m \u001b[0;34m=\u001b[0m \u001b[0;36m0.00025\u001b[0m\u001b[0;34m\u001b[0m\u001b[0m\n",
      "\u001b[0;31mValueError\u001b[0m: setting an array element with a sequence."
     ]
    }
   ],
   "source": [
    "# guess = [max(decay)-min(decay), 10, min(decay)]  # Guess for a, b, c coefficients\n",
    "\n",
    "\n",
    "# Set up your x values\n",
    "x = np.linspace(0, 100, num=100)\n",
    "\n",
    "# Set up your observed y values with a known slope (2.4), intercept (5), and sd (4)\n",
    "yObs = 5 + 2.4*x + np.random.normal(0, 4, 100)\n",
    "\n",
    "# Define the likelihood function where params is a list of initial parameter estimates\n",
    "def model_func(params):\n",
    "    # Resave the initial parameter guesses\n",
    "    b0 = params[0]\n",
    "    b1 = params[1]\n",
    "    sd = params[2]\n",
    "      \n",
    "    # Calculate the predicted values from the initial parameter guesses\n",
    "    yPred = b0 + b1*x\n",
    "    \n",
    "    # Calculate the negative log-likelihood as the negative sum of the log of a normal\n",
    "    # PDF where the observed values are normally distributed around the mean (yPred)\n",
    "    # with a standard deviation of sd\n",
    "    logLik = -np.sum( stats.norm.logpdf(yObs, loc=yPred, scale=sd) )\n",
    "    \n",
    "    # Tell the function to return the NLL (this is what will be minimized)\n",
    "    return a*np.exp(-t/b)+c\n",
    "\n",
    "# Make a list of initial parameter guesses (b0, b1, sd)    \n",
    "initParams = [1, 1, 1]\n",
    "\n",
    "# Run the minimizer\n",
    "results = minimize(model_func, initParams, method='nelder-mead')\n",
    "\n",
    "# Print the results. They should be really close to your actual values\n",
    "print(results.x)"
   ]
  },
  {
   "cell_type": "code",
   "execution_count": 164,
   "metadata": {
    "collapsed": false
   },
   "outputs": [
    {
     "name": "stdout",
     "output_type": "stream",
     "text": [
      "[ 4.96166432  2.40660746  3.91592074]\n"
     ]
    }
   ],
   "source": [
    "# http://stackoverflow.com/questions/7718034/maximum-likelihood-estimate-pseudocode\n",
    "\n",
    "# import the packages\n",
    "import numpy as np\n",
    "from scipy.optimize import minimize\n",
    "import scipy.stats as stats\n",
    "import time\n",
    "\n",
    "# Set up your x values\n",
    "x = np.linspace(0, 100, num=100)\n",
    "\n",
    "# Set up your observed y values with a known slope (2.4), intercept (5), and sd (4)\n",
    "yObs = 5 + 2.4*x + np.random.normal(0, 4, 100)\n",
    "\n",
    "# Define the likelihood function where params is a list of initial parameter estimates\n",
    "def regressLL(params):\n",
    "    # Resave the initial parameter guesses\n",
    "    b0 = params[0]\n",
    "    b1 = params[1]\n",
    "    sd = params[2]\n",
    "\n",
    "    # Calculate the predicted values from the initial parameter guesses\n",
    "    yPred = b0 + b1*x\n",
    "\n",
    "    # Calculate the negative log-likelihood as the negative sum of the log of a normal\n",
    "    # PDF where the observed values are normally distributed around the mean (yPred)\n",
    "    # with a standard deviation of sd\n",
    "    logLik = -np.sum( stats.norm.logpdf(yObs, loc=yPred, scale=sd) )\n",
    "\n",
    "    # Tell the function to return the NLL (this is what will be minimized)\n",
    "    return(logLik)\n",
    "\n",
    "# Make a list of initial parameter guesses (b0, b1, sd)    \n",
    "initParams = [1, 1, 1]\n",
    "\n",
    "# Run the minimizer\n",
    "results = minimize(regressLL, initParams, method='nelder-mead')\n",
    "\n",
    "# Print the results. They should be really close to your actual values\n",
    "print(results.x)"
   ]
  },
  {
   "cell_type": "code",
   "execution_count": null,
   "metadata": {
    "collapsed": true
   },
   "outputs": [],
   "source": []
  }
 ],
 "metadata": {
  "kernelspec": {
   "display_name": "Python 3",
   "language": "python",
   "name": "python3"
  },
  "language_info": {
   "codemirror_mode": {
    "name": "ipython",
    "version": 3
   },
   "file_extension": ".py",
   "mimetype": "text/x-python",
   "name": "python",
   "nbconvert_exporter": "python",
   "pygments_lexer": "ipython3",
   "version": "3.5.1"
  }
 },
 "nbformat": 4,
 "nbformat_minor": 0
}
