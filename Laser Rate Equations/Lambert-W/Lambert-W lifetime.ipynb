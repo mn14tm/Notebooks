{
 "cells": [
  {
   "cell_type": "code",
   "execution_count": 1,
   "metadata": {
    "collapsed": true
   },
   "outputs": [],
   "source": [
    "import numpy as np\n",
    "import matplotlib.pyplot as plt\n",
    "\n",
    "from scipy.special import lambertw\n",
    "from numpy import exp, log, e\n",
    "%matplotlib inline"
   ]
  },
  {
   "cell_type": "code",
   "execution_count": 18,
   "metadata": {
    "collapsed": false
   },
   "outputs": [],
   "source": [
    "import numpy as np\n",
    "import matplotlib.pyplot as plt\n",
    "\n",
    "from scipy.special import lambertw\n",
    "from numpy import exp, e\n",
    "from tqdm import tqdm\n",
    "\n",
    "\n",
    "def lambertDecay(t, tau, sigma_12, sigma_21, n, n20, r, rho, d):\n",
    "\n",
    "    alpha = (1+r/2)\n",
    "    A = alpha*rho*d*(sigma_12+sigma_21)\n",
    "    B = 1 + alpha*rho*d*sigma_12*n\n",
    "\n",
    "    arg = -A*n20*exp(-(t/(B*tau))-(A*n20)/B)/B\n",
    "\n",
    "    # Check that result is real\n",
    "    assert min(arg) >= -1/e, \\\n",
    "        'Lambert W Argument will give an imaginary result.'\n",
    "\n",
    "    return -B*lambertw(arg).real/A"
   ]
  },
  {
   "cell_type": "code",
   "execution_count": 25,
   "metadata": {
    "collapsed": true
   },
   "outputs": [],
   "source": [
    "# Time to simulate over\n",
    "t = np.linspace(0, 200, 100)\n",
    "\n",
    "# Define parameters\n",
    "tau = 10            # Radiative decay rate\n",
    "rho = 1             # Density of Er ions (*1E21 cm^-2)\n",
    "d = 1               # Thickness of slab (cm)\n",
    "\n",
    "# DOI: 10.1063/1.366265\n",
    "sigma_12 = 4.1      # Absorption cross-section (*1E-21 cm^2)\n",
    "sigma_21 = 5        # Emission cross-section (*1E-21 cm^2)\n",
    "\n",
    "n = 1           # Total number of excited ions\n",
    "\n",
    "r = -1             # Reflectivity of top layer\n",
    "n20 = 0.8     # Number of excited ions at t=0"
   ]
  },
  {
   "cell_type": "code",
   "execution_count": 21,
   "metadata": {
    "collapsed": true
   },
   "outputs": [],
   "source": [
    "alpha = (1+r/2)"
   ]
  },
  {
   "cell_type": "code",
   "execution_count": 22,
   "metadata": {
    "collapsed": false
   },
   "outputs": [
    {
     "data": {
      "text/plain": [
       "1.05"
      ]
     },
     "execution_count": 22,
     "metadata": {},
     "output_type": "execute_result"
    }
   ],
   "source": [
    "alpha"
   ]
  },
  {
   "cell_type": "code",
   "execution_count": 26,
   "metadata": {
    "collapsed": false
   },
   "outputs": [
    {
     "data": {
      "text/plain": [
       "[<matplotlib.lines.Line2D at 0xbb34978>]"
      ]
     },
     "execution_count": 26,
     "metadata": {},
     "output_type": "execute_result"
    },
    {
     "data": {
      "image/png": "[encoded data removed]",
      "text/plain": [
       "<matplotlib.figure.Figure at 0x8179630>"
      ]
     },
     "metadata": {},
     "output_type": "display_data"
    }
   ],
   "source": [
    "plt.plot(t,lambertDecay(t, tau, sigma_12, sigma_21, n, n20, r, rho, d),'.-')"
   ]
  },
  {
   "cell_type": "code",
   "execution_count": 36,
   "metadata": {
    "collapsed": false
   },
   "outputs": [
    {
     "data": {
      "text/plain": [
       "8.404999999999999e+18"
      ]
     },
     "execution_count": 36,
     "metadata": {},
     "output_type": "execute_result"
    }
   ],
   "source": [
    "B*tau"
   ]
  },
  {
   "cell_type": "code",
   "execution_count": 19,
   "metadata": {
    "collapsed": false
   },
   "outputs": [
    {
     "data": {
      "text/plain": [
       "0.998863823"
      ]
     },
     "execution_count": 19,
     "metadata": {},
     "output_type": "execute_result"
    }
   ],
   "source": [
    "9.98863823e-001"
   ]
  },
  {
   "cell_type": "code",
   "execution_count": null,
   "metadata": {
    "collapsed": true
   },
   "outputs": [],
   "source": []
  },
  {
   "cell_type": "code",
   "execution_count": 17,
   "metadata": {
    "collapsed": false
   },
   "outputs": [
    {
     "name": "stderr",
     "output_type": "stream",
     "text": [
      "C:\\Users\\mn14tm\\AppData\\Local\\Continuum\\Anaconda3\\lib\\site-packages\\numpy\\core\\numeric.py:474: ComplexWarning: Casting complex values to real discards the imaginary part\n",
      "  return array(a, dtype, copy=False, order=order)\n"
     ]
    },
    {
     "data": {
      "image/png": "[encoded data removed]",
      "text/plain": [
       "<matplotlib.figure.Figure at 0x8131d30>"
      ]
     },
     "metadata": {},
     "output_type": "display_data"
    }
   ],
   "source": [
    "x0 = np.linspace(-1/e,3, 1000)\n",
    "y0 = lambertw(x0)\n",
    "x1 = np.linspace(-1/e, 0, 1000)\n",
    "y1 = lambertw(x1,-1)\n",
    "\n",
    "\n",
    "plt.plot(x0,y0,label='$W_0(x)$')\n",
    "plt.plot(x1,y1, '--',label='$W_{-1}(x)$')\n",
    "plt.xlim(-1,3)\n",
    "plt.ylim(-4, 1.5)\n",
    "plt.xlabel('$x$')\n",
    "plt.ylabel('$W(x)$')\n",
    "plt.axhline(y=0, color='k')\n",
    "plt.axvline(x=0, color='k')\n",
    "plt.legend(loc='best')\n",
    "plt.savefig('lambertW.png', dpi=600)"
   ]
  },
  {
   "cell_type": "code",
   "execution_count": 4,
   "metadata": {
    "collapsed": false
   },
   "outputs": [
    {
     "data": {
      "image/png": "[encoded data removed]"
     },
     "metadata": {},
     "output_type": "display_data"
    }
   ],
   "source": [
    "from ipywidgets import interact\n",
    "\n",
    "def plt_arrays(x, y, title=\"\", color=\"red\", linestyle=\"dashed\", linewidth=2):\n",
    "    fig = plt.figure()\n",
    "    axes = fig.add_subplot(111)\n",
    "    axes.plot(x,y, color=color, linestyle=linestyle, linewidth=linewidth)\n",
    "    axes.set_title(title)\n",
    "    axes.grid()\n",
    "    plt.axhline(1/np.e, ls='--', color='k')\n",
    "    plt.xlim(0,30)\n",
    "    plt.yscale('log')\n",
    "    plt.show()\n",
    "    \n",
    "def f(alpha, n20, **kwargs):\n",
    "    t = np.linspace(0,30,500)\n",
    "    tau = 10\n",
    "    sigma_21 = 1\n",
    "    n = lambertDecay(t, alpha, tau, sigma_21, n20)\n",
    "    \n",
    "    title=\"$alpha = %s$ and $n20 = %s$\" % (alpha,n20)\n",
    "    \n",
    "    plt_arrays(t,n/max(n), title=title, **kwargs)\n",
    "    \n",
    "#Define Constants\n",
    "alpha=0.25\n",
    "n20=0.7\n",
    "\n",
    "f(alpha, n20)\n",
    "\n",
    "i = interact(f,\n",
    "             alpha=(0.1,10.),\n",
    "             n20=(0.5,1),\n",
    "#              color = [\"red\", \"blue\", \"green\"],\n",
    "#              linestyle=[\"solid\", \"dashed\"],\n",
    "#              linewidth=(1,5)\n",
    "             )"
   ]
  },
  {
   "cell_type": "code",
   "execution_count": null,
   "metadata": {
    "collapsed": true
   },
   "outputs": [],
   "source": []
  }
 ],
 "metadata": {
  "kernelspec": {
   "display_name": "Python 3",
   "language": "python",
   "name": "python3"
  },
  "language_info": {
   "codemirror_mode": {
    "name": "ipython",
    "version": 3
   },
   "file_extension": ".py",
   "mimetype": "text/x-python",
   "name": "python",
   "nbconvert_exporter": "python",
   "pygments_lexer": "ipython3",
   "version": "3.5.1"
  }
 },
 "nbformat": 4,
 "nbformat_minor": 0
}
