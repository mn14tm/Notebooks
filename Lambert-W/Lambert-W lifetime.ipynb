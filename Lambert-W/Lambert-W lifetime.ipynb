{
 "cells": [
  {
   "cell_type": "code",
   "execution_count": 1,
   "metadata": {
    "collapsed": true
   },
   "outputs": [],
   "source": [
    "import numpy as np\n",
    "import matplotlib.pyplot as plt\n",
    "\n",
    "from scipy.special import lambertw\n",
    "from numpy import exp, log, e\n",
    "%matplotlib inline"
   ]
  },
  {
   "cell_type": "code",
   "execution_count": 2,
   "metadata": {
    "collapsed": true
   },
   "outputs": [],
   "source": [
    "def lambertDecay(t, alpha, tau, sigma_21, n20):\n",
    "    arg = -alpha*sigma_21*n20*exp(-(t+alpha*sigma_21*n20*tau)/tau)\n",
    "    return -lambertw(arg).real/(alpha*sigma_21)"
   ]
  },
  {
   "cell_type": "code",
   "execution_count": null,
   "metadata": {
    "collapsed": false
   },
   "outputs": [],
   "source": [
    "# %load fittingLambertW.py\n",
    "import numpy as np\n",
    "import matplotlib.pyplot as plt\n",
    "\n",
    "from scipy.special import lambertw\n",
    "from numpy import exp, log, e\n",
    " \n",
    "\n",
    "def minimize():\n",
    "    \"\"\"\n",
    "\n",
    "    http://stackoverflow.com/questions/16760788/python-curve-\\\n",
    "    fit-library-that-allows-me-to-assign-bounds-to-parameters\n",
    "\n",
    "    Theoretical fit of the population regime lambertW decay \n",
    "    using either scipy's minimize routine.\n",
    "\n",
    "    Data is first created using p0 and then noise is added before\n",
    "    the fit is performed.\n",
    "\n",
    "    \"\"\"\n",
    "\n",
    "    import warnings\n",
    "    warnings.filterwarnings('ignore')\n",
    "    from scipy.optimize import minimize\n",
    "\n",
    "    def model_func(t, *p):\n",
    "        \n",
    "        def lambertDecay(t, *p):\n",
    "            sigma_21 = 1\n",
    "            tau = 10\n",
    "    #         n20 = 0.8\n",
    "            alpha, n20 = p\n",
    "            arg = -alpha*sigma_21*n20*exp(-(t+alpha*sigma_21*n20*tau)/tau)\n",
    "            return -lambertw(arg)/(alpha*sigma_21)\n",
    "\n",
    "        n = lambertDecay(t, *p)\n",
    "        \n",
    "        return n.real\n",
    "\n",
    "    # generate noisy data with known coefficients\n",
    "    alpha = 0.3\n",
    "    n20 = 0.8 \n",
    "\n",
    "    p0 = [alpha, n20]  # Guess for dependent data\n",
    "    t = np.linspace(0,30,1000)\n",
    "    n = model_func(t,*p0)\n",
    "    data = n + np.random.normal(0, 0.02, np.size(n))\n",
    "\n",
    "    ## mean squared error wrt. noisy data as a function of the parameters\n",
    "    # err = lambda p: np.mean((model_func(t,*p)-data)**2)\n",
    "\n",
    "    # Sum-Squared-Error Cost Function wrt. noisy data as a function of the parameters\n",
    "    err = lambda p: np.sum((data-model_func(t,*p))**2)\n",
    "\n",
    "    # bounded optimization using scipy.minimize\n",
    "    p_init = p0\n",
    "    popt = minimize(\n",
    "        err, # minimize wrt to the noisy data\n",
    "        p_init, \n",
    "        bounds=[(0,None),(0.5,1)], # set the bounds\n",
    "        method=\"L-BFGS-B\" # this method supports bounds\n",
    "    ).x\n",
    "\n",
    "    # plot everything\n",
    "    plt.figure()\n",
    "    plt.scatter(t, data, alpha=.2, label='f + noise')\n",
    "    plt.plot(t, n, 'k-', label='f')\n",
    "    plt.plot(t, model_func(t, *popt), 'r--', lw=2, label=\"Fitted Curve\")\n",
    "\n",
    "    plt.axhline(1/np.e, ls='--', color='k')\n",
    "    plt.legend(loc='best', title='alpha')\n",
    "    plt.ylabel('$n_2$/max($n_2$)')\n",
    "    plt.xlabel('time (ms)')\n",
    "    plt.xlim(min(t),max(t))\n",
    "    plt.yscale('log')\n",
    "    plt.show()\n",
    "\n",
    "    print(p0, popt)\n",
    "    \n",
    "    \n",
    "if __name__ == \"__main__\":\n",
    "    # curveFit()\n",
    "    minimize()"
   ]
  },
  {
   "cell_type": "code",
   "execution_count": null,
   "metadata": {
    "collapsed": true
   },
   "outputs": [],
   "source": []
  },
  {
   "cell_type": "code",
   "execution_count": 4,
   "metadata": {
    "collapsed": false
   },
   "outputs": [
    {
     "data": {
      "image/png": "[encoded data removed]",
      "text/plain": [
       "<matplotlib.figure.Figure at 0x979a518>"
      ]
     },
     "metadata": {},
     "output_type": "display_data"
    }
   ],
   "source": [
    "from ipywidgets import interact\n",
    "\n",
    "def plt_arrays(x, y, title=\"\", color=\"red\", linestyle=\"dashed\", linewidth=2):\n",
    "    fig = plt.figure()\n",
    "    axes = fig.add_subplot(111)\n",
    "    axes.plot(x,y, color=color, linestyle=linestyle, linewidth=linewidth)\n",
    "    axes.set_title(title)\n",
    "    axes.grid()\n",
    "    plt.axhline(1/np.e, ls='--', color='k')\n",
    "    plt.xlim(0,30)\n",
    "    plt.yscale('log')\n",
    "    plt.show()\n",
    "    \n",
    "def f(alpha, n20, **kwargs):\n",
    "    t = np.linspace(0,30,500)\n",
    "    tau = 10\n",
    "    sigma_21 = 1\n",
    "    n = lambertDecay(t, alpha, tau, sigma_21, n20)\n",
    "    \n",
    "    title=\"$alpha = %s$ and $n20 = %s$\" % (alpha,n20)\n",
    "    \n",
    "    plt_arrays(t,n/max(n), title=title, **kwargs)\n",
    "    \n",
    "#Define Constants\n",
    "alpha=0.25\n",
    "n20=0.7\n",
    "\n",
    "f(alpha, n20)\n",
    "\n",
    "i = interact(f,\n",
    "             alpha=(0.1,10.),\n",
    "             n20=(0.5,1),\n",
    "#              color = [\"red\", \"blue\", \"green\"],\n",
    "#              linestyle=[\"solid\", \"dashed\"],\n",
    "#              linewidth=(1,5)\n",
    "             )"
   ]
  },
  {
   "cell_type": "code",
   "execution_count": null,
   "metadata": {
    "collapsed": true
   },
   "outputs": [],
   "source": []
  }
 ],
 "metadata": {
  "kernelspec": {
   "display_name": "Python 3",
   "language": "python",
   "name": "python3"
  },
  "language_info": {
   "codemirror_mode": {
    "name": "ipython",
    "version": 3
   },
   "file_extension": ".py",
   "mimetype": "text/x-python",
   "name": "python",
   "nbconvert_exporter": "python",
   "pygments_lexer": "ipython3",
   "version": "3.5.1"
  }
 },
 "nbformat": 4,
 "nbformat_minor": 0
}
