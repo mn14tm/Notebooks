{
 "cells": [
  {
   "cell_type": "code",
   "execution_count": 37,
   "metadata": {
    "collapsed": true
   },
   "outputs": [],
   "source": [
    "import numpy as np\n",
    "import matplotlib.pyplot as plt\n",
    "\n",
    "from scipy.special import lambertw\n",
    "from numpy import exp, log, e\n",
    "%matplotlib inline"
   ]
  },
  {
   "cell_type": "code",
   "execution_count": 54,
   "metadata": {
    "collapsed": false
   },
   "outputs": [],
   "source": [
    "import numpy as np\n",
    "import matplotlib.pyplot as plt\n",
    "\n",
    "from scipy.special import lambertw\n",
    "from numpy import exp, e\n",
    "from tqdm import tqdm\n",
    "\n",
    "\n",
    "def lambertDecay(t, tau, sigma_12, sigma_21, n, n20, r, rho, d):\n",
    "\n",
    "    B = 1 + ((1+r/2)*rho*d*sigma_12*n)\n",
    "    A = ((1+r/2))*rho*d*(sigma_12+sigma_21) / B\n",
    "\n",
    "    arg = -A*n20*exp(-(t/(B*tau))-(A*n20))\n",
    "\n",
    "    # Check that result is real\n",
    "    assert min(arg) >= -1/e, \\\n",
    "        'Lambert W Argument will give an imaginary result.'\n",
    "\n",
    "    return -lambertw(arg).real/A"
   ]
  },
  {
   "cell_type": "code",
   "execution_count": 55,
   "metadata": {
    "collapsed": true
   },
   "outputs": [],
   "source": [
    "# Time to simulate over\n",
    "t = np.linspace(0, 200, 100)\n",
    "\n",
    "# Define parameters\n",
    "tau = 10            # Radiative decay rate\n",
    "rho = 1             # Density of Er ions (*1E21 cm^-2)\n",
    "d = 1E-4            # Thickness of slab (cm)\n",
    "\n",
    "# DOI: 10.1063/1.366265\n",
    "sigma_12 = 4.1      # Absorption cross-section (*1E-21 cm^2)\n",
    "sigma_21 = 5        # Emission cross-section (*1E-21 cm^2)\n",
    "\n",
    "n = 1           # Total number of excited ions\n",
    "\n",
    "r = 0.1             # Reflectivity of top layer\n",
    "n20 = 0.8     # Number of excited ions at t=0"
   ]
  },
  {
   "cell_type": "code",
   "execution_count": 63,
   "metadata": {
    "collapsed": false
   },
   "outputs": [
    {
     "data": {
      "text/plain": [
       "[<matplotlib.lines.Line2D at 0x9679550>]"
      ]
     },
     "execution_count": 63,
     "metadata": {},
     "output_type": "execute_result"
    },
    {
     "data": {
      "image/png": "[encoded data removed]",
      "text/plain": [
       "<matplotlib.figure.Figure at 0x96296a0>"
      ]
     },
     "metadata": {},
     "output_type": "display_data"
    }
   ],
   "source": [
    "plt.plot(t,lambertDecay(t, tau, sigma_12, sigma_21, n, n20, r, rho, d),'.-')"
   ]
  },
  {
   "cell_type": "code",
   "execution_count": 36,
   "metadata": {
    "collapsed": false
   },
   "outputs": [
    {
     "data": {
      "text/plain": [
       "8.404999999999999e+18"
      ]
     },
     "execution_count": 36,
     "metadata": {},
     "output_type": "execute_result"
    }
   ],
   "source": [
    "B*tau"
   ]
  },
  {
   "cell_type": "code",
   "execution_count": 19,
   "metadata": {
    "collapsed": false
   },
   "outputs": [
    {
     "data": {
      "text/plain": [
       "0.998863823"
      ]
     },
     "execution_count": 19,
     "metadata": {},
     "output_type": "execute_result"
    }
   ],
   "source": [
    "9.98863823e-001"
   ]
  },
  {
   "cell_type": "code",
   "execution_count": null,
   "metadata": {
    "collapsed": true
   },
   "outputs": [],
   "source": []
  },
  {
   "cell_type": "code",
   "execution_count": 4,
   "metadata": {
    "collapsed": false
   },
   "outputs": [
    {
     "data": {
      "image/png": "[encoded data removed]"
     },
     "metadata": {},
     "output_type": "display_data"
    }
   ],
   "source": [
    "from ipywidgets import interact\n",
    "\n",
    "def plt_arrays(x, y, title=\"\", color=\"red\", linestyle=\"dashed\", linewidth=2):\n",
    "    fig = plt.figure()\n",
    "    axes = fig.add_subplot(111)\n",
    "    axes.plot(x,y, color=color, linestyle=linestyle, linewidth=linewidth)\n",
    "    axes.set_title(title)\n",
    "    axes.grid()\n",
    "    plt.axhline(1/np.e, ls='--', color='k')\n",
    "    plt.xlim(0,30)\n",
    "    plt.yscale('log')\n",
    "    plt.show()\n",
    "    \n",
    "def f(alpha, n20, **kwargs):\n",
    "    t = np.linspace(0,30,500)\n",
    "    tau = 10\n",
    "    sigma_21 = 1\n",
    "    n = lambertDecay(t, alpha, tau, sigma_21, n20)\n",
    "    \n",
    "    title=\"$alpha = %s$ and $n20 = %s$\" % (alpha,n20)\n",
    "    \n",
    "    plt_arrays(t,n/max(n), title=title, **kwargs)\n",
    "    \n",
    "#Define Constants\n",
    "alpha=0.25\n",
    "n20=0.7\n",
    "\n",
    "f(alpha, n20)\n",
    "\n",
    "i = interact(f,\n",
    "             alpha=(0.1,10.),\n",
    "             n20=(0.5,1),\n",
    "#              color = [\"red\", \"blue\", \"green\"],\n",
    "#              linestyle=[\"solid\", \"dashed\"],\n",
    "#              linewidth=(1,5)\n",
    "             )"
   ]
  },
  {
   "cell_type": "code",
   "execution_count": null,
   "metadata": {
    "collapsed": true
   },
   "outputs": [],
   "source": []
  }
 ],
 "metadata": {
  "kernelspec": {
   "display_name": "Python 3",
   "language": "python",
   "name": "python3"
  },
  "language_info": {
   "codemirror_mode": {
    "name": "ipython",
    "version": 3
   },
   "file_extension": ".py",
   "mimetype": "text/x-python",
   "name": "python",
   "nbconvert_exporter": "python",
   "pygments_lexer": "ipython3",
   "version": "3.5.1"
  }
 },
 "nbformat": 4,
 "nbformat_minor": 0
}
