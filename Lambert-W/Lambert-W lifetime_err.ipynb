{
 "cells": [
  {
   "cell_type": "code",
   "execution_count": 1,
   "metadata": {
    "collapsed": true
   },
   "outputs": [],
   "source": [
    "import numpy as np\n",
    "import matplotlib.pyplot as plt\n",
    "\n",
    "from scipy.special import lambertw\n",
    "from numpy import exp, log, e\n",
    "%matplotlib inline"
   ]
  },
  {
   "cell_type": "markdown",
   "metadata": {},
   "source": [
    "# Fitting"
   ]
  },
  {
   "cell_type": "markdown",
   "metadata": {},
   "source": [
    "### Fitting with Curve_fit"
   ]
  },
  {
   "cell_type": "code",
   "execution_count": 8,
   "metadata": {
    "collapsed": false
   },
   "outputs": [
    {
     "ename": "NameError",
     "evalue": "name 'data' is not defined",
     "output_type": "error",
     "traceback": [
      "\u001b[1;31m---------------------------------------------------------------------------\u001b[0m",
      "\u001b[1;31mNameError\u001b[0m                                 Traceback (most recent call last)",
      "\u001b[1;32m<ipython-input-8-d0730216bf7d>\u001b[0m in \u001b[0;36m<module>\u001b[1;34m()\u001b[0m\n\u001b[0;32m     20\u001b[0m \u001b[1;33m\u001b[0m\u001b[0m\n\u001b[0;32m     21\u001b[0m \u001b[1;31m# Fit data to model using Levenberg-Marquardt algorithm\u001b[0m\u001b[1;33m\u001b[0m\u001b[1;33m\u001b[0m\u001b[0m\n\u001b[1;32m---> 22\u001b[1;33m \u001b[0mpopt\u001b[0m\u001b[1;33m,\u001b[0m \u001b[0mpcov\u001b[0m \u001b[1;33m=\u001b[0m \u001b[0mcurve_fit\u001b[0m\u001b[1;33m(\u001b[0m\u001b[0mmodel_func\u001b[0m\u001b[1;33m,\u001b[0m \u001b[0mt\u001b[0m\u001b[1;33m,\u001b[0m \u001b[0mdata\u001b[0m\u001b[1;33m,\u001b[0m \u001b[0mp0\u001b[0m\u001b[1;33m=\u001b[0m\u001b[0mp0\u001b[0m\u001b[1;33m,\u001b[0m \u001b[0mmethod\u001b[0m\u001b[1;33m=\u001b[0m\u001b[1;34m'lm'\u001b[0m\u001b[1;33m)\u001b[0m\u001b[1;33m\u001b[0m\u001b[0m\n\u001b[0m\u001b[0;32m     23\u001b[0m \u001b[1;31m# 'trf' can take bounds.\u001b[0m\u001b[1;33m\u001b[0m\u001b[1;33m\u001b[0m\u001b[0m\n\u001b[0;32m     24\u001b[0m \u001b[1;31m# popt, pcov = curve_fit(model_func, t, data, p0=p0, bounds=[(0,None),(0.5,1)], method='trf')\u001b[0m\u001b[1;33m\u001b[0m\u001b[1;33m\u001b[0m\u001b[0m\n",
      "\u001b[1;31mNameError\u001b[0m: name 'data' is not defined"
     ]
    }
   ],
   "source": [
    "from scipy.optimize import curve_fit\n",
    "\n",
    "\n",
    "def model_func(t, *p):\n",
    "    \n",
    "    def lambertDecay(t, *p):\n",
    "        sigma_21 = 1\n",
    "        tau = 10\n",
    "#         n20 = 0.8\n",
    "        alpha, n20 = p\n",
    "        arg = -alpha*sigma_21*n20*exp(-(t+alpha*sigma_21*n20*tau)/tau)\n",
    "        return -lambertw(arg)/(alpha*sigma_21)\n",
    "\n",
    "    n = lambertDecay(t, *p)\n",
    "    \n",
    "    return n.real\n",
    "\n",
    "# Guess for dependent data\n",
    "p0 = [alpha, n20]\n",
    "\n",
    "# Fit data to model using Levenberg-Marquardt algorithm\n",
    "popt, pcov = curve_fit(model_func, t, data, p0=p0, method='lm')\n",
    "# 'trf' can take bounds.\n",
    "# popt, pcov = curve_fit(model_func, t, data, p0=p0, bounds=[(0,None),(0.5,1)], method='trf')\n",
    "\n",
    "plt.figure()\n",
    "plt.semilogy(t,n, '--', label='Theoretical')\n",
    "\n",
    "# Add 1% noise to theoretical fit to create data\n",
    "data = n + np.random.normal(0, 0.01, np.size(n))\n",
    "plt.semilogy(t,data, '.', label='Noised Data')\n",
    "\n",
    "# Fit model\n",
    "plt.plot(t, model_func(t, *popt), 'r-', label=\"Fitted Curve\")\n",
    "\n",
    "plt.axhline(1/np.e, ls='--', color='k')\n",
    "plt.legend(loc='best', title='alpha')\n",
    "plt.ylabel('$n_2$/max($n_2$)')\n",
    "plt.xlabel('time (ms)')\n",
    "\n",
    "popt, p0"
   ]
  },
  {
   "cell_type": "code",
   "execution_count": 7,
   "metadata": {
    "collapsed": false
   },
   "outputs": [
    {
     "data": {
      "image/png": "[encoded data removed]"
     },
     "metadata": {},
     "output_type": "display_data"
    }
   ],
   "source": [
    "from ipywidgets import interact\n",
    "\n",
    "def plt_arrays(x, y, title=\"\", color=\"red\", linestyle=\"dashed\", linewidth=2):\n",
    "    fig = plt.figure()\n",
    "    axes = fig.add_subplot(111)\n",
    "    axes.plot(x,y, color=color, linestyle=linestyle, linewidth=linewidth)\n",
    "    axes.set_title(title)\n",
    "    axes.grid()\n",
    "    plt.axhline(1/np.e, ls='--', color='k')\n",
    "    plt.xlim(min(t),max(t))\n",
    "    plt.yscale('log')\n",
    "    plt.show()\n",
    "    \n",
    "def f(alpha, n20, **kwargs):\n",
    "    t = np.linspace(0,30,500)\n",
    "    tau = 10\n",
    "    sigma_21 = 1\n",
    "    n = lambertDecay(t, alpha, tau, sigma_21, n20)\n",
    "    \n",
    "    title=\"$alpha = %s$ and $n20 = %s$\" % (alpha,n20)\n",
    "    \n",
    "    plt_arrays(t,n/max(n), title=title, **kwargs)\n",
    "    \n",
    "#Define Constants\n",
    "alpha=0.25\n",
    "n20=0.7\n",
    "\n",
    "f(alpha, n20)\n",
    "\n",
    "i = interact(f,\n",
    "             alpha=(0.1,10.),\n",
    "             n20=(0.5,1),\n",
    "#              color = [\"red\", \"blue\", \"green\"],\n",
    "#              linestyle=[\"solid\", \"dashed\"],\n",
    "#              linewidth=(1,5)\n",
    "             )"
   ]
  },
  {
   "cell_type": "code",
   "execution_count": null,
   "metadata": {
    "collapsed": true
   },
   "outputs": [],
   "source": []
  }
 ],
 "metadata": {
  "kernelspec": {
   "display_name": "Python 3",
   "language": "python",
   "name": "python3"
  },
  "language_info": {
   "codemirror_mode": {
    "name": "ipython",
    "version": 3
   },
   "file_extension": ".py",
   "mimetype": "text/x-python",
   "name": "python",
   "nbconvert_exporter": "python",
   "pygments_lexer": "ipython3",
   "version": "3.5.1"
  }
 },
 "nbformat": 4,
 "nbformat_minor": 0
}
