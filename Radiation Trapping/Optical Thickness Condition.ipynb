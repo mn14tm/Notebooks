{
 "cells": [
  {
   "cell_type": "markdown",
   "metadata": {},
   "source": [
    "# Evaluate The Optical Thickness of the EDTS Film\n",
    "\n",
    "According to Beer-Lambnert Law, the intensity of an electromagnetic wave inside a material falls off exponentially from the surface as:\n",
    "\n",
    "$$\n",
    "I(z) = I_0 e^{-\\alpha z}\n",
    "$$\n",
    "\n",
    "If $\\delta _{p}$ denotes the penetration depth, the depth at which the intensity or power of the field decays to 1/e of its surface value, we have\n",
    "\n",
    "$$\n",
    "\\delta _{p} = 1/\\alpha.\n",
    "$$\n",
    "\n",
    "The attenuation constant, $\\delta _{e}$, is where the field amplitude has decayed to 1/e of it's surface value and hence:\n",
    "\n",
    "$$\n",
    "\\delta _{e} = 2/\\alpha.\n",
    "$$\n",
    "\n",
    "Note that we also have:\n",
    "\n",
    "$$\n",
    "\\alpha/2 = \\frac{1}{\\delta _{e}} =\\frac{2\\pi}{\\lambda} Im\\left(\\tilde n (\\omega) \\right).\n",
    "$$\n",
    "\n",
    "In the thin film a photon emitted into a waveguiding mode would have to travel approximately an absorption depth before reabsorption would occur. Therefore the absorption depth gives an estimate of the dimensions over which radiation trapping occurs in the transverse plane of the film."
   ]
  },
  {
   "cell_type": "code",
   "execution_count": 32,
   "metadata": {},
   "outputs": [
    {
     "name": "stdout",
     "output_type": "stream",
     "text": [
      "Absorption depth: 1.807 cm\n"
     ]
    }
   ],
   "source": [
    "n_er = 2.17E20   # Dopant concentration [Er/cm3]\n",
    "sig_a = 5.1E-21  # Absorption cross section @ 1.536 [cm2]\n",
    "\n",
    "# Evaluate the attenuation constant (assuming Er is the dominant absorber in the EDTS)\n",
    "att = n_er * sig_a\n",
    "\n",
    "# Absorption depth\n",
    "print('Absorption depth: {0:.3f} cm'.format(2/att))"
   ]
  },
  {
   "cell_type": "code",
   "execution_count": 34,
   "metadata": {
    "scrolled": true
   },
   "outputs": [
    {
     "name": "stdout",
     "output_type": "stream",
     "text": [
      "Absorption depth: 0.00024669 cm\n",
      "Absorption depth: 2.4669 um\n"
     ]
    }
   ],
   "source": [
    "# Estimation from Jaya's paper\n",
    "from numpy import pi\n",
    "\n",
    "# For 0.5 mol% Er target\n",
    "k = 0.1  # Excinction coefficient (Im(n))\n",
    "lam0 = 1.55E-4  # Free space wavelength [cm]\n",
    "\n",
    "# Absorption depth\n",
    "delta_d = lam0 / (2*pi*k)\n",
    "\n",
    "print('Absorption depth: {:g} cm'.format(delta_d))\n",
    "print('Absorption depth: {:g} um'.format(1E4*delta_d))"
   ]
  }
 ],
 "metadata": {
  "kernelspec": {
   "display_name": "Python 3",
   "language": "python",
   "name": "python3"
  },
  "language_info": {
   "codemirror_mode": {
    "name": "ipython",
    "version": 3
   },
   "file_extension": ".py",
   "mimetype": "text/x-python",
   "name": "python",
   "nbconvert_exporter": "python",
   "pygments_lexer": "ipython3",
   "version": "3.6.1"
  }
 },
 "nbformat": 4,
 "nbformat_minor": 2
}
