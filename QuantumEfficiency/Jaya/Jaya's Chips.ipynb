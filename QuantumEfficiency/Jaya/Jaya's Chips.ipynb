{
 "cells": [
  {
   "cell_type": "markdown",
   "metadata": {},
   "source": [
    "Purcell factor when comparing the chips in air and covered in cassia oil (n=1.6). Transition thickness not taken into account.\n",
    "\n",
    "\n",
    "| Er    | n      | d    | Fp (leaky+WG) | Fp (leaky) |\n",
    "|-------|--------|------|---------------|------------|\n",
    "| 0.125 | 1.5754 | 1250 | 0.9303486     | 1.582538   |\n",
    "| 0.5   | 1.5850 | 1000 | 0.9541385     | 1.725711   |\n",
    "| 0.75  | 1.6438 | 520  | 1.081218      | 1.910728   |\n",
    "| 1     | 1.6682 | 480  | 1.068300      | 1.989943   |"
   ]
  },
  {
   "cell_type": "code",
   "execution_count": null,
   "metadata": {
    "collapsed": true
   },
   "outputs": [],
   "source": []
  }
 ],
 "metadata": {
  "kernelspec": {
   "display_name": "Python [conda root]",
   "language": "python",
   "name": "conda-root-py"
  },
  "language_info": {
   "codemirror_mode": {
    "name": "ipython",
    "version": 3
   },
   "file_extension": ".py",
   "mimetype": "text/x-python",
   "name": "python",
   "nbconvert_exporter": "python",
   "pygments_lexer": "ipython3",
   "version": "3.5.2"
  }
 },
 "nbformat": 4,
 "nbformat_minor": 2
}
