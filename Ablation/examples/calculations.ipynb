{
 "cells": [
  {
   "cell_type": "code",
   "execution_count": 1,
   "metadata": {},
   "outputs": [],
   "source": [
    "import pandas as pd\n",
    "import numpy as np\n",
    "from numpy import pi\n",
    "from scipy.optimize import curve_fit\n",
    "import matplotlib.pyplot as plt\n",
    "%matplotlib notebook"
   ]
  },
  {
   "cell_type": "code",
   "execution_count": 5,
   "metadata": {},
   "outputs": [],
   "source": [
    "# https://stackoverflow.com/questions/34478398/import-local-function-from-a-module-housed-in-another-directory-with-relative-im\n",
    "import os\n",
    "import sys\n",
    "module_path = os.path.abspath(os.path.join('..'))\n",
    "if module_path not in sys.path:\n",
    "    sys.path.append(module_path)\n",
    "    \n",
    "from ablation.main import F_avg"
   ]
  },
  {
   "cell_type": "markdown",
   "metadata": {},
   "source": [
    "# Fluence"
   ]
  },
  {
   "cell_type": "code",
   "execution_count": 6,
   "metadata": {},
   "outputs": [
    {
     "name": "stdout",
     "output_type": "stream",
     "text": [
      "F_avg: Min = 0.0526132 and Max = 5.26132 J/cm2\n"
     ]
    }
   ],
   "source": [
    "w0 = 220/2  # beam waist (um)\n",
    "print('F_avg: Min = {:g} and Max = {:g} J/cm2'.format(F_avg(E=20E-6, w=w0*1E-4), F_avg(E=2E-3, w=w0*1E-4)))"
   ]
  },
  {
   "cell_type": "markdown",
   "metadata": {},
   "source": [
    "# Gaussian beam radius as a function of distance from the focus\n",
    "\n",
    "https://www.edmundoptics.com/resources/tech-tools/gaussian-beams/\n",
    "\n",
    "http://www.colorado.edu/physics/phys4510/phys4510_fa05/Chapter5.pdf\n",
    "\n",
    "To calculate the Beam Waist, w0 (mm) - http://www.calctool.org/CALC/phys/optics/f_NA"
   ]
  },
  {
   "cell_type": "code",
   "execution_count": 7,
   "metadata": {},
   "outputs": [
    {
     "data": {
      "text/plain": [
       "Text(0,0.5,'w(z) [mm]')"
      ]
     },
     "execution_count": 7,
     "metadata": {},
     "output_type": "execute_result"
    },
    {
     "data": {
      "image/png": "[encoded data removed]",
      "text/plain": [
       "<matplotlib.figure.Figure at 0x151b806b70>"
      ]
     },
     "metadata": {},
     "output_type": "display_data"
    }
   ],
   "source": [
    "def z_R(w0, lam):\n",
    "    \"\"\"Rayleigh Range, z_R (mm)\"\"\"\n",
    "    return pi * w0**2 / (lam*1E-6)\n",
    "\n",
    "def w(z, w0, z_R):\n",
    "    \"\"\"Half Beam Diameter, w(z) (mm)\"\"\"\n",
    "    return w0 * np.sqrt(1 + (z/z_R)**2)\n",
    "\n",
    "def theta(lam, w0):\n",
    "    \"\"\"Half Angle Divergence, θ (mrad)\"\"\"\n",
    "    return lam*1E-3 / (pi*w0)\n",
    "\n",
    "# Beam Waist, w0 (mm)\n",
    "w0 = 17E-3\n",
    "# Wavelength, λ (nm)\n",
    "lam = 800\n",
    "# Axial Distance, z (mm)\n",
    "z = np.linspace(0, 10, num=1000)\n",
    "\n",
    "# Calculations\n",
    "y = w(z, w0, z_R(w0, lam))\n",
    "\n",
    "fig, ax = plt.subplots()\n",
    "ax.plot(z, y, z, -y, color='black')\n",
    "ax.fill_between(z, y, -y, alpha=0.4)\n",
    "ax.set_title('Gaussian beam radius with distance from focal point')\n",
    "ax.set_xlabel('z [mm]')\n",
    "ax.set_ylabel('w(z) [mm]')"
   ]
  },
  {
   "cell_type": "code",
   "execution_count": 8,
   "metadata": {},
   "outputs": [
    {
     "data": {
      "text/plain": [
       "0.0344719320040303"
      ]
     },
     "execution_count": 8,
     "metadata": {},
     "output_type": "execute_result"
    }
   ],
   "source": [
    "# Get value of w0 at z\n",
    "y[np.where(z >= 2)[0][0]]"
   ]
  },
  {
   "cell_type": "markdown",
   "metadata": {},
   "source": [
    "# B11 System"
   ]
  },
  {
   "cell_type": "code",
   "execution_count": 9,
   "metadata": {},
   "outputs": [
    {
     "name": "stdout",
     "output_type": "stream",
     "text": [
      "37.5 109.64266500611578\n"
     ]
    }
   ],
   "source": [
    "# Spot size (major axis)\n",
    "D = 75  # minor axis diameter (normal to beam)\n",
    "AOI = 70  # degrees\n",
    "\n",
    "r_minor = D / 2\n",
    "r_major = 0.5 * D / np.sin(np.deg2rad(90-AOI))\n",
    "\n",
    "print(r_minor, r_major)"
   ]
  },
  {
   "cell_type": "code",
   "execution_count": 10,
   "metadata": {
    "scrolled": true
   },
   "outputs": [
    {
     "name": "stdout",
     "output_type": "stream",
     "text": [
      "Fluence in major 0.53 J/cm2 and minor 4.53 J/cm2 axis\n"
     ]
    }
   ],
   "source": [
    "# Fluence in major and minor axis\n",
    "E = 200E-6\n",
    "print('Fluence in major {:.3g} J/cm2 and minor {:.3g} J/cm2 axis'.format(F_avg(E, r_major*1E-4), F_avg(E, r_minor*1E-4)))"
   ]
  },
  {
   "cell_type": "code",
   "execution_count": 14,
   "metadata": {
    "scrolled": true
   },
   "outputs": [
    {
     "data": {
      "text/plain": [
       "2.0"
      ]
     },
     "execution_count": 14,
     "metadata": {},
     "output_type": "execute_result"
    }
   ],
   "source": [
    "# Pulser per spot/area\n",
    "v = 10  # mm/s\n",
    "f = 1E3  # Hz\n",
    "D = 20E-3  # mm\n",
    "\n",
    "# Average pulses per area = length drawn per sec / rastering speed\n",
    "f*D / v  # mm/s"
   ]
  },
  {
   "cell_type": "code",
   "execution_count": 19,
   "metadata": {},
   "outputs": [
    {
     "data": {
      "text/plain": [
       "2.5"
      ]
     },
     "execution_count": 19,
     "metadata": {},
     "output_type": "execute_result"
    }
   ],
   "source": [
    "# calculate speed required for x pulses per spot\n",
    "pps = 8\n",
    "f*D/pps"
   ]
  },
  {
   "cell_type": "markdown",
   "metadata": {},
   "source": [
    "# Beam through aperture at lens focal plane"
   ]
  },
  {
   "cell_type": "code",
   "execution_count": null,
   "metadata": {
    "collapsed": true
   },
   "outputs": [],
   "source": [
    "from scipy.special import j0\n",
    "from scipy.integrate import quad\n",
    "\n",
    "# Energy density of a truncated Gaussian beam at the focal plane of the objective lens\n",
    "# REF: Femtosecond laser ablation properties of borosilicate glass, Yakar\n",
    "def F(r, w, f, lam, a, E):\n",
    "    k = (2 * pi * w) / ( f * lam)\n",
    "    \n",
    "    def func(rho, k, r):\n",
    "        return rho * np.exp(-rho**2) * j0(k*r*rho)\n",
    "    \n",
    "    integral = quad(func, 0, a/w, args=(k, r))[0] **2\n",
    "    \n",
    "    return (2*E*k**2/pi) * integral"
   ]
  },
  {
   "cell_type": "code",
   "execution_count": null,
   "metadata": {
    "collapsed": true
   },
   "outputs": [],
   "source": [
    "w = 7E-3 / 2\n",
    "f = 40E-3\n",
    "lam = 780E-9\n",
    "a = 7E-3 / 2\n",
    "E = 100E-6\n",
    "\n",
    "r = np.linspace(0, 10E-6, num=1000)\n",
    "vF = np.vectorize(F)\n",
    "y = vF(r, w, f, lam, a, E)\n",
    "\n",
    "fig, ax = plt.subplots()\n",
    "ax.plot(r, y)\n",
    "\n",
    "a = 5.5E-3/ 2\n",
    "y2 = vF(r, w, f, lam, a, E)\n",
    "ax.plot(r, y2)"
   ]
  },
  {
   "cell_type": "code",
   "execution_count": null,
   "metadata": {
    "collapsed": true
   },
   "outputs": [],
   "source": [
    "fig, ax = plt.subplots()\n",
    "ax.plot(r, y2/max(y2))"
   ]
  }
 ],
 "metadata": {
  "kernelspec": {
   "display_name": "Python 3",
   "language": "python",
   "name": "python3"
  },
  "language_info": {
   "codemirror_mode": {
    "name": "ipython",
    "version": 3
   },
   "file_extension": ".py",
   "mimetype": "text/x-python",
   "name": "python",
   "nbconvert_exporter": "python",
   "pygments_lexer": "ipython3",
   "version": "3.6.4"
  }
 },
 "nbformat": 4,
 "nbformat_minor": 2
}
