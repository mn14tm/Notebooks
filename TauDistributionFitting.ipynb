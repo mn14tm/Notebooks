{
 "cells": [
  {
   "cell_type": "markdown",
   "metadata": {},
   "source": [
    "Strongly nonexponential time-resolved uorescence of quantum-dot ensembles in three-dimensional photonic crystals by Ivan S. Nikolaev"
   ]
  },
  {
   "cell_type": "code",
   "execution_count": 1,
   "metadata": {
    "collapsed": false
   },
   "outputs": [],
   "source": [
    "import matplotlib.pyplot as plt\n",
    "%matplotlib inline "
   ]
  },
  {
   "cell_type": "markdown",
   "metadata": {},
   "source": [
    "Model the nonexponential decay curve with a continuous distribution of decay rate,$\\gamma$, (or $1/\\tau$):\n",
    "\n",
    "$$ I(t) = I(0)\\int_{\\gamma = 0}^\\infty \\phi(\\gamma) e^{-\\gamma t} d\\gamma$$\n",
    "\n",
    "where $\\phi(\\gamma)$ is a distribution of decay rates with dimensions of time."
   ]
  },
  {
   "cell_type": "code",
   "execution_count": 12,
   "metadata": {
    "collapsed": true
   },
   "outputs": [],
   "source": [
    "from numpy import exp, arcsinh, log\n",
    "import numpy as np\n",
    "import scipy.optimize, scipy.integrate"
   ]
  },
  {
   "cell_type": "code",
   "execution_count": 17,
   "metadata": {
    "collapsed": false
   },
   "outputs": [
    {
     "name": "stdout",
     "output_type": "stream",
     "text": [
      "[ 0.99706203]\n"
     ]
    }
   ],
   "source": [
    "#Here's an example of fitting a curve defined in terms of an integral. \n",
    "#The curve is the integral of sin(t*w)/t+p over t from 0 to Pi. \n",
    "#Our x data points correspond to w, and we're adjusting the p parameter to to get the data to fit.\n",
    "\n",
    "import math, numpy, scipy.optimize, scipy.integrate\n",
    "\n",
    "def integrand(t, args):\n",
    "    w, p = args\n",
    "    return math.sin(t * w)/t + p\n",
    "\n",
    "def curve(w, p):\n",
    "    res = scipy.integrate.quad(integrand, 0.0, numpy.pi, [w, p])\n",
    "    return res[0]\n",
    "\n",
    "vcurve = numpy.vectorize(curve, excluded=set([1]))\n",
    "\n",
    "truexdata = numpy.asarray([0.0, 1.0, 2.0, 3.0, 4.0, 5.0, 6.0, 7.0])\n",
    "trueydata = vcurve(truexdata, 1.0)\n",
    "\n",
    "xdata = truexdata + 0.1 * numpy.random.randn(8)\n",
    "ydata = trueydata + 0.1 * numpy.random.randn(8)\n",
    "\n",
    "popt, pcov = scipy.optimize.curve_fit(vcurve,\n",
    "                                      xdata, ydata,\n",
    "                                      p0=[2.0])\n",
    "print(popt)\n",
    "plt.figure()\n",
    "plt.plot(xdata, ydata, 'ko', label=\"Original Noised Data\")\n",
    "plt.plot(xdata, vcurve(xdata, *popt), 'r-', label=\"Fitted Curve\")\n",
    "plt.legend()\n",
    "plt.show()"
   ]
  },
  {
   "cell_type": "code",
   "execution_count": 109,
   "metadata": {
    "collapsed": false
   },
   "outputs": [
    {
     "name": "stdout",
     "output_type": "stream",
     "text": [
      "[ 0.04903515  0.06780604]\n"
     ]
    },
    {
     "data": {
      "image/png": "[encoded data removed]",
      "text/plain": [
       "<matplotlib.figure.Figure at 0x769c240>"
      ]
     },
     "metadata": {},
     "output_type": "display_data"
    }
   ],
   "source": [
    "#TODO: Normalise phi\n",
    "#TODO: Make phi a function that works\n",
    "#TODO: Calculate chi-2\n",
    "\n",
    "def integrand(gamma, args):\n",
    "    # t is xdata and gammaDelta and gammaMF are what we are fitting\n",
    "    t, gammaDelta, gammaMF = args\n",
    "    \n",
    "    A = 1\n",
    "    w = arcsinh(gammaDelta/(2*gammaMF))\n",
    "    num = -log(gamma/gammaMF)**2\n",
    "    phi = A*exp(num/w**2)\n",
    "    \n",
    "    return phi*exp(-gamma*t)\n",
    "\n",
    "def curve(t, gammaDelta, gammaMF):\n",
    "    ub = np.inf  # The upper limit of integral, could use use np.inf for +infinity \n",
    "    # Integrates over the first argument of integrand, gamma\n",
    "    res = scipy.integrate.quad(integrand, 0.0, ub, [t, gammaDelta, gammaMF])\n",
    "    return res[0]\n",
    "\n",
    "# Only vectorise over t (exclude the gammas)\n",
    "vcurve = np.vectorize(curve, excluded=set([1,2]))\n",
    "\n",
    "truexdata = np.linspace(0,80,100)  # time variable\n",
    "trueydata = vcurve(truexdata, 1/25, 1/15)\n",
    "\n",
    "xdata = truexdata #+ 0.001 * np.random.randn(truexdata.size)\n",
    "ydata = trueydata + 0.01 * np.random.randn(truexdata.size)\n",
    "\n",
    "popt, pcov = scipy.optimize.curve_fit(vcurve,\n",
    "                                      xdata, ydata,\n",
    "                                      p0=[1/35, 1/15])\n",
    "print(popt)\n",
    "\n",
    "plt.figure()\n",
    "plt.plot(xdata, ydata, 'ko', label=\"Original Noised Data\")\n",
    "plt.plot(xdata, vcurve(xdata, *popt), 'r-', label=\"Fitted Curve\")\n",
    "plt.legend()\n",
    "plt.show()\n",
    "\n",
    "# fig = plt.figure()\n",
    "# ax = fig.add_subplot(2,1,1)\n",
    "# ax.plot(xdata, ydata, 'ko', label=\"Original Noised Data\")\n",
    "# ax.plot(xdata, vcurve(xdata, *popt), 'r-', label=\"Fitted Curve\")\n",
    "# # ax.set_yscale('log')\n",
    "# ax.legend(loc='best')\n",
    "# plt.show()"
   ]
  },
  {
   "cell_type": "code",
   "execution_count": null,
   "metadata": {
    "collapsed": true
   },
   "outputs": [],
   "source": []
  }
 ],
 "metadata": {
  "kernelspec": {
   "display_name": "Python 3",
   "language": "python",
   "name": "python3"
  },
  "language_info": {
   "codemirror_mode": {
    "name": "ipython",
    "version": 3
   },
   "file_extension": ".py",
   "mimetype": "text/x-python",
   "name": "python",
   "nbconvert_exporter": "python",
   "pygments_lexer": "ipython3",
   "version": "3.5.1"
  }
 },
 "nbformat": 4,
 "nbformat_minor": 0
}
